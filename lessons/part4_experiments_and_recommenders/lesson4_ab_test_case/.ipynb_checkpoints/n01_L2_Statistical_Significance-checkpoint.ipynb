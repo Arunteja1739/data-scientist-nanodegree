{
 "cells": [
  {
   "cell_type": "markdown",
   "metadata": {},
   "source": [
    "# Practice: Statistical Significance\n",
    "\n",
    "Let's say that we've collected data for a web-based experiment. In the experiment, we're testing the change in layout of a product information page to see if this affects the proportion of people who click on a button to go to the download page. This experiment has been designed to have a cookie-based diversion, and we record two things from each user: which page version they received, and whether or not they accessed the download page during the data recording period. (We aren't keeping track of any other factors in this example, such as number of pageviews, or time between accessing the page and making the download, that might be of further interest.)\n",
    "\n",
    "Your objective in this notebook is to perform a statistical test on both recorded metrics to see if there is a statistical difference between the two groups."
   ]
  },
  {
   "cell_type": "code",
   "execution_count": 9,
   "metadata": {},
   "outputs": [],
   "source": [
    "# import packages\n",
    "\n",
    "import numpy as np\n",
    "import pandas as pd\n",
    "import scipy.stats as stats\n",
    "from statsmodels.stats import proportion as proptests\n",
    "\n",
    "from jupyterthemes import jtplot\n",
    "\n",
    "\n",
    "import matplotlib.pyplot as plt\n",
    "%matplotlib inline\n",
    "jtplot.style(theme='solarizedd')\n",
    "plt.rcParams['figure.figsize'] = (20.0, 10.0)"
   ]
  },
  {
   "cell_type": "code",
   "execution_count": 10,
   "metadata": {},
   "outputs": [
    {
     "data": {
      "text/html": [
       "<div>\n",
       "<style scoped>\n",
       "    .dataframe tbody tr th:only-of-type {\n",
       "        vertical-align: middle;\n",
       "    }\n",
       "\n",
       "    .dataframe tbody tr th {\n",
       "        vertical-align: top;\n",
       "    }\n",
       "\n",
       "    .dataframe thead th {\n",
       "        text-align: right;\n",
       "    }\n",
       "</style>\n",
       "<table border=\"1\" class=\"dataframe\">\n",
       "  <thead>\n",
       "    <tr style=\"text-align: right;\">\n",
       "      <th></th>\n",
       "      <th>Day</th>\n",
       "      <th>Control Cookies</th>\n",
       "      <th>Control Downloads</th>\n",
       "      <th>Control Licenses</th>\n",
       "      <th>Experiment Cookies</th>\n",
       "      <th>Experiment Downloads</th>\n",
       "      <th>Experiment Licenses</th>\n",
       "    </tr>\n",
       "  </thead>\n",
       "  <tbody>\n",
       "    <tr>\n",
       "      <th>0</th>\n",
       "      <td>1</td>\n",
       "      <td>1764</td>\n",
       "      <td>246</td>\n",
       "      <td>1</td>\n",
       "      <td>1850</td>\n",
       "      <td>339</td>\n",
       "      <td>3</td>\n",
       "    </tr>\n",
       "    <tr>\n",
       "      <th>1</th>\n",
       "      <td>2</td>\n",
       "      <td>1541</td>\n",
       "      <td>234</td>\n",
       "      <td>2</td>\n",
       "      <td>1590</td>\n",
       "      <td>281</td>\n",
       "      <td>2</td>\n",
       "    </tr>\n",
       "    <tr>\n",
       "      <th>2</th>\n",
       "      <td>3</td>\n",
       "      <td>1457</td>\n",
       "      <td>240</td>\n",
       "      <td>1</td>\n",
       "      <td>1515</td>\n",
       "      <td>274</td>\n",
       "      <td>1</td>\n",
       "    </tr>\n",
       "    <tr>\n",
       "      <th>3</th>\n",
       "      <td>4</td>\n",
       "      <td>1587</td>\n",
       "      <td>224</td>\n",
       "      <td>1</td>\n",
       "      <td>1541</td>\n",
       "      <td>284</td>\n",
       "      <td>2</td>\n",
       "    </tr>\n",
       "    <tr>\n",
       "      <th>4</th>\n",
       "      <td>5</td>\n",
       "      <td>1606</td>\n",
       "      <td>253</td>\n",
       "      <td>2</td>\n",
       "      <td>1643</td>\n",
       "      <td>292</td>\n",
       "      <td>3</td>\n",
       "    </tr>\n",
       "    <tr>\n",
       "      <th>5</th>\n",
       "      <td>6</td>\n",
       "      <td>1681</td>\n",
       "      <td>287</td>\n",
       "      <td>3</td>\n",
       "      <td>1780</td>\n",
       "      <td>299</td>\n",
       "      <td>3</td>\n",
       "    </tr>\n",
       "    <tr>\n",
       "      <th>6</th>\n",
       "      <td>7</td>\n",
       "      <td>1534</td>\n",
       "      <td>262</td>\n",
       "      <td>5</td>\n",
       "      <td>1555</td>\n",
       "      <td>276</td>\n",
       "      <td>8</td>\n",
       "    </tr>\n",
       "    <tr>\n",
       "      <th>7</th>\n",
       "      <td>8</td>\n",
       "      <td>1798</td>\n",
       "      <td>331</td>\n",
       "      <td>12</td>\n",
       "      <td>1787</td>\n",
       "      <td>326</td>\n",
       "      <td>20</td>\n",
       "    </tr>\n",
       "    <tr>\n",
       "      <th>8</th>\n",
       "      <td>9</td>\n",
       "      <td>1478</td>\n",
       "      <td>223</td>\n",
       "      <td>30</td>\n",
       "      <td>1553</td>\n",
       "      <td>298</td>\n",
       "      <td>38</td>\n",
       "    </tr>\n",
       "    <tr>\n",
       "      <th>9</th>\n",
       "      <td>10</td>\n",
       "      <td>1461</td>\n",
       "      <td>236</td>\n",
       "      <td>32</td>\n",
       "      <td>1458</td>\n",
       "      <td>289</td>\n",
       "      <td>23</td>\n",
       "    </tr>\n",
       "  </tbody>\n",
       "</table>\n",
       "</div>"
      ],
      "text/plain": [
       "   Day  Control Cookies  Control Downloads  Control Licenses  \\\n",
       "0    1             1764                246                 1   \n",
       "1    2             1541                234                 2   \n",
       "2    3             1457                240                 1   \n",
       "3    4             1587                224                 1   \n",
       "4    5             1606                253                 2   \n",
       "5    6             1681                287                 3   \n",
       "6    7             1534                262                 5   \n",
       "7    8             1798                331                12   \n",
       "8    9             1478                223                30   \n",
       "9   10             1461                236                32   \n",
       "\n",
       "   Experiment Cookies  Experiment Downloads  Experiment Licenses  \n",
       "0                1850                   339                    3  \n",
       "1                1590                   281                    2  \n",
       "2                1515                   274                    1  \n",
       "3                1541                   284                    2  \n",
       "4                1643                   292                    3  \n",
       "5                1780                   299                    3  \n",
       "6                1555                   276                    8  \n",
       "7                1787                   326                   20  \n",
       "8                1553                   298                   38  \n",
       "9                1458                   289                   23  "
      ]
     },
     "execution_count": 10,
     "metadata": {},
     "output_type": "execute_result"
    }
   ],
   "source": [
    "# import data\n",
    "\n",
    "data = pd.read_csv('homepage-experiment-data.csv')\n",
    "data.head(10)"
   ]
  },
  {
   "cell_type": "markdown",
   "metadata": {},
   "source": [
    "In the dataset, the 'condition' column takes a 0 for the control group, and 1 for the experimental group. The 'click' column takes a values of 0 for no click, and 1 for a click.\n",
    "\n",
    "## Checking the Invariant Metric\n",
    "\n",
    "First of all, we should check that the number of visitors assigned to each group is similar. It's important to check the invariant metrics as a prerequisite so that our inferences on the evaluation metrics are founded on solid ground. If we find that the two groups are imbalanced on the invariant metric, then this will require us to look carefully at how the visitors were split so that any sources of bias are accounted for. It's possible that a statistically significant difference in an invariant metric will require us to revise random assignment procedures and re-do data collection.\n",
    "\n",
    "In this case, we want to do a two-sided hypothesis test on the proportion of visitors assigned to one of our conditions. Choosing the control or the experimental condition doesn't matter: you'll get the same result either way. Feel free to use whatever method you'd like: we'll highlight two main avenues below.\n",
    "\n",
    "If you want to take a simulation-based approach, you can simulate the number of visitors that would be assigned to each group for the number of total observations, assuming that we have an expected 50/50 split. Do this many times (200 000 repetitions should provide a good speed-variability balance in this case) and then see in how many simulated cases we get as extreme or more extreme a deviation from 50/50 that we actually observed. Don't forget that, since we have a two-sided test, an extreme case also includes values on the opposite side of 50/50. (e.g. Since simulated outcomes of .48 and lower are considered as being more extreme than an actual observation of 0.48, so too will simulated outcomes of .52 and higher.) The proportion of flagged simulation outcomes gives us a p-value on which to assess our observed proportion. We hope to see a larger p-value, insufficient evidence to reject the null hypothesis.\n",
    "\n",
    "If you want to take an analytic approach, you could use the exact binomial distribution to compute a p-value for the test. The more usual approach, however, is to use the normal distribution approximation. Recall that this is possible thanks to our large sample size and the central limit theorem. To get a precise p-value, you should also perform a \n",
    "continuity correction, either adding or subtracting 0.5 to the total count before computing the area underneath the curve. (e.g. If we had 415 / 850 assigned to the control group, then the normal approximation would take the area to the left of $(415 + 0.5) / 850 = 0.489$ and to the right of $(435 - 0.5) / 850 = 0.511$.)\n",
    "\n",
    "You can check your results by completing the following the workspace and the solution on the following page. You could also try using multiple approaches and seeing if they come up with similar outcomes!"
   ]
  },
  {
   "cell_type": "code",
   "execution_count": 11,
   "metadata": {},
   "outputs": [],
   "source": [
    "# your work here: feel free to create additional code cells as needed!\n"
   ]
  },
  {
   "cell_type": "code",
   "execution_count": 12,
   "metadata": {},
   "outputs": [
    {
     "data": {
      "text/plain": [
       "control_cookies         46851\n",
       "control_downloads        7554\n",
       "control_licenses          710\n",
       "experiment_cookies      47346\n",
       "experiment_downloads     8548\n",
       "experiment_licenses       732\n",
       "both_cookies            94197\n",
       "both_downloads          16102\n",
       "both_licenses            1442\n",
       "dtype: int64"
      ]
     },
     "execution_count": 12,
     "metadata": {},
     "output_type": "execute_result"
    }
   ],
   "source": [
    "totals = data.sum().drop('Day')\n",
    "totals = totals.rename(index={\n",
    "    'Control Cookies': 'control_cookies',\n",
    "    'Control Downloads': 'control_downloads',\n",
    "    'Control Licenses': 'control_licenses',\n",
    "    'Experiment Cookies': 'experiment_cookies',\n",
    "    'Experiment Downloads': 'experiment_downloads',\n",
    "    'Experiment Licenses': 'experiment_licenses',\n",
    "})\n",
    "totals['both_cookies'] = totals['control_cookies'] + totals['experiment_cookies']\n",
    "totals['both_downloads'] = totals['control_downloads'] + totals['experiment_downloads']\n",
    "totals['both_licenses'] = totals['control_licenses'] + totals['experiment_licenses']\n",
    "totals"
   ]
  },
  {
   "cell_type": "markdown",
   "metadata": {},
   "source": [
    "### Analytically"
   ]
  },
  {
   "cell_type": "markdown",
   "metadata": {},
   "source": [
    "### Download rate"
   ]
  },
  {
   "cell_type": "markdown",
   "metadata": {},
   "source": [
    "Let's find the p-value (the probability of the current value given a N(0.5, sigma))"
   ]
  },
  {
   "cell_type": "code",
   "execution_count": 13,
   "metadata": {},
   "outputs": [],
   "source": [
    "n_1 = totals.experiment_cookies\n",
    "n = totals.both_cookies\n",
    "current_frac = (n_1 + 0.5) / n\n",
    "p = 0.5\n",
    "sigma = np.sqrt(p * (1 - p) / n)"
   ]
  },
  {
   "cell_type": "code",
   "execution_count": 14,
   "metadata": {},
   "outputs": [
    {
     "data": {
      "text/plain": [
       "1.6160810608583913"
      ]
     },
     "execution_count": 14,
     "metadata": {},
     "output_type": "execute_result"
    }
   ],
   "source": [
    "z = (current_frac - p) / sigma\n",
    "z"
   ]
  },
  {
   "cell_type": "code",
   "execution_count": 15,
   "metadata": {},
   "outputs": [
    {
     "data": {
      "text/plain": [
       "0.10607678842460189"
      ]
     },
     "execution_count": 15,
     "metadata": {},
     "output_type": "execute_result"
    }
   ],
   "source": [
    "p_value = 2 * (1 - stats.norm.cdf(z))\n",
    "p_value"
   ]
  },
  {
   "cell_type": "code",
   "execution_count": 16,
   "metadata": {},
   "outputs": [
    {
     "name": "stdout",
     "output_type": "stream",
     "text": [
      "The p-value is 0.10607678842460189. It has to be less than 0.05 to reject the null hypothesis\n"
     ]
    }
   ],
   "source": [
    "print('The p-value is {}. It has to be less than {} to reject the null hypothesis'.format(\n",
    "    p_value, 0.05))"
   ]
  },
  {
   "cell_type": "markdown",
   "metadata": {},
   "source": [
    "The null hypothesis is not rejected"
   ]
  },
  {
   "cell_type": "markdown",
   "metadata": {},
   "source": [
    "## Checking the Evaluation Metric\n",
    "\n",
    "After performing our checks on the invariant metric, we can move on to performing a hypothesis test on the evaluation metric: the click-through rate. In this case, we want to see that the experimental group has a significantly larger click-through rate than the control group, a one-tailed test.\n",
    "\n",
    "The simulation approach for this metric isn't too different from the approach for the invariant metric. You'll need the overall click-through rate as the common proportion to draw simulated values from for each group. You may also want to perform more simulations since there's higher variance for this test.\n",
    "\n",
    "There are a few analytic approaches possible here, but you'll probably make use of the normal approximation again in these cases. In addition to the pooled click-through rate, you'll need a pooled standard deviation in order to compute a z-score. While there is a continuity correction possible in this case as well, it's much more conservative than the p-value that a simulation will usually imply. Computing the z-score and resulting p-value without a continuity correction should be closer to the simulation's outcomes, though slightly more optimistic about there being a statistical difference between groups.\n",
    "\n",
    "As with the previous question, you'll find a quiz and solution following the workspace for you to check your results."
   ]
  },
  {
   "cell_type": "code",
   "execution_count": 134,
   "metadata": {},
   "outputs": [],
   "source": [
    "# your work here: feel free to create additional code cells as needed!\n"
   ]
  },
  {
   "cell_type": "markdown",
   "metadata": {},
   "source": [
    "### Analytically"
   ]
  },
  {
   "cell_type": "code",
   "execution_count": 17,
   "metadata": {},
   "outputs": [
    {
     "data": {
      "text/plain": [
       "control_cookies         46851\n",
       "control_downloads        7554\n",
       "control_licenses          710\n",
       "experiment_cookies      47346\n",
       "experiment_downloads     8548\n",
       "experiment_licenses       732\n",
       "both_cookies            94197\n",
       "both_downloads          16102\n",
       "both_licenses            1442\n",
       "dtype: int64"
      ]
     },
     "execution_count": 17,
     "metadata": {},
     "output_type": "execute_result"
    }
   ],
   "source": [
    "totals"
   ]
  },
  {
   "cell_type": "code",
   "execution_count": 18,
   "metadata": {},
   "outputs": [],
   "source": [
    "download_rate_0 = totals.control_downloads / totals.control_cookies\n",
    "download_rate_1 = totals.experiment_downloads / totals.experiment_cookies"
   ]
  },
  {
   "cell_type": "code",
   "execution_count": 20,
   "metadata": {},
   "outputs": [],
   "source": [
    "n_0 = totals.control_cookies\n",
    "n_1 = totals.experiment_cookies\n",
    "p_0 = download_rate_0\n",
    "p_1 = download_rate_1\n",
    "p_pooled = (totals.control_downloads + totals.experiment_downloads) / (totals.control_cookies + totals.experiment_cookies)\n",
    "sigma_pooled = np.sqrt(p_pooled * (1 - p_pooled) * ((1 / n_0) + (1 / n_1)))"
   ]
  },
  {
   "cell_type": "code",
   "execution_count": 21,
   "metadata": {},
   "outputs": [
    {
     "data": {
      "text/plain": [
       "0.1709396265273841"
      ]
     },
     "execution_count": 21,
     "metadata": {},
     "output_type": "execute_result"
    }
   ],
   "source": [
    "p_pooled"
   ]
  },
  {
   "cell_type": "code",
   "execution_count": 22,
   "metadata": {},
   "outputs": [
    {
     "data": {
      "text/plain": [
       "0.0024531940948456393"
      ]
     },
     "execution_count": 22,
     "metadata": {},
     "output_type": "execute_result"
    }
   ],
   "source": [
    "sigma_pooled"
   ]
  },
  {
   "cell_type": "code",
   "execution_count": 26,
   "metadata": {},
   "outputs": [
    {
     "data": {
      "text/plain": [
       "0.01930868281829759"
      ]
     },
     "execution_count": 26,
     "metadata": {},
     "output_type": "execute_result"
    }
   ],
   "source": [
    "d = p_1 - p_0\n",
    "d"
   ]
  },
  {
   "cell_type": "code",
   "execution_count": 27,
   "metadata": {},
   "outputs": [
    {
     "data": {
      "text/plain": [
       "7.870833726066236"
      ]
     },
     "execution_count": 27,
     "metadata": {},
     "output_type": "execute_result"
    }
   ],
   "source": [
    "z = d / sigma_pooled\n",
    "z"
   ]
  },
  {
   "cell_type": "code",
   "execution_count": 25,
   "metadata": {},
   "outputs": [
    {
     "data": {
      "text/plain": [
       "1.7763568394002505e-15"
      ]
     },
     "execution_count": 25,
     "metadata": {},
     "output_type": "execute_result"
    }
   ],
   "source": [
    "p_value = 1 - stats.norm.cdf(z)\n",
    "p_value"
   ]
  },
  {
   "cell_type": "markdown",
   "metadata": {},
   "source": [
    "As the p-value is not larger than 0.05 the null hypothesis can be rejected."
   ]
  },
  {
   "cell_type": "markdown",
   "metadata": {},
   "source": [
    "### License purchase rate"
   ]
  },
  {
   "cell_type": "code",
   "execution_count": 30,
   "metadata": {
    "scrolled": true
   },
   "outputs": [
    {
     "data": {
      "text/html": [
       "<div>\n",
       "<style scoped>\n",
       "    .dataframe tbody tr th:only-of-type {\n",
       "        vertical-align: middle;\n",
       "    }\n",
       "\n",
       "    .dataframe tbody tr th {\n",
       "        vertical-align: top;\n",
       "    }\n",
       "\n",
       "    .dataframe thead th {\n",
       "        text-align: right;\n",
       "    }\n",
       "</style>\n",
       "<table border=\"1\" class=\"dataframe\">\n",
       "  <thead>\n",
       "    <tr style=\"text-align: right;\">\n",
       "      <th></th>\n",
       "      <th>Day</th>\n",
       "      <th>Control Cookies</th>\n",
       "      <th>Control Downloads</th>\n",
       "      <th>Control Licenses</th>\n",
       "      <th>Experiment Cookies</th>\n",
       "      <th>Experiment Downloads</th>\n",
       "      <th>Experiment Licenses</th>\n",
       "    </tr>\n",
       "  </thead>\n",
       "  <tbody>\n",
       "    <tr>\n",
       "      <th>0</th>\n",
       "      <td>1</td>\n",
       "      <td>1764</td>\n",
       "      <td>246</td>\n",
       "      <td>1</td>\n",
       "      <td>1850</td>\n",
       "      <td>339</td>\n",
       "      <td>3</td>\n",
       "    </tr>\n",
       "    <tr>\n",
       "      <th>1</th>\n",
       "      <td>2</td>\n",
       "      <td>1541</td>\n",
       "      <td>234</td>\n",
       "      <td>2</td>\n",
       "      <td>1590</td>\n",
       "      <td>281</td>\n",
       "      <td>2</td>\n",
       "    </tr>\n",
       "    <tr>\n",
       "      <th>2</th>\n",
       "      <td>3</td>\n",
       "      <td>1457</td>\n",
       "      <td>240</td>\n",
       "      <td>1</td>\n",
       "      <td>1515</td>\n",
       "      <td>274</td>\n",
       "      <td>1</td>\n",
       "    </tr>\n",
       "    <tr>\n",
       "      <th>3</th>\n",
       "      <td>4</td>\n",
       "      <td>1587</td>\n",
       "      <td>224</td>\n",
       "      <td>1</td>\n",
       "      <td>1541</td>\n",
       "      <td>284</td>\n",
       "      <td>2</td>\n",
       "    </tr>\n",
       "    <tr>\n",
       "      <th>4</th>\n",
       "      <td>5</td>\n",
       "      <td>1606</td>\n",
       "      <td>253</td>\n",
       "      <td>2</td>\n",
       "      <td>1643</td>\n",
       "      <td>292</td>\n",
       "      <td>3</td>\n",
       "    </tr>\n",
       "    <tr>\n",
       "      <th>5</th>\n",
       "      <td>6</td>\n",
       "      <td>1681</td>\n",
       "      <td>287</td>\n",
       "      <td>3</td>\n",
       "      <td>1780</td>\n",
       "      <td>299</td>\n",
       "      <td>3</td>\n",
       "    </tr>\n",
       "    <tr>\n",
       "      <th>6</th>\n",
       "      <td>7</td>\n",
       "      <td>1534</td>\n",
       "      <td>262</td>\n",
       "      <td>5</td>\n",
       "      <td>1555</td>\n",
       "      <td>276</td>\n",
       "      <td>8</td>\n",
       "    </tr>\n",
       "    <tr>\n",
       "      <th>7</th>\n",
       "      <td>8</td>\n",
       "      <td>1798</td>\n",
       "      <td>331</td>\n",
       "      <td>12</td>\n",
       "      <td>1787</td>\n",
       "      <td>326</td>\n",
       "      <td>20</td>\n",
       "    </tr>\n",
       "    <tr>\n",
       "      <th>8</th>\n",
       "      <td>9</td>\n",
       "      <td>1478</td>\n",
       "      <td>223</td>\n",
       "      <td>30</td>\n",
       "      <td>1553</td>\n",
       "      <td>298</td>\n",
       "      <td>38</td>\n",
       "    </tr>\n",
       "    <tr>\n",
       "      <th>9</th>\n",
       "      <td>10</td>\n",
       "      <td>1461</td>\n",
       "      <td>236</td>\n",
       "      <td>32</td>\n",
       "      <td>1458</td>\n",
       "      <td>289</td>\n",
       "      <td>23</td>\n",
       "    </tr>\n",
       "    <tr>\n",
       "      <th>10</th>\n",
       "      <td>11</td>\n",
       "      <td>1478</td>\n",
       "      <td>240</td>\n",
       "      <td>35</td>\n",
       "      <td>1555</td>\n",
       "      <td>279</td>\n",
       "      <td>36</td>\n",
       "    </tr>\n",
       "    <tr>\n",
       "      <th>11</th>\n",
       "      <td>12</td>\n",
       "      <td>1529</td>\n",
       "      <td>228</td>\n",
       "      <td>23</td>\n",
       "      <td>1567</td>\n",
       "      <td>267</td>\n",
       "      <td>34</td>\n",
       "    </tr>\n",
       "    <tr>\n",
       "      <th>12</th>\n",
       "      <td>13</td>\n",
       "      <td>1700</td>\n",
       "      <td>273</td>\n",
       "      <td>30</td>\n",
       "      <td>1793</td>\n",
       "      <td>349</td>\n",
       "      <td>32</td>\n",
       "    </tr>\n",
       "    <tr>\n",
       "      <th>13</th>\n",
       "      <td>14</td>\n",
       "      <td>1668</td>\n",
       "      <td>286</td>\n",
       "      <td>35</td>\n",
       "      <td>1619</td>\n",
       "      <td>308</td>\n",
       "      <td>31</td>\n",
       "    </tr>\n",
       "    <tr>\n",
       "      <th>14</th>\n",
       "      <td>15</td>\n",
       "      <td>1822</td>\n",
       "      <td>306</td>\n",
       "      <td>33</td>\n",
       "      <td>1775</td>\n",
       "      <td>300</td>\n",
       "      <td>32</td>\n",
       "    </tr>\n",
       "    <tr>\n",
       "      <th>15</th>\n",
       "      <td>16</td>\n",
       "      <td>1463</td>\n",
       "      <td>234</td>\n",
       "      <td>31</td>\n",
       "      <td>1606</td>\n",
       "      <td>279</td>\n",
       "      <td>29</td>\n",
       "    </tr>\n",
       "    <tr>\n",
       "      <th>16</th>\n",
       "      <td>17</td>\n",
       "      <td>1573</td>\n",
       "      <td>252</td>\n",
       "      <td>32</td>\n",
       "      <td>1551</td>\n",
       "      <td>295</td>\n",
       "      <td>36</td>\n",
       "    </tr>\n",
       "    <tr>\n",
       "      <th>17</th>\n",
       "      <td>18</td>\n",
       "      <td>1603</td>\n",
       "      <td>260</td>\n",
       "      <td>33</td>\n",
       "      <td>1607</td>\n",
       "      <td>281</td>\n",
       "      <td>27</td>\n",
       "    </tr>\n",
       "    <tr>\n",
       "      <th>18</th>\n",
       "      <td>19</td>\n",
       "      <td>1596</td>\n",
       "      <td>263</td>\n",
       "      <td>29</td>\n",
       "      <td>1625</td>\n",
       "      <td>289</td>\n",
       "      <td>29</td>\n",
       "    </tr>\n",
       "    <tr>\n",
       "      <th>19</th>\n",
       "      <td>20</td>\n",
       "      <td>1817</td>\n",
       "      <td>320</td>\n",
       "      <td>35</td>\n",
       "      <td>1780</td>\n",
       "      <td>315</td>\n",
       "      <td>23</td>\n",
       "    </tr>\n",
       "    <tr>\n",
       "      <th>20</th>\n",
       "      <td>21</td>\n",
       "      <td>1602</td>\n",
       "      <td>271</td>\n",
       "      <td>38</td>\n",
       "      <td>1588</td>\n",
       "      <td>256</td>\n",
       "      <td>44</td>\n",
       "    </tr>\n",
       "    <tr>\n",
       "      <th>21</th>\n",
       "      <td>22</td>\n",
       "      <td>1743</td>\n",
       "      <td>277</td>\n",
       "      <td>29</td>\n",
       "      <td>1861</td>\n",
       "      <td>341</td>\n",
       "      <td>37</td>\n",
       "    </tr>\n",
       "    <tr>\n",
       "      <th>22</th>\n",
       "      <td>23</td>\n",
       "      <td>1631</td>\n",
       "      <td>249</td>\n",
       "      <td>26</td>\n",
       "      <td>1517</td>\n",
       "      <td>272</td>\n",
       "      <td>35</td>\n",
       "    </tr>\n",
       "    <tr>\n",
       "      <th>23</th>\n",
       "      <td>24</td>\n",
       "      <td>1489</td>\n",
       "      <td>241</td>\n",
       "      <td>29</td>\n",
       "      <td>1466</td>\n",
       "      <td>279</td>\n",
       "      <td>31</td>\n",
       "    </tr>\n",
       "    <tr>\n",
       "      <th>24</th>\n",
       "      <td>25</td>\n",
       "      <td>1529</td>\n",
       "      <td>226</td>\n",
       "      <td>34</td>\n",
       "      <td>1609</td>\n",
       "      <td>284</td>\n",
       "      <td>29</td>\n",
       "    </tr>\n",
       "    <tr>\n",
       "      <th>25</th>\n",
       "      <td>26</td>\n",
       "      <td>1612</td>\n",
       "      <td>276</td>\n",
       "      <td>36</td>\n",
       "      <td>1574</td>\n",
       "      <td>295</td>\n",
       "      <td>38</td>\n",
       "    </tr>\n",
       "    <tr>\n",
       "      <th>26</th>\n",
       "      <td>27</td>\n",
       "      <td>1760</td>\n",
       "      <td>291</td>\n",
       "      <td>42</td>\n",
       "      <td>1666</td>\n",
       "      <td>297</td>\n",
       "      <td>28</td>\n",
       "    </tr>\n",
       "    <tr>\n",
       "      <th>27</th>\n",
       "      <td>28</td>\n",
       "      <td>1548</td>\n",
       "      <td>271</td>\n",
       "      <td>38</td>\n",
       "      <td>1587</td>\n",
       "      <td>314</td>\n",
       "      <td>37</td>\n",
       "    </tr>\n",
       "    <tr>\n",
       "      <th>28</th>\n",
       "      <td>29</td>\n",
       "      <td>1781</td>\n",
       "      <td>254</td>\n",
       "      <td>33</td>\n",
       "      <td>1728</td>\n",
       "      <td>290</td>\n",
       "      <td>41</td>\n",
       "    </tr>\n",
       "  </tbody>\n",
       "</table>\n",
       "</div>"
      ],
      "text/plain": [
       "    Day  Control Cookies  Control Downloads  Control Licenses  \\\n",
       "0     1             1764                246                 1   \n",
       "1     2             1541                234                 2   \n",
       "2     3             1457                240                 1   \n",
       "3     4             1587                224                 1   \n",
       "4     5             1606                253                 2   \n",
       "5     6             1681                287                 3   \n",
       "6     7             1534                262                 5   \n",
       "7     8             1798                331                12   \n",
       "8     9             1478                223                30   \n",
       "9    10             1461                236                32   \n",
       "10   11             1478                240                35   \n",
       "11   12             1529                228                23   \n",
       "12   13             1700                273                30   \n",
       "13   14             1668                286                35   \n",
       "14   15             1822                306                33   \n",
       "15   16             1463                234                31   \n",
       "16   17             1573                252                32   \n",
       "17   18             1603                260                33   \n",
       "18   19             1596                263                29   \n",
       "19   20             1817                320                35   \n",
       "20   21             1602                271                38   \n",
       "21   22             1743                277                29   \n",
       "22   23             1631                249                26   \n",
       "23   24             1489                241                29   \n",
       "24   25             1529                226                34   \n",
       "25   26             1612                276                36   \n",
       "26   27             1760                291                42   \n",
       "27   28             1548                271                38   \n",
       "28   29             1781                254                33   \n",
       "\n",
       "    Experiment Cookies  Experiment Downloads  Experiment Licenses  \n",
       "0                 1850                   339                    3  \n",
       "1                 1590                   281                    2  \n",
       "2                 1515                   274                    1  \n",
       "3                 1541                   284                    2  \n",
       "4                 1643                   292                    3  \n",
       "5                 1780                   299                    3  \n",
       "6                 1555                   276                    8  \n",
       "7                 1787                   326                   20  \n",
       "8                 1553                   298                   38  \n",
       "9                 1458                   289                   23  \n",
       "10                1555                   279                   36  \n",
       "11                1567                   267                   34  \n",
       "12                1793                   349                   32  \n",
       "13                1619                   308                   31  \n",
       "14                1775                   300                   32  \n",
       "15                1606                   279                   29  \n",
       "16                1551                   295                   36  \n",
       "17                1607                   281                   27  \n",
       "18                1625                   289                   29  \n",
       "19                1780                   315                   23  \n",
       "20                1588                   256                   44  \n",
       "21                1861                   341                   37  \n",
       "22                1517                   272                   35  \n",
       "23                1466                   279                   31  \n",
       "24                1609                   284                   29  \n",
       "25                1574                   295                   38  \n",
       "26                1666                   297                   28  \n",
       "27                1587                   314                   37  \n",
       "28                1728                   290                   41  "
      ]
     },
     "execution_count": 30,
     "metadata": {},
     "output_type": "execute_result"
    }
   ],
   "source": [
    "data"
   ]
  },
  {
   "cell_type": "code",
   "execution_count": 33,
   "metadata": {},
   "outputs": [
    {
     "data": {
      "text/plain": [
       "(21, 7)"
      ]
     },
     "execution_count": 33,
     "metadata": {},
     "output_type": "execute_result"
    }
   ],
   "source": [
    "data[data.Day < 22].shape"
   ]
  },
  {
   "cell_type": "code",
   "execution_count": 34,
   "metadata": {},
   "outputs": [
    {
     "data": {
      "text/plain": [
       "(21, 7)"
      ]
     },
     "execution_count": 34,
     "metadata": {},
     "output_type": "execute_result"
    }
   ],
   "source": [
    "data[data.Day > 8].shape"
   ]
  },
  {
   "cell_type": "code",
   "execution_count": 35,
   "metadata": {},
   "outputs": [],
   "source": [
    "cookies_0 = data[data.Day < 22]['Control Cookies'].sum()\n",
    "cookies_1 = data[data.Day < 22]['Experiment Cookies'].sum()\n",
    "\n",
    "purchases_0 = data[data.Day > 8]['Control Licenses'].sum()\n",
    "purchases_1 = data[data.Day > 8]['Experiment Licenses'].sum()"
   ]
  },
  {
   "cell_type": "code",
   "execution_count": 36,
   "metadata": {},
   "outputs": [],
   "source": [
    "n_0 = cookies_0\n",
    "n_1 = cookies_1\n",
    "p_0 = purchases_0 / cookies_0\n",
    "p_1 = purchases_1 / cookies_1\n",
    "p_pooled = (purchases_0 + purchases_1) / (n_0 + n_1)\n",
    "sigma_pooled = np.sqrt(p_pooled * (1 - p_pooled) * ((1 / n_0) + (1 / n_1)))"
   ]
  },
  {
   "cell_type": "code",
   "execution_count": 37,
   "metadata": {},
   "outputs": [
    {
     "data": {
      "text/plain": [
       "0.020232241246519345"
      ]
     },
     "execution_count": 37,
     "metadata": {},
     "output_type": "execute_result"
    }
   ],
   "source": [
    "p_0"
   ]
  },
  {
   "cell_type": "code",
   "execution_count": 40,
   "metadata": {},
   "outputs": [
    {
     "data": {
      "text/plain": [
       "0.020094356106936922"
      ]
     },
     "execution_count": 40,
     "metadata": {},
     "output_type": "execute_result"
    }
   ],
   "source": [
    "p_1"
   ]
  },
  {
   "cell_type": "code",
   "execution_count": 41,
   "metadata": {},
   "outputs": [
    {
     "data": {
      "text/plain": [
       "0.020162711466165415"
      ]
     },
     "execution_count": 41,
     "metadata": {},
     "output_type": "execute_result"
    }
   ],
   "source": [
    "p_pooled"
   ]
  },
  {
   "cell_type": "code",
   "execution_count": 39,
   "metadata": {},
   "outputs": [
    {
     "data": {
      "text/plain": [
       "0.0010772993492029904"
      ]
     },
     "execution_count": 39,
     "metadata": {},
     "output_type": "execute_result"
    }
   ],
   "source": [
    "sigma_pooled"
   ]
  },
  {
   "cell_type": "code",
   "execution_count": 42,
   "metadata": {},
   "outputs": [
    {
     "data": {
      "text/plain": [
       "-0.0001378851395824228"
      ]
     },
     "execution_count": 42,
     "metadata": {},
     "output_type": "execute_result"
    }
   ],
   "source": [
    "d = p_1 - p_0\n",
    "d"
   ]
  },
  {
   "cell_type": "code",
   "execution_count": 43,
   "metadata": {},
   "outputs": [
    {
     "data": {
      "text/plain": [
       "-0.12799148136906724"
      ]
     },
     "execution_count": 43,
     "metadata": {},
     "output_type": "execute_result"
    }
   ],
   "source": [
    "z = d / sigma_pooled\n",
    "z"
   ]
  },
  {
   "cell_type": "code",
   "execution_count": 44,
   "metadata": {},
   "outputs": [
    {
     "data": {
      "text/plain": [
       "0.550922142761739"
      ]
     },
     "execution_count": 44,
     "metadata": {},
     "output_type": "execute_result"
    }
   ],
   "source": [
    "p_value = 1 - stats.norm.cdf(z)\n",
    "p_value"
   ]
  },
  {
   "cell_type": "markdown",
   "metadata": {},
   "source": [
    "The null hypothesis cannot be rejected"
   ]
  },
  {
   "cell_type": "code",
   "execution_count": null,
   "metadata": {},
   "outputs": [],
   "source": []
  }
 ],
 "metadata": {
  "kernelspec": {
   "display_name": "data",
   "language": "python",
   "name": "data"
  },
  "language_info": {
   "codemirror_mode": {
    "name": "ipython",
    "version": 3
   },
   "file_extension": ".py",
   "mimetype": "text/x-python",
   "name": "python",
   "nbconvert_exporter": "python",
   "pygments_lexer": "ipython3",
   "version": "3.6.5"
  }
 },
 "nbformat": 4,
 "nbformat_minor": 2
}
