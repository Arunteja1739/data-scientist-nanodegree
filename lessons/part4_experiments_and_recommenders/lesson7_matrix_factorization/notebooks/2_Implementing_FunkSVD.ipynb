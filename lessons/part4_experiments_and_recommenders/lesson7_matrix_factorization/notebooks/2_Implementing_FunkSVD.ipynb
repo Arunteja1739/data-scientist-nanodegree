{
 "cells": [
  {
   "cell_type": "markdown",
   "metadata": {},
   "source": [
    "### Implementing FunkSVD\n",
    "\n",
    "In this notebook we will take a look at writing our own function that performs FunkSVD, which will follow the steps you saw in the previous video.  If you find that you aren't ready to tackle this task on your own, feel free to skip to the following video where you can watch as I walk through the steps.\n",
    "\n",
    "To test our algorithm, we will run it on the subset of the data you worked with earlier.  Run the cell below to get started."
   ]
  },
  {
   "cell_type": "code",
   "execution_count": 1,
   "metadata": {},
   "outputs": [
    {
     "name": "stdout",
     "output_type": "stream",
     "text": [
      "[[10. 10. 10. 10.]\n",
      " [10.  4.  9. 10.]\n",
      " [ 8.  9. 10.  5.]\n",
      " [ 9.  8. 10. 10.]\n",
      " [10.  5.  9.  9.]\n",
      " [ 6.  4. 10.  6.]\n",
      " [ 9.  8. 10.  9.]\n",
      " [10.  5.  9.  8.]\n",
      " [ 7.  8. 10.  8.]\n",
      " [ 9.  5.  9.  7.]\n",
      " [ 9.  8. 10.  8.]\n",
      " [ 9. 10. 10.  9.]\n",
      " [10.  9. 10.  8.]\n",
      " [ 5.  8.  5.  8.]\n",
      " [10.  8. 10. 10.]\n",
      " [ 9.  9. 10. 10.]\n",
      " [ 9.  8.  8.  8.]\n",
      " [10.  8.  1. 10.]\n",
      " [ 5.  6. 10. 10.]\n",
      " [ 8.  7. 10.  7.]]\n"
     ]
    }
   ],
   "source": [
    "import numpy as np\n",
    "import pandas as pd\n",
    "import matplotlib.pyplot as plt\n",
    "from scipy import sparse\n",
    "import svd_tests as t\n",
    "from time import time\n",
    "from tqdm import tqdm\n",
    "%matplotlib inline\n",
    "\n",
    "# Read in the datasets\n",
    "movies = pd.read_csv('data/movies_clean.csv')\n",
    "reviews = pd.read_csv('data/reviews_clean.csv')\n",
    "\n",
    "del movies['Unnamed: 0']\n",
    "del reviews['Unnamed: 0']\n",
    "\n",
    "# Create user-by-item matrix\n",
    "user_items = reviews[['user_id', 'movie_id', 'rating', 'timestamp']]\n",
    "user_by_movie = user_items.groupby(['user_id', 'movie_id'])['rating'].max().unstack()\n",
    "\n",
    "# Create data subset\n",
    "user_movie_subset = user_by_movie[[73486, 75314,  68646, 99685]].dropna(axis=0)\n",
    "ratings_mat = np.matrix(user_movie_subset)\n",
    "print(ratings_mat)"
   ]
  },
  {
   "cell_type": "markdown",
   "metadata": {},
   "source": [
    "`1.` You will use the **user_movie_subset** matrix to show that your FunkSVD algorithm will converge.  In the below cell, use the comments and document string to assist you as you complete writing your own function to complete FunkSVD.  You may also want to try to complete the function on your own without the assistance of comments.  You may feel free to remove and add to the function in any way that gets you a working solution! \n",
    "\n",
    "**Notice:** There isn't a sigma matrix in this version of the matrix factorization."
   ]
  },
  {
   "cell_type": "code",
   "execution_count": 17,
   "metadata": {},
   "outputs": [
    {
     "data": {
      "text/plain": [
       "0.29718440668560075"
      ]
     },
     "execution_count": 17,
     "metadata": {},
     "output_type": "execute_result"
    }
   ],
   "source": [
    "np.random.rand()"
   ]
  },
  {
   "cell_type": "code",
   "execution_count": 3,
   "metadata": {},
   "outputs": [],
   "source": [
    "def FunkSVD(ratings_mat, latent_features=4, learning_rate=0.0001, iters=100):\n",
    "    '''\n",
    "    This function performs matrix factorization using a basic form of FunkSVD with no regularization\n",
    "    \n",
    "    INPUT:\n",
    "    ratings_mat - (numpy array) a matrix with users as rows, movies as columns, and ratings as values\n",
    "    latent_features - (int) the number of latent features used\n",
    "    learning_rate - (float) the learning rate \n",
    "    iters - (int) the number of iterations\n",
    "    \n",
    "    OUTPUT:\n",
    "    user_mat - (numpy array) a user by latent feature matrix\n",
    "    movie_mat - (numpy array) a latent feature by movie matrix\n",
    "    '''\n",
    "    \n",
    "    # Set up useful values to be used through the rest of the function\n",
    "    n_users = ratings_mat.shape[0]  # number of rows in the matrix\n",
    "    n_movies = ratings_mat.shape[1]  # number of movies in the matrix\n",
    "    num_ratings = (1 - np.isnan(ratings_mat)).sum()  # total number of ratings in the matrix\n",
    "    \n",
    "    # initialize the user and movie matrices with random values\n",
    "    # helpful link: https://docs.scipy.org/doc/numpy/reference/generated/numpy.random.rand.html\n",
    "    min_rating, max_rating = (1, 10)\n",
    "    user_mat = np.random.rand(n_users, latent_features)\n",
    "    movie_mat = np.random.rand(latent_features, n_movies)\n",
    "    \n",
    "    # initialize sse at 0 for first iteration\n",
    "    sse_accum = 0\n",
    "    \n",
    "    # header for running results\n",
    "    print(\"Optimization Statistics\")\n",
    "    print(\"Iterations | Mean Squared Error \")\n",
    "    \n",
    "    # for each iteration\n",
    "    mean_iter_time = 0\n",
    "    for i in range(iters):\n",
    "        tic = time()\n",
    "        # update our sse\n",
    "        old_sse = sse_accum\n",
    "        sse_accum = 0\n",
    "        \n",
    "        # For each user-movie pair\n",
    "        for u in tqdm(range(n_users)):\n",
    "            for m in range(n_movies):\n",
    "                if not np.isnan(ratings_mat[u, m]):\n",
    "                    # compute the error as the actual minus the dot product of the user and movie latent features\n",
    "                    error = ratings_mat[u, m] - user_mat[u, :].dot(movie_mat[:, m])\n",
    "\n",
    "                    # Keep track of the total sum of squared errors for the matrix\n",
    "                    sse_accum += error**2\n",
    "                    \n",
    "                    # update the values in each matrix in the direction of the gradient\n",
    "                    user_mat[u, :] += learning_rate * 2 * error * movie_mat[:, m]\n",
    "                    movie_mat[:, m] += learning_rate * 2 * error * user_mat[u, :]\n",
    "        toc = time()\n",
    "                    \n",
    "        # print results for iteration\n",
    "        iter_time = toc - tic\n",
    "        mean_iter_time = (mean_iter_time * i + iter_time) / (i + 1)\n",
    "        eta = mean_iter_time * (iters - i -1)\n",
    "        print('Iteration {} | {} -- Iter time: {} sec. ETA: {} sec'.format(\n",
    "            i, sse_accum / num_ratings, iter_time, eta))\n",
    "        \n",
    "    return user_mat, movie_mat "
   ]
  },
  {
   "cell_type": "markdown",
   "metadata": {},
   "source": [
    "`2.` Try out your function on the **user_movie_subset** dataset.  First try 4 latent features, a learning rate of 0.005, and 10 iterations.  When you take the dot product of the resulting U and V matrices, how does the resulting **user_movie** matrix compare to the original subset of the data?"
   ]
  },
  {
   "cell_type": "code",
   "execution_count": 4,
   "metadata": {},
   "outputs": [
    {
     "name": "stderr",
     "output_type": "stream",
     "text": [
      "100%|██████████| 20/20 [00:00<00:00, 3800.05it/s]\n",
      "100%|██████████| 20/20 [00:00<00:00, 4937.09it/s]\n",
      "100%|██████████| 20/20 [00:00<00:00, 5813.71it/s]\n",
      "100%|██████████| 20/20 [00:00<00:00, 6557.70it/s]\n",
      "100%|██████████| 20/20 [00:00<00:00, 5147.96it/s]\n",
      "100%|██████████| 20/20 [00:00<00:00, 2895.22it/s]\n",
      "100%|██████████| 20/20 [00:00<00:00, 5686.42it/s]\n",
      "100%|██████████| 20/20 [00:00<00:00, 4753.83it/s]\n",
      "100%|██████████| 20/20 [00:00<00:00, 3861.63it/s]\n",
      "100%|██████████| 20/20 [00:00<00:00, 2169.45it/s]"
     ]
    },
    {
     "name": "stdout",
     "output_type": "stream",
     "text": [
      "Optimization Statistics\n",
      "Iterations | Mean Squared Error \n",
      "Iteration 0 | 48.758815098045 -- Iter time: 0.009335756301879883 sec. ETA: 0.08402180671691895 sec\n",
      "Iteration 1 | 19.352768342810617 -- Iter time: 0.0077550411224365234 sec. ETA: 0.06836318969726562 sec\n",
      "Iteration 2 | 4.912137351014641 -- Iter time: 0.006158113479614258 sec. ETA: 0.05424745877583821 sec\n",
      "Iteration 3 | 2.899248418635939 -- Iter time: 0.005427122116088867 sec. ETA: 0.0430140495300293 sec\n",
      "Iteration 4 | 2.7569771186235426 -- Iter time: 0.014972925186157227 sec. ETA: 0.04364895820617676 sec\n",
      "Iteration 5 | 2.72106994979535 -- Iter time: 0.008913040161132812 sec. ETA: 0.03504133224487305 sec\n",
      "Iteration 6 | 2.6916651440961648 -- Iter time: 0.008634805679321289 sec. ETA: 0.026227201734270372 sec\n",
      "Iteration 7 | 2.660425660873849 -- Iter time: 0.009706974029541016 sec. ETA: 0.01772594451904297 sec\n",
      "Iteration 8 | 2.625481697029229 -- Iter time: 0.012928009033203125 sec. ETA: 0.009314643012152778 sec\n",
      "Iteration 9 | 2.5859319854110585 -- Iter time: 0.012324094772338867 sec. ETA: 0.0 sec\n"
     ]
    },
    {
     "name": "stderr",
     "output_type": "stream",
     "text": [
      "\n"
     ]
    }
   ],
   "source": [
    "user_mat, movie_mat = FunkSVD(ratings_mat, latent_features=4, learning_rate=0.005, iters=10)\n",
    "# use your function with 4 latent features, lr of 0.005 and 10 iterations"
   ]
  },
  {
   "cell_type": "code",
   "execution_count": 5,
   "metadata": {},
   "outputs": [
    {
     "name": "stdout",
     "output_type": "stream",
     "text": [
      "[[10.17284711  9.04758688 10.66385153  9.94908877]\n",
      " [ 8.62258584  7.43233012  9.31515886  8.63226287]\n",
      " [ 7.6210927   6.84469039  8.50138972  7.68117199]\n",
      " [ 9.58744304  8.4013951   9.74227532  9.75376647]\n",
      " [ 8.67042162  7.58658114  8.7811012   8.54604007]\n",
      " [ 6.69634201  5.89278987  7.27924709  6.94380275]\n",
      " [ 9.3267497   8.08896863  9.50020664  9.26457908]\n",
      " [ 8.13410188  7.16235601  8.68736861  8.17456484]\n",
      " [ 8.16971683  7.15742566  9.29591987  8.47200849]\n",
      " [ 7.62760315  6.62449824  8.15555185  7.67623551]\n",
      " [ 9.18227751  7.99795966  8.8807156   8.95002686]\n",
      " [ 9.88615321  8.423767    9.80336953  9.61665618]\n",
      " [ 9.10873188  8.07048889  9.76807141  9.3144106 ]\n",
      " [ 6.70097932  5.9253199   6.79101468  6.65861496]\n",
      " [ 9.7554547   8.55343306 10.24267044  9.7069661 ]\n",
      " [ 9.74907532  8.4314104  10.19551076  9.81829753]\n",
      " [ 8.33953824  7.27647746  8.7473638   8.20384759]\n",
      " [ 7.44870141  6.30987798  6.94095934  7.26948433]\n",
      " [ 8.35688065  7.28373021  8.89231803  8.38621354]\n",
      " [ 7.87848067  7.00095116  8.82015177  8.06337513]]\n",
      "[[10. 10. 10. 10.]\n",
      " [10.  4.  9. 10.]\n",
      " [ 8.  9. 10.  5.]\n",
      " [ 9.  8. 10. 10.]\n",
      " [10.  5.  9.  9.]\n",
      " [ 6.  4. 10.  6.]\n",
      " [ 9.  8. 10.  9.]\n",
      " [10.  5.  9.  8.]\n",
      " [ 7.  8. 10.  8.]\n",
      " [ 9.  5.  9.  7.]\n",
      " [ 9.  8. 10.  8.]\n",
      " [ 9. 10. 10.  9.]\n",
      " [10.  9. 10.  8.]\n",
      " [ 5.  8.  5.  8.]\n",
      " [10.  8. 10. 10.]\n",
      " [ 9.  9. 10. 10.]\n",
      " [ 9.  8.  8.  8.]\n",
      " [10.  8.  1. 10.]\n",
      " [ 5.  6. 10. 10.]\n",
      " [ 8.  7. 10.  7.]]\n"
     ]
    }
   ],
   "source": [
    "#Compare the predicted and actual results\n",
    "print(np.dot(user_mat, movie_mat))\n",
    "print(ratings_mat)"
   ]
  },
  {
   "cell_type": "markdown",
   "metadata": {},
   "source": [
    "The algorithm seems to converge and the predicted matrix is similar to the acutal one. In any case the matrix under test has no missing values, so this was an easy case."
   ]
  },
  {
   "cell_type": "markdown",
   "metadata": {},
   "source": [
    "`3.` Let's try out the function again on the **user_movie_subset** dataset.  This time we will again use 4 latent features and a learning rate of 0.005.  However, let's bump up the number of iterations to 250.  When you take the dot product of the resulting U and V matrices, how does the resulting **user_movie** matrix compare to the original subset of the data?  What do you notice about your error at the end of the 250 iterations?"
   ]
  },
  {
   "cell_type": "code",
   "execution_count": 6,
   "metadata": {},
   "outputs": [
    {
     "name": "stderr",
     "output_type": "stream",
     "text": [
      "100%|██████████| 20/20 [00:00<00:00, 4419.01it/s]\n",
      "100%|██████████| 20/20 [00:00<00:00, 4915.10it/s]\n",
      "100%|██████████| 20/20 [00:00<00:00, 5999.15it/s]\n",
      "100%|██████████| 20/20 [00:00<00:00, 3367.57it/s]\n",
      "100%|██████████| 20/20 [00:00<00:00, 5808.88it/s]\n",
      "100%|██████████| 20/20 [00:00<00:00, 4126.02it/s]\n",
      "100%|██████████| 20/20 [00:00<00:00, 6221.16it/s]\n",
      "100%|██████████| 20/20 [00:00<00:00, 5861.65it/s]\n",
      "100%|██████████| 20/20 [00:00<00:00, 5276.85it/s]\n",
      "100%|██████████| 20/20 [00:00<00:00, 2097.52it/s]\n",
      "100%|██████████| 20/20 [00:00<00:00, 5688.73it/s]\n",
      "100%|██████████| 20/20 [00:00<00:00, 2218.27it/s]\n",
      "100%|██████████| 20/20 [00:00<00:00, 5243.86it/s]\n",
      "100%|██████████| 20/20 [00:00<00:00, 2292.78it/s]\n",
      "100%|██████████| 20/20 [00:00<00:00, 6424.61it/s]\n",
      "100%|██████████| 20/20 [00:00<00:00, 3207.27it/s]\n",
      "100%|██████████| 20/20 [00:00<00:00, 3519.74it/s]\n",
      "100%|██████████| 20/20 [00:00<00:00, 3835.67it/s]\n",
      "100%|██████████| 20/20 [00:00<00:00, 6341.55it/s]\n",
      "100%|██████████| 20/20 [00:00<00:00, 2853.85it/s]"
     ]
    },
    {
     "name": "stdout",
     "output_type": "stream",
     "text": [
      "Optimization Statistics\n",
      "Iterations | Mean Squared Error \n",
      "Iteration 0 | 44.001898704518446 -- Iter time: 0.008318901062011719 sec. ETA: 2.071406364440918 sec\n",
      "Iteration 1 | 15.131324867551902 -- Iter time: 0.008056163787841797 sec. ETA: 2.030508041381836 sec\n",
      "Iteration 2 | 4.115179205576126 -- Iter time: 0.005526065826416016 sec. ETA: 1.8031930923461914 sec\n",
      "Iteration 3 | 2.8002822170305346 -- Iter time: 0.010019063949584961 sec. ETA: 1.9630919694900513 sec\n",
      "Iteration 4 | 2.693577996708192 -- Iter time: 0.006443023681640625 sec. ETA: 1.8797976970672607 sec\n",
      "Iteration 5 | 2.6713434271323253 -- Iter time: 0.013384342193603516 sec. ETA: 2.1044007937113443 sec\n",
      "Iteration 6 | 2.658877702514063 -- Iter time: 0.009544134140014648 sec. ETA: 2.127697399684361 sec\n",
      "Iteration 7 | 2.646976996608253 -- Iter time: 0.0057032108306884766 sec. ETA: 2.026595890522003 sec\n",
      "Iteration 8 | 2.6339690981264194 -- Iter time: 0.00554203987121582 sec. ETA: 1.9423782030741372 sec\n",
      "Iteration 9 | 2.6196065063578304 -- Iter time: 0.017687082290649414 sec. ETA: 2.165376663208008 sec\n",
      "Iteration 10 | 2.603856407762384 -- Iter time: 0.00839996337890625 sec. ETA: 2.1428303501822734 sec\n",
      "Iteration 11 | 2.5866826849432893 -- Iter time: 0.013692855834960938 sec. ETA: 2.2276174624760947 sec\n",
      "Iteration 12 | 2.5680308218698826 -- Iter time: 0.0069429874420166016 sec. ETA: 2.17419851743258 sec\n",
      "Iteration 13 | 2.5478425547693284 -- Iter time: 0.011497020721435547 sec. ETA: 2.2041869844709123 sec\n",
      "Iteration 14 | 2.5260686062017834 -- Iter time: 0.013389110565185547 sec. ETA: 2.2582867940266924 sec\n",
      "Iteration 15 | 2.502676496381193 -- Iter time: 0.010668039321899414 sec. ETA: 2.2641548216342926 sec\n",
      "Iteration 16 | 2.477654647752471 -- Iter time: 0.011025190353393555 sec. ETA: 2.2729724996230183 sec\n",
      "Iteration 17 | 2.451013812388535 -- Iter time: 0.009006023406982422 sec. ETA: 2.253560596042209 sec\n",
      "Iteration 18 | 2.4227862892557113 -- Iter time: 0.012296915054321289 sec. ETA: 2.2752543625078703 sec\n",
      "Iteration 19 | 2.39302308448486 -- Iter time: 0.012161970138549805 sec. ETA: 2.291997194290161 sec\n"
     ]
    },
    {
     "name": "stderr",
     "output_type": "stream",
     "text": [
      "\n",
      "100%|██████████| 20/20 [00:00<00:00, 3119.60it/s]\n",
      "100%|██████████| 20/20 [00:00<00:00, 3336.23it/s]\n",
      "100%|██████████| 20/20 [00:00<00:00, 3786.33it/s]\n",
      "100%|██████████| 20/20 [00:00<00:00, 5152.07it/s]\n",
      "100%|██████████| 20/20 [00:00<00:00, 3039.46it/s]\n",
      "100%|██████████| 20/20 [00:00<00:00, 3991.34it/s]\n",
      "100%|██████████| 20/20 [00:00<00:00, 4165.77it/s]\n",
      "100%|██████████| 20/20 [00:00<00:00, 8028.91it/s]\n",
      "100%|██████████| 20/20 [00:00<00:00, 4381.16it/s]\n",
      "100%|██████████| 20/20 [00:00<00:00, 3171.62it/s]\n",
      "100%|██████████| 20/20 [00:00<00:00, 3662.99it/s]\n",
      "100%|██████████| 20/20 [00:00<00:00, 2489.42it/s]\n",
      "100%|██████████| 20/20 [00:00<00:00, 2643.75it/s]\n",
      "100%|██████████| 20/20 [00:00<00:00, 1894.32it/s]\n",
      "100%|██████████| 20/20 [00:00<00:00, 1964.09it/s]\n",
      "100%|██████████| 20/20 [00:00<00:00, 4356.13it/s]\n"
     ]
    },
    {
     "name": "stdout",
     "output_type": "stream",
     "text": [
      "Iteration 20 | 2.361789099768556 -- Iter time: 0.017410755157470703 sec. ETA: 2.36322393871489 sec\n",
      "Iteration 21 | 2.3291565342346168 -- Iter time: 0.01517176628112793 sec. ETA: 2.4031886620955034 sec\n",
      "Iteration 22 | 2.295196884910007 -- Iter time: 0.008558034896850586 sec. ETA: 2.373084254886793 sec\n",
      "Iteration 23 | 2.25997217053878 -- Iter time: 0.015062093734741211 sec. ETA: 2.4060219327608743 sec\n",
      "Iteration 24 | 2.223526226737551 -- Iter time: 0.014061212539672852 sec. ETA: 2.4261116981506348 sec\n",
      "Iteration 25 | 2.185877075044006 -- Iter time: 0.013810873031616211 sec. ETA: 2.441417694091797 sec\n",
      "Iteration 26 | 2.147011412298075 -- Iter time: 0.010787725448608398 sec. ETA: 2.4295979252567994 sec\n",
      "Iteration 27 | 2.106882175553292 -- Iter time: 0.007863044738769531 sec. ETA: 2.3946633338928223 sec\n",
      "Iteration 28 | 2.065409909211117 -- Iter time: 0.01318502426147461 sec. ETA: 2.4021529000380943 sec\n",
      "Iteration 29 | 2.0224883148366506 -- Iter time: 0.010406017303466797 sec. ETA: 2.387884775797526 sec\n",
      "Iteration 30 | 1.9779939353311877 -- Iter time: 0.011994123458862305 sec. ETA: 2.385085021295855 sec\n",
      "Iteration 31 | 1.9317994558822846 -- Iter time: 0.018966197967529297 sec. ETA: 2.4292078763246536 sec\n",
      "Iteration 32 | 1.8837896361255548 -- Iter time: 0.013345956802368164 sec. ETA: 2.432549808964585 sec\n",
      "Iteration 33 | 1.8338784606406755 -- Iter time: 0.015565872192382812 sec. ETA: 2.4490130929385914 sec\n",
      "Iteration 34 | 1.7820257495605216 -- Iter time: 0.01640605926513672 sec. ETA: 2.4688072885785783 sec\n",
      "Iteration 35 | 1.7282512582971115 -- Iter time: 0.012012720108032227 sec. ETA: 2.4604743984010486 sec\n"
     ]
    },
    {
     "name": "stderr",
     "output_type": "stream",
     "text": [
      "100%|██████████| 20/20 [00:00<00:00, 3521.07it/s]\n",
      "100%|██████████| 20/20 [00:00<00:00, 3388.79it/s]\n",
      "100%|██████████| 20/20 [00:00<00:00, 2676.22it/s]\n",
      "100%|██████████| 20/20 [00:00<00:00, 3082.57it/s]\n",
      "100%|██████████| 20/20 [00:00<00:00, 2755.15it/s]\n",
      "100%|██████████| 20/20 [00:00<00:00, 2093.17it/s]\n",
      "100%|██████████| 20/20 [00:00<00:00, 6497.76it/s]\n",
      "100%|██████████| 20/20 [00:00<00:00, 4196.40it/s]\n",
      "100%|██████████| 20/20 [00:00<00:00, 2084.23it/s]\n",
      "100%|██████████| 20/20 [00:00<00:00, 2666.27it/s]\n",
      "100%|██████████| 20/20 [00:00<00:00, 3860.38it/s]\n",
      "100%|██████████| 20/20 [00:00<00:00, 7775.87it/s]\n",
      "100%|██████████| 20/20 [00:00<00:00, 3535.02it/s]\n",
      "100%|██████████| 20/20 [00:00<00:00, 7135.60it/s]\n",
      "100%|██████████| 20/20 [00:00<00:00, 2068.40it/s]\n",
      "  0%|          | 0/20 [00:00<?, ?it/s]"
     ]
    },
    {
     "name": "stdout",
     "output_type": "stream",
     "text": [
      "Iteration 36 | 1.6726442791678036 -- Iter time: 0.010590791702270508 sec. ETA: 2.4437569025400525 sec\n",
      "Iteration 37 | 1.615367008538867 -- Iter time: 0.015117168426513672 sec. ETA: 2.4526142823068717 sec\n",
      "Iteration 38 | 1.5566505155338437 -- Iter time: 0.012160062789916992 sec. ETA: 2.4442434983375745 sec\n",
      "Iteration 39 | 1.4967830456342148 -- Iter time: 0.010977983474731445 sec. ETA: 2.429477334022522 sec\n",
      "Iteration 40 | 1.4360915310119902 -- Iter time: 0.012388229370117188 sec. ETA: 2.4220847734590856 sec\n",
      "Iteration 41 | 1.3749183731384456 -- Iter time: 0.016299962997436523 sec. ETA: 2.4338267190115794 sec\n",
      "Iteration 42 | 1.3135965474878606 -- Iter time: 0.014825105667114258 sec. ETA: 2.4371644951576408 sec\n",
      "Iteration 43 | 1.2524265806450396 -- Iter time: 0.013277053833007812 sec. ETA: 2.432428988543424 sec\n",
      "Iteration 44 | 1.191658778644904 -- Iter time: 0.013905048370361328 sec. ETA: 2.4301747216118708 sec\n",
      "Iteration 45 | 1.1314832234543548 -- Iter time: 0.013386011123657227 sec. ETA: 2.425112081610638 sec\n",
      "Iteration 46 | 1.0720286814897464 -- Iter time: 0.01596212387084961 sec. ETA: 2.4308218702356865 sec\n",
      "Iteration 47 | 1.01337001229666 -- Iter time: 0.005316972732543945 sec. ETA: 2.390830318133036 sec\n",
      "Iteration 48 | 0.9555422952052117 -- Iter time: 0.010571956634521484 sec. ETA: 2.3738102134393184 sec\n",
      "Iteration 49 | 0.8985589936258014 -- Iter time: 0.007178068161010742 sec. ETA: 2.343472480773926 sec\n",
      "Iteration 50 | 0.8424311755321525 -- Iter time: 0.01394510269165039 sec. ETA: 2.340447673610613 sec\n"
     ]
    },
    {
     "name": "stderr",
     "output_type": "stream",
     "text": [
      "100%|██████████| 20/20 [00:00<00:00, 1804.74it/s]\n",
      "100%|██████████| 20/20 [00:00<00:00, 2133.09it/s]\n",
      "100%|██████████| 20/20 [00:00<00:00, 2031.48it/s]\n",
      "100%|██████████| 20/20 [00:00<00:00, 4424.60it/s]\n",
      "100%|██████████| 20/20 [00:00<00:00, 3769.14it/s]\n",
      "100%|██████████| 20/20 [00:00<00:00, 2785.15it/s]\n",
      "100%|██████████| 20/20 [00:00<00:00, 4508.55it/s]\n",
      "100%|██████████| 20/20 [00:00<00:00, 2095.53it/s]\n",
      "100%|██████████| 20/20 [00:00<00:00, 4868.32it/s]\n",
      "100%|██████████| 20/20 [00:00<00:00, 2855.99it/s]\n",
      "100%|██████████| 20/20 [00:00<00:00, 3015.64it/s]\n",
      "100%|██████████| 20/20 [00:00<00:00, 2125.58it/s]\n",
      "100%|██████████| 20/20 [00:00<00:00, 3162.05it/s]\n",
      "100%|██████████| 20/20 [00:00<00:00, 4144.16it/s]\n",
      "100%|██████████| 20/20 [00:00<00:00, 3187.16it/s]\n"
     ]
    },
    {
     "name": "stdout",
     "output_type": "stream",
     "text": [
      "Iteration 51 | 0.7871850571969978 -- Iter time: 0.019972801208496094 sec. ETA: 2.3599544763565063 sec\n",
      "Iteration 52 | 0.7328757675583091 -- Iter time: 0.01476907730102539 sec. ETA: 2.358629339146164 sec\n",
      "Iteration 53 | 0.6795960342697573 -- Iter time: 0.015614032745361328 sec. ETA: 2.359873153545238 sec\n",
      "Iteration 54 | 0.6274792903947752 -- Iter time: 0.011921167373657227 sec. ETA: 2.3474110690030185 sec\n",
      "Iteration 55 | 0.5766973799146629 -- Iter time: 0.016225099563598633 sec. ETA: 2.349878353731973 sec\n",
      "Iteration 56 | 0.5274535557224059 -- Iter time: 0.011314868927001953 sec. ETA: 2.3350638966811332 sec\n",
      "Iteration 57 | 0.4799718173970671 -- Iter time: 0.013590812683105469 sec. ETA: 2.327904273723734 sec\n",
      "Iteration 58 | 0.434483849297896 -- Iter time: 0.016767024993896484 sec. ETA: 2.3308089587648033 sec\n",
      "Iteration 59 | 0.3912149129369175 -- Iter time: 0.00865316390991211 sec. ETA: 2.307364026705424 sec\n",
      "Iteration 60 | 0.3503700322023763 -- Iter time: 0.009764909744262695 sec. ETA: 2.287848660203277 sec\n",
      "Iteration 61 | 0.3121216896920025 -- Iter time: 0.026529788970947266 sec. ETA: 2.319483264800041 sec\n",
      "Iteration 62 | 0.2766000324111791 -- Iter time: 0.017879962921142578 sec. ETA: 2.3235965002150762 sec\n",
      "Iteration 63 | 0.2438862807246222 -- Iter time: 0.016837120056152344 sec. ETA: 2.323991686105728 sec\n",
      "Iteration 64 | 0.21400967551524458 -- Iter time: 0.012815237045288086 sec. ETA: 2.312409749397865 sec\n",
      "Iteration 65 | 0.18694792725654003 -- Iter time: 0.008603096008300781 sec. ETA: 2.2890475013039326 sec\n"
     ]
    },
    {
     "name": "stderr",
     "output_type": "stream",
     "text": [
      "100%|██████████| 20/20 [00:00<00:00, 2886.35it/s]\n",
      "100%|██████████| 20/20 [00:00<00:00, 2317.30it/s]\n",
      "100%|██████████| 20/20 [00:00<00:00, 2848.91it/s]\n",
      "100%|██████████| 20/20 [00:00<00:00, 4566.97it/s]\n",
      "100%|██████████| 20/20 [00:00<00:00, 4147.64it/s]\n",
      "100%|██████████| 20/20 [00:00<00:00, 4598.77it/s]\n",
      "100%|██████████| 20/20 [00:00<00:00, 5332.87it/s]\n",
      "100%|██████████| 20/20 [00:00<00:00, 5158.41it/s]\n",
      "100%|██████████| 20/20 [00:00<00:00, 2510.96it/s]\n",
      "100%|██████████| 20/20 [00:00<00:00, 2392.10it/s]\n",
      "100%|██████████| 20/20 [00:00<00:00, 3802.98it/s]\n",
      "100%|██████████| 20/20 [00:00<00:00, 4042.90it/s]\n",
      "100%|██████████| 20/20 [00:00<00:00, 4450.66it/s]\n",
      "100%|██████████| 20/20 [00:00<00:00, 5491.72it/s]\n",
      "100%|██████████| 20/20 [00:00<00:00, 11982.01it/s]\n",
      "100%|██████████| 20/20 [00:00<00:00, 3492.34it/s]\n",
      "100%|██████████| 20/20 [00:00<00:00, 3835.14it/s]\n",
      "100%|██████████| 20/20 [00:00<00:00, 3971.31it/s]\n",
      "100%|██████████| 20/20 [00:00<00:00, 4800.62it/s]"
     ]
    },
    {
     "name": "stdout",
     "output_type": "stream",
     "text": [
      "Iteration 66 | 0.1626307942992009 -- Iter time: 0.018728017807006836 sec. ETA: 2.2937804620657394 sec\n",
      "Iteration 67 | 0.14094615797924664 -- Iter time: 0.017921924591064453 sec. ETA: 2.2956659092622647 sec\n",
      "Iteration 68 | 0.12174780665742706 -- Iter time: 0.016249895095825195 sec. ETA: 2.292591181354246 sec\n",
      "Iteration 69 | 0.10486409753646238 -- Iter time: 0.011532783508300781 sec. ETA: 2.2770103045872276 sec\n",
      "Iteration 70 | 0.09010672288660694 -- Iter time: 0.008736133575439453 sec. ETA: 2.2544927496305656 sec\n",
      "Iteration 71 | 0.07727894053520215 -- Iter time: 0.010901927947998047 sec. ETA: 2.237712336911095 sec\n",
      "Iteration 72 | 0.0661828044744923 -- Iter time: 0.009334802627563477 sec. ETA: 2.217293236353626 sec\n",
      "Iteration 73 | 0.056625117970160066 -- Iter time: 0.01784515380859375 sec. ETA: 2.217414546657253 sec\n",
      "Iteration 74 | 0.04842200249082109 -- Iter time: 0.014009237289428711 sec. ETA: 2.208106279373169 sec\n",
      "Iteration 75 | 0.04140211411291731 -- Iter time: 0.013122081756591797 sec. ETA: 2.1966431831058704 sec\n",
      "Iteration 76 | 0.03540863720919825 -- Iter time: 0.009624958038330078 sec. ETA: 2.17727982223808 sec\n",
      "Iteration 77 | 0.03030024346928435 -- Iter time: 0.008368968963623047 sec. ETA: 2.1553965470729732 sec\n",
      "Iteration 78 | 0.02595122819611926 -- Iter time: 0.008847713470458984 sec. ETA: 2.134891675997384 sec\n",
      "Iteration 79 | 0.022251033609473687 -- Iter time: 0.006844758987426758 sec. ETA: 2.1104219555854793 sec\n",
      "Iteration 80 | 0.019103349313827796 -- Iter time: 0.005117893218994141 sec. ETA: 2.082784452556092 sec\n",
      "Iteration 81 | 0.01642495096457098 -- Iter time: 0.013895988464355469 sec. ETA: 2.0736805985613564 sec\n",
      "Iteration 82 | 0.014144405630425478 -- Iter time: 0.009068965911865234 sec. ETA: 2.0547490694436683 sec\n",
      "Iteration 83 | 0.01220074067718023 -- Iter time: 0.014168024063110352 sec. ETA: 2.0461290734154836 sec\n"
     ]
    },
    {
     "name": "stderr",
     "output_type": "stream",
     "text": [
      "\n",
      "100%|██████████| 20/20 [00:00<00:00, 4352.74it/s]\n",
      "100%|██████████| 20/20 [00:00<00:00, 5504.70it/s]\n",
      "100%|██████████| 20/20 [00:00<00:00, 2878.92it/s]\n",
      "100%|██████████| 20/20 [00:00<00:00, 2999.36it/s]\n",
      "100%|██████████| 20/20 [00:00<00:00, 5256.02it/s]\n",
      "100%|██████████| 20/20 [00:00<00:00, 4289.09it/s]\n",
      "100%|██████████| 20/20 [00:00<00:00, 3988.88it/s]\n",
      "100%|██████████| 20/20 [00:00<00:00, 3414.03it/s]\n",
      "100%|██████████| 20/20 [00:00<00:00, 6314.82it/s]\n",
      "100%|██████████| 20/20 [00:00<00:00, 7926.49it/s]\n",
      "100%|██████████| 20/20 [00:00<00:00, 4924.92it/s]\n",
      "100%|██████████| 20/20 [00:00<00:00, 4023.31it/s]\n",
      "100%|██████████| 20/20 [00:00<00:00, 9728.18it/s]\n",
      "100%|██████████| 20/20 [00:00<00:00, 5835.96it/s]\n",
      "100%|██████████| 20/20 [00:00<00:00, 3673.90it/s]\n",
      "100%|██████████| 20/20 [00:00<00:00, 4784.74it/s]\n",
      "100%|██████████| 20/20 [00:00<00:00, 3763.56it/s]\n",
      "100%|██████████| 20/20 [00:00<00:00, 5800.45it/s]\n",
      "100%|██████████| 20/20 [00:00<00:00, 5562.00it/s]\n",
      "  0%|          | 0/20 [00:00<?, ?it/s]"
     ]
    },
    {
     "name": "stdout",
     "output_type": "stream",
     "text": [
      "Iteration 84 | 0.010542144772998436 -- Iter time: 0.009629964828491211 sec. ETA: 2.028569361742805 sec\n",
      "Iteration 85 | 0.009124746078877612 -- Iter time: 0.011630058288574219 sec. ETA: 2.01500819450201 sec\n",
      "Iteration 86 | 0.0079114941254164 -- Iter time: 0.012157201766967773 sec. ETA: 2.002479057202394 sec\n",
      "Iteration 87 | 0.0068711579753740785 -- Iter time: 0.010873079299926758 sec. ETA: 1.9875944202596492 sec\n",
      "Iteration 88 | 0.005977443398519665 -- Iter time: 0.01258087158203125 sec. ETA: 1.975889307729314 sec\n",
      "Iteration 89 | 0.005208225190071776 -- Iter time: 0.009599924087524414 sec. ETA: 1.958865271674262 sec\n",
      "Iteration 90 | 0.004544886704348507 -- Iter time: 0.011476993560791016 sec. ETA: 1.9452841177091493 sec\n",
      "Iteration 91 | 0.003971756488173911 -- Iter time: 0.012485027313232422 sec. ETA: 1.9334798947624539 sec\n",
      "Iteration 92 | 0.003475631031419265 -- Iter time: 0.010499715805053711 sec. ETA: 1.9183094834768644 sec\n",
      "Iteration 93 | 0.003045372667628068 -- Iter time: 0.00866389274597168 sec. ETA: 1.9001917636140866 sec\n",
      "Iteration 94 | 0.002671572225244772 -- Iter time: 0.0075588226318359375 sec. ETA: 1.8804700625570197 sec\n",
      "Iteration 95 | 0.002346266909379822 -- Iter time: 0.010264158248901367 sec. ETA: 1.8653415640195212 sec\n",
      "Iteration 96 | 0.002062704917977829 -- Iter time: 0.011383771896362305 sec. ETA: 1.8520793496947927 sec\n",
      "Iteration 97 | 0.0018151493534171795 -- Iter time: 0.006953001022338867 sec. ETA: 1.8319832548803214 sec\n",
      "Iteration 98 | 0.0015987150111226919 -- Iter time: 0.012847661972045898 sec. ETA: 1.8211435236112035 sec\n",
      "Iteration 99 | 0.0014092325704646704 -- Iter time: 0.013159751892089844 sec. ETA: 1.8107317686080935 sec\n",
      "Iteration 100 | 0.001243135560142779 -- Iter time: 0.008499383926391602 sec. ETA: 1.793390401519171 sec\n",
      "Iteration 101 | 0.001097366213935707 -- Iter time: 0.010313272476196289 sec. ETA: 1.7788543233684464 sec\n",
      "Iteration 102 | 0.0009692969750600712 -- Iter time: 0.008893966674804688 sec. ETA: 1.7623746302521344 sec\n",
      "Iteration 103 | 0.0008566649552366757 -- Iter time: 0.010037899017333984 sec. ETA: 1.7476467215097868 sec\n"
     ]
    },
    {
     "name": "stderr",
     "output_type": "stream",
     "text": [
      "100%|██████████| 20/20 [00:00<00:00, 2340.77it/s]\n",
      "100%|██████████| 20/20 [00:00<00:00, 3936.83it/s]\n",
      "100%|██████████| 20/20 [00:00<00:00, 5330.50it/s]\n",
      "100%|██████████| 20/20 [00:00<00:00, 4801.72it/s]\n",
      "100%|██████████| 20/20 [00:00<00:00, 4056.78it/s]\n",
      "100%|██████████| 20/20 [00:00<00:00, 4111.86it/s]\n",
      "100%|██████████| 20/20 [00:00<00:00, 3371.49it/s]\n",
      "100%|██████████| 20/20 [00:00<00:00, 7772.99it/s]\n",
      "100%|██████████| 20/20 [00:00<00:00, 4251.70it/s]\n",
      "100%|██████████| 20/20 [00:00<00:00, 4245.46it/s]\n",
      "100%|██████████| 20/20 [00:00<00:00, 3792.15it/s]\n",
      "100%|██████████| 20/20 [00:00<00:00, 4536.10it/s]\n",
      "100%|██████████| 20/20 [00:00<00:00, 7482.48it/s]\n",
      "100%|██████████| 20/20 [00:00<00:00, 9487.23it/s]\n",
      "100%|██████████| 20/20 [00:00<00:00, 7999.82it/s]\n",
      "100%|██████████| 20/20 [00:00<00:00, 6317.20it/s]\n",
      "100%|██████████| 20/20 [00:00<00:00, 3018.90it/s]\n",
      "100%|██████████| 20/20 [00:00<00:00, 6129.34it/s]\n",
      "100%|██████████| 20/20 [00:00<00:00, 7637.12it/s]\n",
      "100%|██████████| 20/20 [00:00<00:00, 3681.31it/s]\n",
      "  0%|          | 0/20 [00:00<?, ?it/s]"
     ]
    },
    {
     "name": "stdout",
     "output_type": "stream",
     "text": [
      "Iteration 104 | 0.0007575171172023127 -- Iter time: 0.014345884323120117 sec. ETA: 1.7389572688511439 sec\n",
      "Iteration 105 | 0.0006701643370564563 -- Iter time: 0.008528947830200195 sec. ETA: 1.722258837717884 sec\n",
      "Iteration 106 | 0.0005931428256622277 -- Iter time: 0.010095834732055664 sec. ETA: 1.7078071710105254 sec\n",
      "Iteration 107 | 0.0005251816558865766 -- Iter time: 0.012054920196533203 sec. ETA: 1.6960120024504484 sec\n",
      "Iteration 108 | 0.0004651753634085516 -- Iter time: 0.010024785995483398 sec. ETA: 1.6815859309030237 sec\n",
      "Iteration 109 | 0.00041216077076617914 -- Iter time: 0.010308265686035156 sec. ETA: 1.6676006750626997 sec\n",
      "Iteration 110 | 0.00036529733383658137 -- Iter time: 0.01217508316040039 sec. ETA: 1.6560193976840456 sec\n",
      "Iteration 111 | 0.0003238504326649654 -- Iter time: 0.010023832321166992 sec. ETA: 1.6417768682752338 sec\n",
      "Iteration 112 | 0.00028717712920463604 -- Iter time: 0.009505033493041992 sec. ETA: 1.6269800198816622 sec\n",
      "Iteration 113 | 0.0002547139970513681 -- Iter time: 0.010157108306884766 sec. ETA: 1.6130539241589998 sec\n",
      "Iteration 114 | 0.00022596669593144553 -- Iter time: 0.010991096496582031 sec. ETA: 1.600172405657561 sec\n",
      "Iteration 115 | 0.00020050101923508565 -- Iter time: 0.014003992080688477 sec. ETA: 1.5908038945033633 sec\n",
      "Iteration 116 | 0.0001779351884990297 -- Iter time: 0.009131908416748047 sec. ETA: 1.5758177928435495 sec\n",
      "Iteration 117 | 0.0001579332062528689 -- Iter time: 0.0068089962005615234 sec. ETA: 1.5583324028273762 sec\n",
      "Iteration 118 | 0.00014019910953942932 -- Iter time: 0.007603883743286133 sec. ETA: 1.541901492271103 sec\n",
      "Iteration 119 | 0.00012447199191247874 -- Iter time: 0.008866071701049805 sec. ETA: 1.5269850691159568 sec\n",
      "Iteration 120 | 0.0001105216827913818 -- Iter time: 0.014667034149169922 sec. ETA: 1.518353148925403 sec\n",
      "Iteration 121 | 9.81449905160201e-05 -- Iter time: 0.00875401496887207 sec. ETA: 1.503418469038166 sec\n",
      "Iteration 122 | 8.71624299489328e-05 -- Iter time: 0.009940385818481445 sec. ETA: 1.489809239782938 sec\n",
      "Iteration 123 | 7.741536754693937e-05 -- Iter time: 0.013514041900634766 sec. ETA: 1.479890481118233 sec\n"
     ]
    },
    {
     "name": "stderr",
     "output_type": "stream",
     "text": [
      "100%|██████████| 20/20 [00:00<00:00, 5357.74it/s]\n",
      "100%|██████████| 20/20 [00:00<00:00, 6700.17it/s]\n",
      "100%|██████████| 20/20 [00:00<00:00, 2331.01it/s]\n",
      "100%|██████████| 20/20 [00:00<00:00, 4662.15it/s]\n",
      "100%|██████████| 20/20 [00:00<00:00, 4878.23it/s]\n",
      "100%|██████████| 20/20 [00:00<00:00, 3254.30it/s]\n",
      "100%|██████████| 20/20 [00:00<00:00, 6479.19it/s]\n",
      "100%|██████████| 20/20 [00:00<00:00, 3605.52it/s]\n",
      "100%|██████████| 20/20 [00:00<00:00, 7518.02it/s]\n",
      "100%|██████████| 20/20 [00:00<00:00, 3205.06it/s]\n",
      "100%|██████████| 20/20 [00:00<00:00, 3232.48it/s]\n",
      "100%|██████████| 20/20 [00:00<00:00, 3708.49it/s]\n",
      "100%|██████████| 20/20 [00:00<00:00, 6661.86it/s]\n",
      "100%|██████████| 20/20 [00:00<00:00, 4937.09it/s]\n",
      "100%|██████████| 20/20 [00:00<00:00, 4021.58it/s]\n",
      "100%|██████████| 20/20 [00:00<00:00, 3050.96it/s]\n",
      "100%|██████████| 20/20 [00:00<00:00, 5331.86it/s]\n",
      "100%|██████████| 20/20 [00:00<00:00, 3457.22it/s]\n",
      "100%|██████████| 20/20 [00:00<00:00, 4664.22it/s]\n",
      "100%|██████████| 20/20 [00:00<00:00, 3189.22it/s]\n",
      "100%|██████████| 20/20 [00:00<00:00, 4278.81it/s]\n"
     ]
    },
    {
     "name": "stdout",
     "output_type": "stream",
     "text": [
      "Iteration 124 | 6.876352690430393e-05 -- Iter time: 0.008804082870483398 sec. ETA: 1.4652042388916016 sec\n",
      "Iteration 125 | 6.108280620519674e-05 -- Iter time: 0.008646249771118164 sec. ETA: 1.450456036461724 sec\n",
      "Iteration 126 | 5.426336610337895e-05 -- Iter time: 0.012818098068237305 sec. ETA: 1.4398443792748639 sec\n",
      "Iteration 127 | 4.8207952504613893e-05 -- Iter time: 0.008486747741699219 sec. ETA: 1.4250699281692505 sec\n",
      "Iteration 128 | 4.283042375525681e-05 -- Iter time: 0.010374069213867188 sec. ETA: 1.4121632391168166 sec\n",
      "Iteration 129 | 3.805445599479629e-05 -- Iter time: 0.01076197624206543 sec. ETA: 1.3996535814725437 sec\n",
      "Iteration 130 | 3.3812404040293336e-05 -- Iter time: 0.008713006973266602 sec. ETA: 1.3853093285597007 sec\n",
      "Iteration 131 | 3.004429824203586e-05 -- Iter time: 0.011058807373046875 sec. ETA: 1.3731474009427156 sec\n",
      "Iteration 132 | 2.669696036995291e-05 -- Iter time: 0.0058748722076416016 sec. ETA: 1.356441757732764 sec\n",
      "Iteration 133 | 2.3723223831058017e-05 -- Iter time: 0.014521121978759766 sec. ETA: 1.3473825810560538 sec\n",
      "Iteration 134 | 2.1081245439650748e-05 -- Iter time: 0.011394977569580078 sec. ETA: 1.3355794747670489 sec\n",
      "Iteration 135 | 1.873389761300108e-05 -- Iter time: 0.013080835342407227 sec. ETA: 1.3251955158570232 sec\n",
      "Iteration 136 | 1.6648231287613546e-05 -- Iter time: 0.008813858032226562 sec. ETA: 1.311252708852726 sec\n",
      "Iteration 137 | 1.4795001079109363e-05 -- Iter time: 0.007360935211181641 sec. ETA: 1.296205050703408 sec\n",
      "Iteration 138 | 1.3148245270818326e-05 -- Iter time: 0.00970602035522461 sec. ETA: 1.2831406867761403 sec\n",
      "Iteration 139 | 1.1684914136996844e-05 -- Iter time: 0.010832786560058594 sec. ETA: 1.2710096154894146 sec\n",
      "Iteration 140 | 1.0384540906059512e-05 -- Iter time: 0.00727081298828125 sec. ETA: 1.2561433771823314 sec\n",
      "Iteration 141 | 9.228950364796076e-06 -- Iter time: 0.01308298110961914 sec. ETA: 1.24580463892977 sec\n",
      "Iteration 142 | 8.202000710519882e-06 -- Iter time: 0.008431196212768555 sec. ETA: 1.231946813476669 sec\n",
      "Iteration 143 | 7.289354787143902e-06 -- Iter time: 0.010771989822387695 sec. ETA: 1.219887442058987 sec\n"
     ]
    },
    {
     "name": "stderr",
     "output_type": "stream",
     "text": [
      "100%|██████████| 20/20 [00:00<00:00, 4731.57it/s]\n",
      "100%|██████████| 20/20 [00:00<00:00, 5190.65it/s]\n",
      "100%|██████████| 20/20 [00:00<00:00, 3005.70it/s]\n",
      "100%|██████████| 20/20 [00:00<00:00, 5353.29it/s]\n",
      "100%|██████████| 20/20 [00:00<00:00, 5389.40it/s]\n",
      "100%|██████████| 20/20 [00:00<00:00, 3472.25it/s]\n",
      "100%|██████████| 20/20 [00:00<00:00, 4984.91it/s]\n",
      "100%|██████████| 20/20 [00:00<00:00, 3298.71it/s]\n",
      "100%|██████████| 20/20 [00:00<00:00, 4597.76it/s]\n",
      "100%|██████████| 20/20 [00:00<00:00, 4058.55it/s]\n",
      "100%|██████████| 20/20 [00:00<00:00, 6215.16it/s]\n",
      "100%|██████████| 20/20 [00:00<00:00, 2799.94it/s]\n",
      "100%|██████████| 20/20 [00:00<00:00, 2495.57it/s]\n",
      "100%|██████████| 20/20 [00:00<00:00, 6436.93it/s]\n",
      "100%|██████████| 20/20 [00:00<00:00, 3231.48it/s]\n",
      "100%|██████████| 20/20 [00:00<00:00, 5012.61it/s]\n",
      "100%|██████████| 20/20 [00:00<00:00, 4003.92it/s]\n",
      "100%|██████████| 20/20 [00:00<00:00, 3647.70it/s]\n",
      "100%|██████████| 20/20 [00:00<00:00, 4440.53it/s]\n",
      "100%|██████████| 20/20 [00:00<00:00, 4988.47it/s]\n",
      "100%|██████████| 20/20 [00:00<00:00, 3441.90it/s]\n",
      "100%|██████████| 20/20 [00:00<00:00, 2355.95it/s]\n",
      "  0%|          | 0/20 [00:00<?, ?it/s]"
     ]
    },
    {
     "name": "stdout",
     "output_type": "stream",
     "text": [
      "Iteration 144 | 6.478277303255993e-06 -- Iter time: 0.011792182922363281 sec. ETA: 1.208584588149498 sec\n",
      "Iteration 145 | 5.757455034913788e-06 -- Iter time: 0.010185003280639648 sec. ETA: 1.196130190810112 sec\n",
      "Iteration 146 | 5.116837370246285e-06 -- Iter time: 0.010465860366821289 sec. ETA: 1.1839034605999381 sec\n",
      "Iteration 147 | 4.547494863895501e-06 -- Iter time: 0.012942075729370117 sec. ETA: 1.1734071067861607 sec\n",
      "Iteration 148 | 4.041493742391312e-06 -- Iter time: 0.00952291488647461 sec. ETA: 1.1605602382813522 sec\n",
      "Iteration 149 | 3.59178454155269e-06 -- Iter time: 0.009859800338745117 sec. ETA: 1.147982279459635 sec\n",
      "Iteration 150 | 3.192103268172561e-06 -- Iter time: 0.012856006622314453 sec. ETA: 1.1374047228832116 sec\n",
      "Iteration 151 | 2.8368836642505718e-06 -- Iter time: 0.00961923599243164 sec. ETA: 1.1247103214263912 sec\n",
      "Iteration 152 | 2.521179315885548e-06 -- Iter time: 0.008992910385131836 sec. ETA: 1.1116590359631704 sec\n",
      "Iteration 153 | 2.240594493468879e-06 -- Iter time: 0.0076160430908203125 sec. ETA: 1.0978021497850294 sec\n",
      "Iteration 154 | 1.9912227374043688e-06 -- Iter time: 0.00771784782409668 sec. ETA: 1.0840881870638939 sec\n",
      "Iteration 155 | 1.76959231617569e-06 -- Iter time: 0.0075719356536865234 sec. ETA: 1.0703631761746526 sec\n",
      "Iteration 156 | 1.5726177831327227e-06 -- Iter time: 0.012324094772338867 sec. ETA: 1.059531521645321 sec\n",
      "Iteration 157 | 1.3975569463029905e-06 -- Iter time: 0.011243104934692383 sec. ETA: 1.0480515383466886 sec\n",
      "Iteration 158 | 1.2419726433755104e-06 -- Iter time: 0.005159139633178711 sec. ETA: 1.0330925167731515 sec\n",
      "Iteration 159 | 1.103698782824651e-06 -- Iter time: 0.011254072189331055 sec. ETA: 1.0216843932867046 sec\n",
      "Iteration 160 | 9.80810173075939e-07 -- Iter time: 0.006482839584350586 sec. ETA: 1.007640669804922 sec\n",
      "Iteration 161 | 8.715957156063306e-07 -- Iter time: 0.01385498046875 sec. ETA: 0.9976949103084607 sec\n",
      "Iteration 162 | 7.745345856242115e-07 -- Iter time: 0.008002042770385742 sec. ETA: 0.9845772242984885 sec\n",
      "Iteration 163 | 6.882750663626777e-07 -- Iter time: 0.00871586799621582 sec. ETA: 0.9718962471659587 sec\n",
      "Iteration 164 | 6.116157405472433e-07 -- Iter time: 0.008556127548217773 sec. ETA: 0.9591810414285367 sec\n",
      "Iteration 165 | 5.434887758658653e-07 -- Iter time: 0.009567975997924805 sec. ETA: 0.9470279647643303 sec\n",
      "Iteration 166 | 4.829450708137131e-07 -- Iter time: 0.014051675796508789 sec. ETA: 0.9371342730379386 sec\n"
     ]
    },
    {
     "name": "stderr",
     "output_type": "stream",
     "text": [
      "100%|██████████| 20/20 [00:00<00:00, 2298.56it/s]\n",
      "100%|██████████| 20/20 [00:00<00:00, 5496.04it/s]\n",
      "100%|██████████| 20/20 [00:00<00:00, 4640.49it/s]\n",
      "100%|██████████| 20/20 [00:00<00:00, 5471.66it/s]\n",
      "100%|██████████| 20/20 [00:00<00:00, 4139.05it/s]\n",
      "100%|██████████| 20/20 [00:00<00:00, 1678.96it/s]\n",
      "100%|██████████| 20/20 [00:00<00:00, 3370.00it/s]\n",
      "100%|██████████| 20/20 [00:00<00:00, 4406.24it/s]\n",
      "100%|██████████| 20/20 [00:00<00:00, 3874.47it/s]\n",
      "100%|██████████| 20/20 [00:00<00:00, 4029.69it/s]\n",
      "100%|██████████| 20/20 [00:00<00:00, 4633.57it/s]\n",
      "100%|██████████| 20/20 [00:00<00:00, 2891.53it/s]\n",
      "100%|██████████| 20/20 [00:00<00:00, 5755.48it/s]\n",
      "100%|██████████| 20/20 [00:00<00:00, 3637.57it/s]\n",
      "100%|██████████| 20/20 [00:00<00:00, 4496.47it/s]\n",
      "100%|██████████| 20/20 [00:00<00:00, 3550.58it/s]\n",
      "100%|██████████| 20/20 [00:00<00:00, 3448.13it/s]\n",
      "100%|██████████| 20/20 [00:00<00:00, 7549.82it/s]\n",
      "100%|██████████| 20/20 [00:00<00:00, 5058.25it/s]\n",
      "100%|██████████| 20/20 [00:00<00:00, 6261.56it/s]\n",
      "  0%|          | 0/20 [00:00<?, ?it/s]"
     ]
    },
    {
     "name": "stdout",
     "output_type": "stream",
     "text": [
      "Iteration 167 | 4.2914105342141085e-07 -- Iter time: 0.012865066528320312 sec. ETA: 0.926611903167906 sec\n",
      "Iteration 168 | 3.8132694863836133e-07 -- Iter time: 0.011925220489501953 sec. ETA: 0.915611350324732 sec\n",
      "Iteration 169 | 3.3883635072172123e-07 -- Iter time: 0.007013082504272461 sec. ETA: 0.9022883246926696 sec\n",
      "Iteration 170 | 3.010769552872219e-07 -- Iter time: 0.008643865585327148 sec. ETA: 0.889792502274987 sec\n",
      "Iteration 171 | 2.6752232189755084e-07 -- Iter time: 0.009842872619628906 sec. ETA: 0.8778852058011428 sec\n",
      "Iteration 172 | 2.377045524940148e-07 -- Iter time: 0.015102863311767578 sec. ETA: 0.8683429274255827 sec\n",
      "Iteration 173 | 2.112077837499545e-07 -- Iter time: 0.013375997543334961 sec. ETA: 0.8579824710714403 sec\n",
      "Iteration 174 | 1.8766240280980421e-07 -- Iter time: 0.011252880096435547 sec. ETA: 0.8466776439121789 sec\n",
      "Iteration 175 | 1.6673990594653517e-07 -- Iter time: 0.007498025894165039 sec. ETA: 0.8337946615435858 sec\n",
      "Iteration 176 | 1.4814832865414823e-07 -- Iter time: 0.00717616081237793 sec. ETA: 0.8208397795251532 sec\n",
      "Iteration 177 | 1.3162818363543604e-07 -- Iter time: 0.01168513298034668 sec. ETA: 0.8097736808691129 sec\n",
      "Iteration 178 | 1.1694885022259845e-07 -- Iter time: 0.011647939682006836 sec. ETA: 0.7986859129793815 sec\n",
      "Iteration 179 | 1.0390536506270364e-07 -- Iter time: 0.006990909576416016 sec. ETA: 0.7857808536953395 sec\n",
      "Iteration 180 | 9.231556945847098e-08 -- Iter time: 0.012449979782104492 sec. ETA: 0.7750222261439369 sec\n",
      "Iteration 181 | 8.201757373967544e-08 -- Iter time: 0.008710861206054688 sec. ETA: 0.7628479789901564 sec\n",
      "Iteration 182 | 7.286750343087772e-08 -- Iter time: 0.01179194450378418 sec. ETA: 0.7518396299393449 sec\n",
      "Iteration 183 | 6.473749590405551e-08 -- Iter time: 0.00935816764831543 sec. ETA: 0.7399497783702351 sec\n",
      "Iteration 184 | 5.751391968566489e-08 -- Iter time: 0.0075299739837646484 sec. ETA: 0.7274449580424539 sec\n",
      "Iteration 185 | 5.109579167976344e-08 -- Iter time: 0.012459993362426758 sec. ETA: 0.716689981440062 sec\n",
      "Iteration 186 | 4.539337031550079e-08 -- Iter time: 0.009404897689819336 sec. ETA: 0.7048875125334223 sec\n"
     ]
    },
    {
     "name": "stderr",
     "output_type": "stream",
     "text": [
      "100%|██████████| 20/20 [00:00<00:00, 3651.03it/s]\n",
      "100%|██████████| 20/20 [00:00<00:00, 2906.55it/s]\n",
      "100%|██████████| 20/20 [00:00<00:00, 2709.67it/s]\n",
      "100%|██████████| 20/20 [00:00<00:00, 3668.27it/s]\n",
      "100%|██████████| 20/20 [00:00<00:00, 6119.50it/s]\n",
      "100%|██████████| 20/20 [00:00<00:00, 3411.25it/s]\n",
      "100%|██████████| 20/20 [00:00<00:00, 5689.89it/s]\n",
      "100%|██████████| 20/20 [00:00<00:00, 3996.86it/s]\n",
      "100%|██████████| 20/20 [00:00<00:00, 5078.46it/s]\n",
      "100%|██████████| 20/20 [00:00<00:00, 3566.43it/s]\n",
      "100%|██████████| 20/20 [00:00<00:00, 5606.98it/s]\n",
      "100%|██████████| 20/20 [00:00<00:00, 2746.58it/s]\n",
      "100%|██████████| 20/20 [00:00<00:00, 4560.02it/s]\n",
      "100%|██████████| 20/20 [00:00<00:00, 4306.49it/s]\n",
      "100%|██████████| 20/20 [00:00<00:00, 3249.38it/s]\n",
      "100%|██████████| 20/20 [00:00<00:00, 10126.28it/s]\n",
      "100%|██████████| 20/20 [00:00<00:00, 3690.06it/s]\n",
      "100%|██████████| 20/20 [00:00<00:00, 7341.68it/s]\n",
      "100%|██████████| 20/20 [00:00<00:00, 4122.57it/s]\n",
      "100%|██████████| 20/20 [00:00<00:00, 3795.06it/s]\n",
      "  0%|          | 0/20 [00:00<?, ?it/s]"
     ]
    },
    {
     "name": "stdout",
     "output_type": "stream",
     "text": [
      "Iteration 187 | 4.032690507525349e-08 -- Iter time: 0.010725021362304688 sec. ETA: 0.6935459096381004 sec\n",
      "Iteration 188 | 3.582552502723672e-08 -- Iter time: 0.01285409927368164 sec. ETA: 0.682897994127223 sec\n",
      "Iteration 189 | 3.182625092004343e-08 -- Iter time: 0.010415792465209961 sec. ETA: 0.6714568640056408 sec\n",
      "Iteration 190 | 2.8273117106685717e-08 -- Iter time: 0.009079933166503906 sec. ETA: 0.6596138227672476 sec\n",
      "Iteration 191 | 2.511639109955619e-08 -- Iter time: 0.01576709747314453 sec. ETA: 0.6498196447889009 sec\n",
      "Iteration 192 | 2.231187990342604e-08 -- Iter time: 0.008021116256713867 sec. ETA: 0.6376758980627504 sec\n",
      "Iteration 193 | 1.98203134865228e-08 -- Iter time: 0.010740280151367188 sec. ETA: 0.6263595659708238 sec\n",
      "Iteration 194 | 1.7606796815701726e-08 -- Iter time: 0.01092386245727539 sec. ETA: 0.615100921728672 sec\n",
      "Iteration 195 | 1.564032283684956e-08 -- Iter time: 0.0072062015533447266 sec. ETA: 0.602821440112834 sec\n",
      "Iteration 196 | 1.3893339626837598e-08 -- Iter time: 0.011121273040771484 sec. ETA: 0.5916467572226741 sec\n",
      "Iteration 197 | 1.234136569562028e-08 -- Iter time: 0.008453845977783203 sec. ETA: 0.5797720774255617 sec\n",
      "Iteration 198 | 1.0962648086239472e-08 -- Iter time: 0.009600162506103516 sec. ETA: 0.5682255574806251 sec\n",
      "Iteration 199 | 9.737858515566668e-09 -- Iter time: 0.0073511600494384766 sec. ETA: 0.5561362504959105 sec\n",
      "Iteration 200 | 8.649823326012084e-09 -- Iter time: 0.00873875617980957 sec. ETA: 0.5444323589552693 sec\n",
      "Iteration 201 | 7.68328348947174e-09 -- Iter time: 0.011085987091064453 sec. ETA: 0.5333155830307761 sec\n",
      "Iteration 202 | 6.824681321125412e-09 -- Iter time: 0.011288166046142578 sec. ETA: 0.5222459203503989 sec\n",
      "Iteration 203 | 6.0619709340459175e-09 -- Iter time: 0.010552167892456055 sec. ETA: 0.5110081551121729 sec\n",
      "Iteration 204 | 5.38444979285595e-09 -- Iter time: 0.007437944412231445 sec. ETA: 0.49909346859629555 sec\n",
      "Iteration 205 | 4.782609020833318e-09 -- Iter time: 0.010977983474731445 sec. ETA: 0.48797837044428843 sec\n",
      "Iteration 206 | 4.2480003738844865e-09 -- Iter time: 0.012637853622436523 sec. ETA: 0.4772094010154981 sec\n"
     ]
    },
    {
     "name": "stderr",
     "output_type": "stream",
     "text": [
      "100%|██████████| 20/20 [00:00<00:00, 3912.23it/s]\n",
      "100%|██████████| 20/20 [00:00<00:00, 3568.86it/s]\n",
      "100%|██████████| 20/20 [00:00<00:00, 3636.31it/s]\n",
      "100%|██████████| 20/20 [00:00<00:00, 6779.77it/s]\n",
      "100%|██████████| 20/20 [00:00<00:00, 4089.21it/s]\n",
      "100%|██████████| 20/20 [00:00<00:00, 5598.75it/s]\n",
      "100%|██████████| 20/20 [00:00<00:00, 4597.76it/s]\n",
      "100%|██████████| 20/20 [00:00<00:00, 2451.88it/s]\n",
      "100%|██████████| 20/20 [00:00<00:00, 4905.62it/s]\n",
      "100%|██████████| 20/20 [00:00<00:00, 4882.78it/s]\n",
      "100%|██████████| 20/20 [00:00<00:00, 5882.61it/s]\n",
      "100%|██████████| 20/20 [00:00<00:00, 4483.25it/s]\n",
      "100%|██████████| 20/20 [00:00<00:00, 7070.04it/s]\n",
      "100%|██████████| 20/20 [00:00<00:00, 4630.75it/s]\n",
      "100%|██████████| 20/20 [00:00<00:00, 3321.04it/s]\n",
      "100%|██████████| 20/20 [00:00<00:00, 5630.69it/s]\n",
      "100%|██████████| 20/20 [00:00<00:00, 3029.36it/s]\n",
      "100%|██████████| 20/20 [00:00<00:00, 4682.97it/s]\n",
      "100%|██████████| 20/20 [00:00<00:00, 7355.85it/s]\n",
      "100%|██████████| 20/20 [00:00<00:00, 7393.45it/s]\n",
      "100%|██████████| 20/20 [00:00<00:00, 3958.94it/s]\n",
      "  0%|          | 0/20 [00:00<?, ?it/s]"
     ]
    },
    {
     "name": "stdout",
     "output_type": "stream",
     "text": [
      "Iteration 207 | 3.773118027100286e-09 -- Iter time: 0.00981903076171875 sec. ETA: 0.46585327616104705 sec\n",
      "Iteration 208 | 3.351293526438838e-09 -- Iter time: 0.009765148162841797 sec. ETA: 0.4545012900703831 sec\n",
      "Iteration 209 | 2.976602439944208e-09 -- Iter time: 0.009569168090820312 sec. ETA: 0.44312708718436095 sec\n",
      "Iteration 210 | 2.643781407065511e-09 -- Iter time: 0.008109092712402344 sec. ETA: 0.4315001218804815 sec\n",
      "Iteration 211 | 2.3481544285441366e-09 -- Iter time: 0.01131892204284668 sec. ETA: 0.4204816908206579 sec\n",
      "Iteration 212 | 2.0855673687325607e-09 -- Iter time: 0.009701013565063477 sec. ETA: 0.4091793931146182 sec\n",
      "Iteration 213 | 1.8523297554379853e-09 -- Iter time: 0.010344982147216797 sec. ETA: 0.398000391844277 sec\n",
      "Iteration 214 | 1.6451630656917205e-09 -- Iter time: 0.013011932373046875 sec. ETA: 0.387263303579286 sec\n",
      "Iteration 215 | 1.4611547747165388e-09 -- Iter time: 0.009924173355102539 sec. ETA: 0.3760191158012107 sec\n",
      "Iteration 216 | 1.2977175266033585e-09 -- Iter time: 0.007176876068115234 sec. ETA: 0.3643693023013629 sec\n",
      "Iteration 217 | 1.1525528560823473e-09 -- Iter time: 0.006648063659667969 sec. ETA: 0.35268290108496986 sec\n",
      "Iteration 218 | 1.0236189549653955e-09 -- Iter time: 0.012531042098999023 sec. ETA: 0.34187526245639743 sec\n",
      "Iteration 219 | 9.091020320287331e-10 -- Iter time: 0.0069429874420166016 sec. ETA: 0.33028994907032355 sec\n",
      "Iteration 220 | 8.073908666900551e-10 -- Iter time: 0.010408878326416016 sec. ETA: 0.3192014478450447 sec\n",
      "Iteration 221 | 7.170542002506625e-10 -- Iter time: 0.013128042221069336 sec. ETA: 0.30846202695691904 sec\n",
      "Iteration 222 | 6.368206485753268e-10 -- Iter time: 0.009727001190185547 sec. ETA: 0.29728939821901873 sec\n",
      "Iteration 223 | 5.655608554351869e-10 -- Iter time: 0.008873939514160156 sec. ETA: 0.28603066078254147 sec\n",
      "Iteration 224 | 5.022716364509256e-10 -- Iter time: 0.00837397575378418 sec. ETA: 0.27473757002088756 sec\n",
      "Iteration 225 | 4.460618921037473e-10 -- Iter time: 0.009622573852539062 sec. ETA: 0.2636029066237728 sec\n",
      "Iteration 226 | 3.961400923428008e-10 -- Iter time: 0.006600379943847656 sec. ETA: 0.25217535212176484 sec\n",
      "Iteration 227 | 3.518031577703019e-10 -- Iter time: 0.008511066436767578 sec. ETA: 0.24097450574239093 sec\n"
     ]
    },
    {
     "name": "stderr",
     "output_type": "stream",
     "text": [
      "100%|██████████| 20/20 [00:00<00:00, 3533.53it/s]\n",
      "100%|██████████| 20/20 [00:00<00:00, 8681.16it/s]\n",
      "100%|██████████| 20/20 [00:00<00:00, 3195.42it/s]\n",
      "100%|██████████| 20/20 [00:00<00:00, 4585.19it/s]\n",
      "100%|██████████| 20/20 [00:00<00:00, 5302.20it/s]\n",
      "100%|██████████| 20/20 [00:00<00:00, 5644.71it/s]\n",
      "100%|██████████| 20/20 [00:00<00:00, 5597.26it/s]\n",
      "100%|██████████| 20/20 [00:00<00:00, 3759.35it/s]\n",
      "100%|██████████| 20/20 [00:00<00:00, 5925.83it/s]\n",
      "100%|██████████| 20/20 [00:00<00:00, 5480.60it/s]\n",
      "100%|██████████| 20/20 [00:00<00:00, 7429.46it/s]\n",
      "100%|██████████| 20/20 [00:00<00:00, 6297.28it/s]\n",
      "100%|██████████| 20/20 [00:00<00:00, 6416.74it/s]\n",
      "100%|██████████| 20/20 [00:00<00:00, 5043.96it/s]\n",
      "100%|██████████| 20/20 [00:00<00:00, 6127.54it/s]\n",
      "100%|██████████| 20/20 [00:00<00:00, 4073.33it/s]\n",
      "100%|██████████| 20/20 [00:00<00:00, 4164.11it/s]\n",
      "100%|██████████| 20/20 [00:00<00:00, 4260.77it/s]\n",
      "100%|██████████| 20/20 [00:00<00:00, 4438.65it/s]\n",
      "100%|██████████| 20/20 [00:00<00:00, 7924.25it/s]\n",
      "100%|██████████| 20/20 [00:00<00:00, 3718.85it/s]\n",
      "100%|██████████| 20/20 [00:00<00:00, 6029.33it/s]"
     ]
    },
    {
     "name": "stdout",
     "output_type": "stream",
     "text": [
      "Iteration 228 | 3.124265815608036e-10 -- Iter time: 0.012666940689086914 sec. ETA: 0.23017825726338345 sec\n",
      "Iteration 229 | 2.774556537916606e-10 -- Iter time: 0.005366086959838867 sec. ETA: 0.21873088504957114 sec\n",
      "Iteration 230 | 2.463976653140129e-10 -- Iter time: 0.012033939361572266 sec. ETA: 0.20788460273247258 sec\n",
      "Iteration 231 | 2.1881498183636058e-10 -- Iter time: 0.011111974716186523 sec. ETA: 0.19695655025284864 sec\n",
      "Iteration 232 | 1.9431889118460013e-10 -- Iter time: 0.007990121841430664 sec. ETA: 0.1857991443683149 sec\n",
      "Iteration 233 | 1.7256413741891133e-10 -- Iter time: 0.009276151657104492 sec. ETA: 0.1747567429501786 sec\n",
      "Iteration 234 | 1.5324406538866293e-10 -- Iter time: 0.009078025817871094 sec. ETA: 0.16371672711473828 sec\n",
      "Iteration 235 | 1.3608630731923835e-10 -- Iter time: 0.010142087936401367 sec. ETA: 0.1527564606424105 sec\n",
      "Iteration 236 | 1.2084895115060888e-10 -- Iter time: 0.008240938186645508 sec. ETA: 0.14169881615457655 sec\n",
      "Iteration 237 | 1.0731713687481774e-10 -- Iter time: 0.01079702377319336 sec. ETA: 0.13079371973246084 sec\n",
      "Iteration 238 | 9.530003290709428e-11 -- Iter time: 0.008954048156738281 sec. ETA: 0.11980470453844906 sec\n",
      "Iteration 239 | 8.462815031929461e-11 -- Iter time: 0.007776975631713867 sec. ETA: 0.10878360271453856 sec\n",
      "Iteration 240 | 7.515095706698697e-11 -- Iter time: 0.006593942642211914 sec. ETA: 0.09774524344448231 sec\n",
      "Iteration 241 | 6.673475873744836e-11 -- Iter time: 0.008265972137451172 sec. ETA: 0.0867988885926806 sec\n",
      "Iteration 242 | 5.926081610289702e-11 -- Iter time: 0.008324146270751953 sec. ETA: 0.07587627030203861 sec\n",
      "Iteration 243 | 5.262367302878938e-11 -- Iter time: 0.009870052337646484 sec. ETA: 0.06501296504599148 sec\n",
      "Iteration 244 | 4.6729671182439686e-11 -- Iter time: 0.009608983993530273 sec. ETA: 0.05415244005164321 sec\n",
      "Iteration 245 | 4.149563080111173e-11 -- Iter time: 0.010604143142700195 sec. ETA: 0.043318271636962884 sec\n",
      "Iteration 246 | 3.684767886239187e-11 -- Iter time: 0.00933074951171875 sec. ETA: 0.03247049945568748 sec\n",
      "Iteration 247 | 3.272020822295097e-11 -- Iter time: 0.006947755813598633 sec. ETA: 0.021615743637084957 sec\n",
      "Iteration 248 | 2.905495314783919e-11 -- Iter time: 0.008938789367675781 sec. ETA: 0.010800365463318114 sec\n",
      "Iteration 249 | 2.5800168140776195e-11 -- Iter time: 0.008788108825683594 sec. ETA: 0.0 sec\n"
     ]
    },
    {
     "name": "stderr",
     "output_type": "stream",
     "text": [
      "\n"
     ]
    }
   ],
   "source": [
    "user_mat, movie_mat = FunkSVD(ratings_mat, latent_features=4, \n",
    "                              learning_rate=0.005, iters=250)\n",
    "#use your function with 4 latent features, lr of 0.005 and 250 iterations"
   ]
  },
  {
   "cell_type": "code",
   "execution_count": 7,
   "metadata": {},
   "outputs": [
    {
     "name": "stdout",
     "output_type": "stream",
     "text": [
      "[[ 9.99999357  9.99999673  9.99999802 10.0000069 ]\n",
      " [ 9.99999696  3.99999852  8.99999914 10.0000033 ]\n",
      " [ 8.00000036  9.00000017 10.00000016  4.99999976]\n",
      " [ 8.99999536  7.99999783  9.99999874 10.00000497]\n",
      " [10.0000042   5.00000214  9.00000139  8.9999957 ]\n",
      " [ 6.00000392  4.00000188 10.00000119  5.99999599]\n",
      " [ 8.99999736  7.99999867  9.99999925  9.00000291]\n",
      " [ 9.99998814  4.99999421  8.99999654  8.00001261]\n",
      " [ 6.99999319  7.99999688  9.99999821  8.00000727]\n",
      " [ 9.00000494  5.00000273  9.00000177  6.99999487]\n",
      " [ 9.00000617  8.00000324 10.00000208  7.99999361]\n",
      " [ 9.00000216 10.00000116 10.0000008   8.99999784]\n",
      " [ 9.99999028  8.99999532  9.99999722  8.00001036]\n",
      " [ 5.00000168  8.00000108  5.00000075  7.99999824]\n",
      " [10.00001115  8.00000566 10.00000355  9.99998836]\n",
      " [ 9.00000007  9.00000005 10.00000005 10.        ]\n",
      " [ 9.00000537  8.00000261  8.00000161  7.99999443]\n",
      " [10.00000024  8.00000007  1.00000005  9.99999979]\n",
      " [ 4.99999893  5.99999939  9.99999962 10.00000118]\n",
      " [ 8.          6.99999991  9.99999994  7.00000009]]\n",
      "[[10. 10. 10. 10.]\n",
      " [10.  4.  9. 10.]\n",
      " [ 8.  9. 10.  5.]\n",
      " [ 9.  8. 10. 10.]\n",
      " [10.  5.  9.  9.]\n",
      " [ 6.  4. 10.  6.]\n",
      " [ 9.  8. 10.  9.]\n",
      " [10.  5.  9.  8.]\n",
      " [ 7.  8. 10.  8.]\n",
      " [ 9.  5.  9.  7.]\n",
      " [ 9.  8. 10.  8.]\n",
      " [ 9. 10. 10.  9.]\n",
      " [10.  9. 10.  8.]\n",
      " [ 5.  8.  5.  8.]\n",
      " [10.  8. 10. 10.]\n",
      " [ 9.  9. 10. 10.]\n",
      " [ 9.  8.  8.  8.]\n",
      " [10.  8.  1. 10.]\n",
      " [ 5.  6. 10. 10.]\n",
      " [ 8.  7. 10.  7.]]\n"
     ]
    }
   ],
   "source": [
    "#Compare the predicted and actual results\n",
    "print(np.dot(user_mat, movie_mat))\n",
    "print(ratings_mat)"
   ]
  },
  {
   "cell_type": "markdown",
   "metadata": {},
   "source": [
    "The predicted and the actual matrices are basically the same. The error after 250 iterations is zero, for all practical means."
   ]
  },
  {
   "cell_type": "markdown",
   "metadata": {},
   "source": [
    "The last time we placed an **np.nan** value into this matrix the entire svd algorithm in python broke.  Let's see if that is still the case using your FunkSVD function.  In the below cell, I have placed a nan into the first cell of your numpy array.  \n",
    "\n",
    "`4.` Use 4 latent features, a learning rate of 0.005, and 250 iterations.  Are you able to run your SVD without it breaking (something that was not true about the python built in)?  Do you get a prediction for the nan value?  What is your prediction for the missing value? Use the cells below to answer these questions."
   ]
  },
  {
   "cell_type": "code",
   "execution_count": 8,
   "metadata": {},
   "outputs": [
    {
     "data": {
      "text/plain": [
       "matrix([[nan, 10., 10., 10.],\n",
       "        [10.,  4.,  9., 10.],\n",
       "        [ 8.,  9., 10.,  5.],\n",
       "        [ 9.,  8., 10., 10.],\n",
       "        [10.,  5.,  9.,  9.],\n",
       "        [ 6.,  4., 10.,  6.],\n",
       "        [ 9.,  8., 10.,  9.],\n",
       "        [10.,  5.,  9.,  8.],\n",
       "        [ 7.,  8., 10.,  8.],\n",
       "        [ 9.,  5.,  9.,  7.],\n",
       "        [ 9.,  8., 10.,  8.],\n",
       "        [ 9., 10., 10.,  9.],\n",
       "        [10.,  9., 10.,  8.],\n",
       "        [ 5.,  8.,  5.,  8.],\n",
       "        [10.,  8., 10., 10.],\n",
       "        [ 9.,  9., 10., 10.],\n",
       "        [ 9.,  8.,  8.,  8.],\n",
       "        [10.,  8.,  1., 10.],\n",
       "        [ 5.,  6., 10., 10.],\n",
       "        [ 8.,  7., 10.,  7.]])"
      ]
     },
     "execution_count": 8,
     "metadata": {},
     "output_type": "execute_result"
    }
   ],
   "source": [
    "# Here we are placing a nan into our original subset matrix\n",
    "ratings_mat[0, 0] = np.nan\n",
    "ratings_mat"
   ]
  },
  {
   "cell_type": "code",
   "execution_count": 9,
   "metadata": {},
   "outputs": [
    {
     "name": "stderr",
     "output_type": "stream",
     "text": [
      "100%|██████████| 20/20 [00:00<00:00, 6115.93it/s]\n",
      "100%|██████████| 20/20 [00:00<00:00, 4485.41it/s]\n",
      "100%|██████████| 20/20 [00:00<00:00, 9078.58it/s]\n",
      "100%|██████████| 20/20 [00:00<00:00, 6172.63it/s]\n",
      "100%|██████████| 20/20 [00:00<00:00, 2544.86it/s]\n",
      "100%|██████████| 20/20 [00:00<00:00, 4924.92it/s]\n",
      "100%|██████████| 20/20 [00:00<00:00, 6420.67it/s]"
     ]
    },
    {
     "name": "stdout",
     "output_type": "stream",
     "text": [
      "Optimization Statistics\n",
      "Iterations | Mean Squared Error \n",
      "Iteration 0 | 42.020098491256505 -- Iter time: 0.0065310001373291016 sec. ETA: 1.6262190341949463 sec\n",
      "Iteration 1 | 14.90571501980531 -- Iter time: 0.007200002670288086 sec. ETA: 1.7026443481445312 sec\n",
      "Iteration 2 | 4.288855832498844 -- Iter time: 0.0045680999755859375 sec. ETA: 1.5066261291503906 sec\n",
      "Iteration 3 | 2.8754430890846017 -- Iter time: 0.006797075271606445 sec. ETA: 1.5434149503707886 sec\n",
      "Iteration 4 | 2.741064689064605 -- Iter time: 0.010975122451782227 sec. ETA: 1.767493724822998 sec\n",
      "Iteration 5 | 2.7075536144918786 -- Iter time: 0.016086101531982422 sec. ETA: 2.121067682902018 sec\n",
      "Iteration 6 | 2.6836563141320875 -- Iter time: 0.006746053695678711 sec. ETA: 2.0447913919176375 sec\n"
     ]
    },
    {
     "name": "stderr",
     "output_type": "stream",
     "text": [
      "\n",
      "100%|██████████| 20/20 [00:00<00:00, 2916.76it/s]\n",
      "100%|██████████| 20/20 [00:00<00:00, 1281.39it/s]\n",
      "100%|██████████| 20/20 [00:00<00:00, 2500.93it/s]\n",
      "100%|██████████| 20/20 [00:00<00:00, 2046.65it/s]\n",
      "100%|██████████| 20/20 [00:00<00:00, 5433.04it/s]\n",
      "100%|██████████| 20/20 [00:00<00:00, 2968.16it/s]\n",
      "100%|██████████| 20/20 [00:00<00:00, 3705.05it/s]\n",
      "100%|██████████| 20/20 [00:00<00:00, 4564.98it/s]\n",
      "100%|██████████| 20/20 [00:00<00:00, 5897.92it/s]\n",
      "100%|██████████| 20/20 [00:00<00:00, 3452.39it/s]\n",
      "  0%|          | 0/20 [00:00<?, ?it/s]"
     ]
    },
    {
     "name": "stdout",
     "output_type": "stream",
     "text": [
      "Iteration 7 | 2.6594368763728715 -- Iter time: 0.009907960891723633 sec. ETA: 2.081545352935791 sec\n",
      "Iteration 8 | 2.6330518998702033 -- Iter time: 0.01913309097290039 sec. ETA: 2.3549584812588162 sec\n",
      "Iteration 9 | 2.6038482776858447 -- Iter time: 0.012302160263061523 sec. ETA: 2.4059200286865234 sec\n",
      "Iteration 10 | 2.5713466847732 -- Iter time: 0.014060020446777344 sec. ETA: 2.4835725914348252 sec\n",
      "Iteration 11 | 2.535102121960849 -- Iter time: 0.007738828659057617 sec. ETA: 2.42056941986084 sec\n",
      "Iteration 12 | 2.4947165454229667 -- Iter time: 0.013025999069213867 sec. ETA: 2.462457638520461 sec\n",
      "Iteration 13 | 2.449876432890763 -- Iter time: 0.015049934387207031 sec. ETA: 2.530618735722133 sec\n",
      "Iteration 14 | 2.400394429295841 -- Iter time: 0.00896596908569336 sec. ETA: 2.4923695723215737 sec\n",
      "Iteration 15 | 2.346250951988085 -- Iter time: 0.012180805206298828 sec. ETA: 2.504797786474228 sec\n",
      "Iteration 16 | 2.2876317471676506 -- Iter time: 0.016199827194213867 sec. ETA: 2.569415064419017 sec\n"
     ]
    },
    {
     "name": "stderr",
     "output_type": "stream",
     "text": [
      "100%|██████████| 20/20 [00:00<00:00, 2942.13it/s]\n",
      "100%|██████████| 20/20 [00:00<00:00, 3020.74it/s]\n",
      "100%|██████████| 20/20 [00:00<00:00, 5800.45it/s]\n",
      "100%|██████████| 20/20 [00:00<00:00, 7821.55it/s]\n",
      "100%|██████████| 20/20 [00:00<00:00, 2936.47it/s]\n",
      "100%|██████████| 20/20 [00:00<00:00, 4859.30it/s]"
     ]
    },
    {
     "name": "stdout",
     "output_type": "stream",
     "text": [
      "Iteration 17 | 2.2249551287371343 -- Iter time: 0.015063047409057617 sec. ETA: 2.610400835673014 sec\n",
      "Iteration 18 | 2.158881077074779 -- Iter time: 0.020689964294433594 sec. ETA: 2.713898194463629 sec\n",
      "Iteration 19 | 2.0902946582471245 -- Iter time: 0.011549949645996094 sec. ETA: 2.6998666524887085 sec\n",
      "Iteration 20 | 2.0202590152950797 -- Iter time: 0.007685184478759766 sec. ETA: 2.6439271086738225 sec\n",
      "Iteration 21 | 1.9499385414094281 -- Iter time: 0.013569116592407227 sec. ETA: 2.6533532576127485 sec\n"
     ]
    },
    {
     "name": "stderr",
     "output_type": "stream",
     "text": [
      "\n",
      "100%|██████████| 20/20 [00:00<00:00, 3418.20it/s]\n",
      "100%|██████████| 20/20 [00:00<00:00, 4662.93it/s]\n",
      "100%|██████████| 20/20 [00:00<00:00, 2810.91it/s]\n",
      "100%|██████████| 20/20 [00:00<00:00, 2490.31it/s]\n",
      "100%|██████████| 20/20 [00:00<00:00, 2203.41it/s]\n",
      "100%|██████████| 20/20 [00:00<00:00, 3465.08it/s]\n",
      "100%|██████████| 20/20 [00:00<00:00, 5786.84it/s]\n",
      "100%|██████████| 20/20 [00:00<00:00, 3579.06it/s]\n",
      "100%|██████████| 20/20 [00:00<00:00, 4569.21it/s]\n",
      "100%|██████████| 20/20 [00:00<00:00, 2370.80it/s]\n",
      "100%|██████████| 20/20 [00:00<00:00, 2669.24it/s]\n",
      "  0%|          | 0/20 [00:00<?, ?it/s]"
     ]
    },
    {
     "name": "stdout",
     "output_type": "stream",
     "text": [
      "Iteration 22 | 1.8804998347668598 -- Iter time: 0.013646125793457031 sec. ETA: 2.6615398655767026 sec\n",
      "Iteration 23 | 1.8130046717701749 -- Iter time: 0.009613752365112305 sec. ETA: 2.629935562610626 sec\n",
      "Iteration 24 | 1.7483130446359163 -- Iter time: 0.008523941040039062 sec. ETA: 2.5902822017669678 sec\n",
      "Iteration 25 | 1.6870134110474129 -- Iter time: 0.015017986297607422 sec. ETA: 2.6089721092811 sec\n",
      "Iteration 26 | 1.6293914843121473 -- Iter time: 0.016212940216064453 sec. ETA: 2.6350345699875444 sec\n",
      "Iteration 27 | 1.5754399469632363 -- Iter time: 0.016225099563598633 sec. ETA: 2.6581737654549733 sec\n",
      "Iteration 28 | 1.5249024689755577 -- Iter time: 0.010612010955810547 sec. ETA: 2.635822575667809 sec\n",
      "Iteration 29 | 1.4773392611193676 -- Iter time: 0.0060901641845703125 sec. ETA: 2.5810937881469727 sec\n",
      "Iteration 30 | 1.4321995656159556 -- Iter time: 0.013839960098266602 sec. ETA: 2.5842515345542663 sec\n",
      "Iteration 31 | 1.3888886216863752 -- Iter time: 0.008409261703491211 sec. ETA: 2.549350291490555 sec\n",
      "Iteration 32 | 1.3468211095986087 -- Iter time: 0.016669034957885742 sec. ETA: 2.5703688896063603 sec\n",
      "Iteration 33 | 1.3054579552613448 -- Iter time: 0.010474920272827148 sec. ETA: 2.5498197218951058 sec\n"
     ]
    },
    {
     "name": "stderr",
     "output_type": "stream",
     "text": [
      "100%|██████████| 20/20 [00:00<00:00, 3819.08it/s]\n",
      "100%|██████████| 20/20 [00:00<00:00, 5017.41it/s]\n",
      "100%|██████████| 20/20 [00:00<00:00, 2499.36it/s]\n",
      "100%|██████████| 20/20 [00:00<00:00, 2223.44it/s]\n",
      "100%|██████████| 20/20 [00:00<00:00, 3749.43it/s]\n",
      "  0%|          | 0/20 [00:00<?, ?it/s]"
     ]
    },
    {
     "name": "stdout",
     "output_type": "stream",
     "text": [
      "Iteration 34 | 1.2643272682875906 -- Iter time: 0.011411905288696289 sec. ETA: 2.5356019905635288 sec\n",
      "Iteration 35 | 1.2230325090399032 -- Iter time: 0.009431123733520508 sec. ETA: 2.509765492545234 sec\n",
      "Iteration 36 | 1.1812518338113516 -- Iter time: 0.01111292839050293 sec. ETA: 2.4944975118379333 sec\n",
      "Iteration 37 | 1.1387324006892399 -- Iter time: 0.012952089309692383 sec. ETA: 2.48970880006489 sec\n",
      "Iteration 38 | 1.095282729340504 -- Iter time: 0.014505147933959961 sec. ETA: 2.492903898923825 sec\n"
     ]
    },
    {
     "name": "stderr",
     "output_type": "stream",
     "text": [
      "100%|██████████| 20/20 [00:00<00:00, 3415.97it/s]\n",
      "100%|██████████| 20/20 [00:00<00:00, 4807.78it/s]\n",
      "100%|██████████| 20/20 [00:00<00:00, 4611.66it/s]\n",
      "100%|██████████| 20/20 [00:00<00:00, 4369.52it/s]\n",
      "100%|██████████| 20/20 [00:00<00:00, 3287.97it/s]\n",
      "100%|██████████| 20/20 [00:00<00:00, 4132.12it/s]\n",
      "100%|██████████| 20/20 [00:00<00:00, 2697.21it/s]\n",
      "100%|██████████| 20/20 [00:00<00:00, 4603.31it/s]\n",
      "100%|██████████| 20/20 [00:00<00:00, 4146.00it/s]\n",
      "100%|██████████| 20/20 [00:00<00:00, 4365.88it/s]\n"
     ]
    },
    {
     "name": "stdout",
     "output_type": "stream",
     "text": [
      "Iteration 39 | 1.0507653714005782 -- Iter time: 0.01591968536376953 sec. ETA: 2.5026403069496155 sec\n",
      "Iteration 40 | 1.005091371430347 -- Iter time: 0.008154153823852539 sec. ETA: 2.471539927691948 sec\n",
      "Iteration 41 | 0.9582173489676092 -- Iter time: 0.012171030044555664 sec. ETA: 2.461425327119373 sec\n",
      "Iteration 42 | 0.9101454931216679 -- Iter time: 0.018559932708740234 sec. ETA: 2.4819709589315018 sec\n",
      "Iteration 43 | 0.8609262839240686 -- Iter time: 0.011842966079711914 sec. ETA: 2.4692914485931396 sec\n",
      "Iteration 44 | 0.8106632982138418 -- Iter time: 0.020547151565551758 sec. ETA: 2.4963015185462103 sec\n",
      "Iteration 45 | 0.7595190128276793 -- Iter time: 0.020576953887939453 sec. ETA: 2.5213760500368867 sec\n",
      "Iteration 46 | 0.7077201175149779 -- Iter time: 0.010928153991699219 sec. ETA: 2.5028333613213074 sec\n",
      "Iteration 47 | 0.6555605685336982 -- Iter time: 0.01673293113708496 sec. ETA: 2.509036382039388 sec\n",
      "Iteration 48 | 0.6034005516094891 -- Iter time: 0.015561819076538086 sec. ETA: 2.5094992919844024 sec\n"
     ]
    },
    {
     "name": "stderr",
     "output_type": "stream",
     "text": [
      "100%|██████████| 20/20 [00:00<00:00, 3727.11it/s]\n",
      "100%|██████████| 20/20 [00:00<00:00, 3662.99it/s]\n",
      "100%|██████████| 20/20 [00:00<00:00, 5011.12it/s]\n",
      "100%|██████████| 20/20 [00:00<00:00, 3482.63it/s]\n",
      "100%|██████████| 20/20 [00:00<00:00, 3748.76it/s]\n"
     ]
    },
    {
     "name": "stdout",
     "output_type": "stream",
     "text": [
      "Iteration 49 | 0.5516597775617378 -- Iter time: 0.017403125762939453 sec. ETA: 2.51668643951416 sec\n",
      "Iteration 50 | 0.5008041611598842 -- Iter time: 0.011752843856811523 sec. ETA: 2.5008620841830385 sec\n",
      "Iteration 51 | 0.45132590685020907 -- Iter time: 0.010352849960327148 sec. ETA: 2.4798635794566226 sec\n",
      "Iteration 52 | 0.40371820870771485 -- Iter time: 0.012559890747070312 sec. ETA: 2.4674703265136144 sec\n",
      "Iteration 53 | 0.3584469298072305 -- Iter time: 0.010193109512329102 sec. ETA: 2.446480362503617 sec\n"
     ]
    },
    {
     "name": "stderr",
     "output_type": "stream",
     "text": [
      "100%|██████████| 20/20 [00:00<00:00, 4566.22it/s]\n",
      "100%|██████████| 20/20 [00:00<00:00, 2838.59it/s]\n",
      "100%|██████████| 20/20 [00:00<00:00, 3914.79it/s]\n",
      "100%|██████████| 20/20 [00:00<00:00, 3012.39it/s]\n",
      "100%|██████████| 20/20 [00:00<00:00, 5947.26it/s]\n",
      "100%|██████████| 20/20 [00:00<00:00, 2844.95it/s]\n",
      "100%|██████████| 20/20 [00:00<00:00, 3932.41it/s]\n",
      "100%|██████████| 20/20 [00:00<00:00, 4097.40it/s]\n",
      "100%|██████████| 20/20 [00:00<00:00, 2432.47it/s]\n",
      "100%|██████████| 20/20 [00:00<00:00, 5003.94it/s]\n",
      "100%|██████████| 20/20 [00:00<00:00, 2814.87it/s]\n",
      "100%|██████████| 20/20 [00:00<00:00, 6058.94it/s]\n",
      "100%|██████████| 20/20 [00:00<00:00, 3545.48it/s]\n",
      "100%|██████████| 20/20 [00:00<00:00, 5624.28it/s]\n",
      "100%|██████████| 20/20 [00:00<00:00, 4126.22it/s]\n",
      "  0%|          | 0/20 [00:00<?, ?it/s]"
     ]
    },
    {
     "name": "stdout",
     "output_type": "stream",
     "text": [
      "Iteration 54 | 0.3159224706016338 -- Iter time: 0.01305699348449707 sec. ETA: 2.436036781831221 sec\n",
      "Iteration 55 | 0.27647531429833155 -- Iter time: 0.01826310157775879 sec. ETA: 2.4435353108814786 sec\n",
      "Iteration 56 | 0.2403383252041064 -- Iter time: 0.01036214828491211 sec. ETA: 2.4233775724444473 sec\n",
      "Iteration 57 | 0.2076378365066606 -- Iter time: 0.011785030364990234 sec. ETA: 2.4082678433122306 sec\n",
      "Iteration 58 | 0.17839414044728932 -- Iter time: 0.006570100784301758 sec. ETA: 2.3763885861736234 sec\n",
      "Iteration 59 | 0.15253053380541287 -- Iter time: 0.010760068893432617 sec. ETA: 2.3586211999257403 sec\n",
      "Iteration 60 | 0.12988891115540613 -- Iter time: 0.008384943008422852 sec. ETA: 2.3337245651933016 sec\n",
      "Iteration 61 | 0.11024925763890162 -- Iter time: 0.00872182846069336 sec. ETA: 2.3103820893072315 sec\n",
      "Iteration 62 | 0.09335032463312268 -- Iter time: 0.011426925659179688 sec. ETA: 2.2955331764523943 sec\n",
      "Iteration 63 | 0.0789091751605766 -- Iter time: 0.00885319709777832 sec. ETA: 2.2733113020658493 sec\n",
      "Iteration 64 | 0.06663796991238766 -- Iter time: 0.012243032455444336 sec. ETA: 2.261148764536931 sec\n",
      "Iteration 65 | 0.05625712331223357 -- Iter time: 0.007042646408081055 sec. ETA: 2.23448574181759 sec\n",
      "Iteration 66 | 0.04750463005827969 -- Iter time: 0.009490013122558594 sec. ETA: 2.2150930006112626 sec\n",
      "Iteration 67 | 0.04014185481002015 -- Iter time: 0.005626678466796875 sec. ETA: 2.185651414534625 sec\n",
      "Iteration 68 | 0.033956368079797475 -- Iter time: 0.009788036346435547 sec. ETA: 2.1678161413773247 sec\n"
     ]
    },
    {
     "name": "stderr",
     "output_type": "stream",
     "text": [
      "100%|██████████| 20/20 [00:00<00:00, 5273.20it/s]\n",
      "100%|██████████| 20/20 [00:00<00:00, 3666.51it/s]\n",
      "100%|██████████| 20/20 [00:00<00:00, 5918.31it/s]\n",
      "100%|██████████| 20/20 [00:00<00:00, 3860.38it/s]\n",
      "100%|██████████| 20/20 [00:00<00:00, 5858.38it/s]\n",
      "100%|██████████| 20/20 [00:00<00:00, 4429.98it/s]\n",
      "100%|██████████| 20/20 [00:00<00:00, 6130.68it/s]\n",
      "  0%|          | 0/20 [00:00<?, ?it/s]"
     ]
    },
    {
     "name": "stdout",
     "output_type": "stream",
     "text": [
      "Iteration 69 | 0.028762524915754012 -- Iter time: 0.007377147674560547 sec. ETA: 2.1440113612583707 sec\n",
      "Iteration 70 | 0.02440046810062447 -- Iter time: 0.010206937789916992 sec. ETA: 2.1278035909357205 sec\n",
      "Iteration 71 | 0.02073414632327599 -- Iter time: 0.00565791130065918 sec. ETA: 2.100516306029426 sec\n",
      "Iteration 72 | 0.01764881356289989 -- Iter time: 0.011001110076904297 sec. ETA: 2.0867770338711673 sec\n",
      "Iteration 73 | 0.01504834904934676 -- Iter time: 0.006843090057373047 sec. ETA: 2.0632224211821684 sec\n",
      "Iteration 74 | 0.012852625120606465 -- Iter time: 0.009251117706298828 sec. ETA: 2.0457321802775064 sec\n",
      "Iteration 75 | 0.010995060612949742 -- Iter time: 0.006148815155029297 sec. ETA: 2.0213561183527897 sec\n"
     ]
    },
    {
     "name": "stderr",
     "output_type": "stream",
     "text": [
      "100%|██████████| 20/20 [00:00<00:00, 4137.21it/s]\n",
      "100%|██████████| 20/20 [00:00<00:00, 2901.13it/s]\n",
      "100%|██████████| 20/20 [00:00<00:00, 4946.70it/s]\n",
      "100%|██████████| 20/20 [00:00<00:00, 3684.71it/s]\n",
      "100%|██████████| 20/20 [00:00<00:00, 4423.90it/s]\n",
      "100%|██████████| 20/20 [00:00<00:00, 3873.75it/s]\n",
      "100%|██████████| 20/20 [00:00<00:00, 8084.63it/s]\n",
      "100%|██████████| 20/20 [00:00<00:00, 4012.15it/s]\n",
      "100%|██████████| 20/20 [00:00<00:00, 5181.03it/s]\n",
      "100%|██████████| 20/20 [00:00<00:00, 1538.97it/s]\n",
      "100%|██████████| 20/20 [00:00<00:00, 4481.57it/s]\n",
      "100%|██████████| 20/20 [00:00<00:00, 4556.80it/s]\n",
      "100%|██████████| 20/20 [00:00<00:00, 3210.34it/s]\n",
      "100%|██████████| 20/20 [00:00<00:00, 10061.90it/s]\n",
      "  0%|          | 0/20 [00:00<?, ?it/s]"
     ]
    },
    {
     "name": "stdout",
     "output_type": "stream",
     "text": [
      "Iteration 76 | 0.00942043105453323 -- Iter time: 0.01196432113647461 sec. ETA: 2.010519498354429 sec\n",
      "Iteration 77 | 0.008082961253004648 -- Iter time: 0.011398792266845703 sec. ETA: 1.998406899281037 sec\n",
      "Iteration 78 | 0.006944696764620994 -- Iter time: 0.007512092590332031 sec. ETA: 1.9778993884219398 sec\n",
      "Iteration 79 | 0.005974133939772605 -- Iter time: 0.008044958114624023 sec. ETA: 1.9588491022586823 sec\n",
      "Iteration 80 | 0.0051450800060997715 -- Iter time: 0.008426189422607422 sec. ETA: 1.9408659611219243 sec\n",
      "Iteration 81 | 0.0044357119918030105 -- Iter time: 0.009666919708251953 sec. ETA: 1.9256579003682952 sec\n",
      "Iteration 82 | 0.0038278040016241 -- Iter time: 0.00511479377746582 sec. ETA: 1.9014242643333343 sec\n",
      "Iteration 83 | 0.0033060949002262307 -- Iter time: 0.011592864990234375 sec. ETA: 1.8904477414630707 sec\n",
      "Iteration 84 | 0.002857771822414419 -- Iter time: 0.0071070194244384766 sec. ETA: 1.870748898562263 sec\n",
      "Iteration 85 | 0.0024720484926399303 -- Iter time: 0.02875804901123047 sec. ETA: 1.8926308986752531 sec\n",
      "Iteration 86 | 0.0021398207408700872 -- Iter time: 0.009160041809082031 sec. ETA: 1.8766306542802131 sec\n",
      "Iteration 87 | 0.0018533846678977974 -- Iter time: 0.010972976684570312 sec. ETA: 1.8641233173283662 sec\n",
      "Iteration 88 | 0.0016062055704957438 -- Iter time: 0.011921882629394531 sec. ETA: 1.8533670205748483 sec\n",
      "Iteration 89 | 0.0013927279802080344 -- Iter time: 0.0052111148834228516 sec. ETA: 1.8306545681423612 sec\n"
     ]
    },
    {
     "name": "stderr",
     "output_type": "stream",
     "text": [
      "100%|██████████| 20/20 [00:00<00:00, 2067.79it/s]\n",
      "100%|██████████| 20/20 [00:00<00:00, 2096.16it/s]\n",
      "100%|██████████| 20/20 [00:00<00:00, 2140.82it/s]\n",
      "100%|██████████| 20/20 [00:00<00:00, 5228.83it/s]\n",
      "  0%|          | 0/20 [00:00<?, ?it/s]"
     ]
    },
    {
     "name": "stdout",
     "output_type": "stream",
     "text": [
      "Iteration 90 | 0.0012082190284611214 -- Iter time: 0.01627182960510254 sec. ETA: 1.8276526246752056 sec\n",
      "Iteration 91 | 0.0010486388703873275 -- Iter time: 0.016472816467285156 sec. ETA: 1.8247073785118435 sec\n",
      "Iteration 92 | 0.0009105331302211014 -- Iter time: 0.013186216354370117 sec. ETA: 1.815922870430895 sec\n",
      "Iteration 93 | 0.0007909433206549649 -- Iter time: 0.012350797653198242 sec. ETA: 1.8056582694358014 sec\n"
     ]
    },
    {
     "name": "stderr",
     "output_type": "stream",
     "text": [
      "100%|██████████| 20/20 [00:00<00:00, 3655.80it/s]\n",
      "100%|██████████| 20/20 [00:00<00:00, 2874.78it/s]\n",
      "100%|██████████| 20/20 [00:00<00:00, 7630.86it/s]\n",
      "100%|██████████| 20/20 [00:00<00:00, 4192.84it/s]\n",
      "100%|██████████| 20/20 [00:00<00:00, 4362.02it/s]\n",
      "100%|██████████| 20/20 [00:00<00:00, 6917.87it/s]\n",
      "100%|██████████| 20/20 [00:00<00:00, 3637.73it/s]\n",
      "100%|██████████| 20/20 [00:00<00:00, 3343.27it/s]\n",
      "100%|██████████| 20/20 [00:00<00:00, 4540.27it/s]\n",
      "100%|██████████| 20/20 [00:00<00:00, 3504.60it/s]\n",
      "100%|██████████| 20/20 [00:00<00:00, 7005.10it/s]\n",
      "100%|██████████| 20/20 [00:00<00:00, 5932.96it/s]\n",
      "100%|██████████| 20/20 [00:00<00:00, 3383.59it/s]\n",
      "100%|██████████| 20/20 [00:00<00:00, 2635.44it/s]\n",
      "100%|██████████| 20/20 [00:00<00:00, 5337.62it/s]\n",
      "  0%|          | 0/20 [00:00<?, ?it/s]"
     ]
    },
    {
     "name": "stdout",
     "output_type": "stream",
     "text": [
      "Iteration 94 | 0.0006873319806963608 -- Iter time: 0.008698225021362305 sec. ETA: 1.7893902879012258 sec\n",
      "Iteration 95 | 0.0005975199089876397 -- Iter time: 0.012003898620605469 sec. ETA: 1.7785828610261283 sec\n",
      "Iteration 96 | 0.0005196333738178183 -- Iter time: 0.007211923599243164 sec. ETA: 1.7601922885658814 sec\n",
      "Iteration 97 | 0.00045205958313240715 -- Iter time: 0.010502338409423828 sec. ETA: 1.7471333523185886 sec\n",
      "Iteration 98 | 0.00039340901877254065 -- Iter time: 0.011940717697143555 sec. ETA: 1.73631995615333 sec\n",
      "Iteration 99 | 0.000342483495807822 -- Iter time: 0.00883793830871582 sec. ETA: 1.7208298444747925 sec\n",
      "Iteration 100 | 0.00029824901358091916 -- Iter time: 0.011012077331542969 sec. ETA: 1.7086788522134913 sec\n",
      "Iteration 101 | 0.0002598126305663387 -- Iter time: 0.009827852249145508 sec. ETA: 1.6948319042430204 sec\n",
      "Iteration 102 | 0.0002264027287223925 -- Iter time: 0.009658336639404297 sec. ETA: 1.680821066921197 sec\n",
      "Iteration 103 | 0.00019735214126454661 -- Iter time: 0.01250314712524414 sec. ETA: 1.6708876077945414 sec\n",
      "Iteration 104 | 0.00017208370587659232 -- Iter time: 0.011004209518432617 sec. ETA: 1.6588352407727924 sec\n",
      "Iteration 105 | 0.000150097877369169 -- Iter time: 0.008582830429077148 sec. ETA: 1.6435132296580188 sec\n",
      "Iteration 106 | 0.00013096209288804758 -- Iter time: 0.010657072067260742 sec. ETA: 1.6310893018669057 sec\n",
      "Iteration 107 | 0.00011430163148868325 -- Iter time: 0.014509201049804688 sec. ETA: 1.6237629298810605 sec\n",
      "Iteration 108 | 9.979175022080092e-05 -- Iter time: 0.007506370544433594 sec. ETA: 1.6072460555155343 sec\n"
     ]
    },
    {
     "name": "stderr",
     "output_type": "stream",
     "text": [
      "100%|██████████| 20/20 [00:00<00:00, 1930.90it/s]\n",
      "100%|██████████| 20/20 [00:00<00:00, 5757.06it/s]\n",
      "100%|██████████| 20/20 [00:00<00:00, 5369.05it/s]\n",
      "100%|██████████| 20/20 [00:00<00:00, 2331.53it/s]\n",
      "100%|██████████| 20/20 [00:00<00:00, 5938.00it/s]"
     ]
    },
    {
     "name": "stdout",
     "output_type": "stream",
     "text": [
      "Iteration 109 | 8.715091238560731e-05 -- Iter time: 0.013764142990112305 sec. ETA: 1.5988574461503462 sec\n",
      "Iteration 110 | 7.613495159643692e-05 -- Iter time: 0.010002851486206055 sec. ETA: 1.585661894566304 sec\n",
      "Iteration 111 | 6.653203869441636e-05 -- Iter time: 0.008153676986694336 sec. ETA: 1.5702449083328247 sec\n",
      "Iteration 112 | 5.8158338250061865e-05 -- Iter time: 0.012952804565429688 sec. ETA: 1.5607748875575784 sec\n"
     ]
    },
    {
     "name": "stderr",
     "output_type": "stream",
     "text": [
      "\n",
      "100%|██████████| 20/20 [00:00<00:00, 3666.99it/s]\n",
      "100%|██████████| 20/20 [00:00<00:00, 5664.53it/s]\n",
      "100%|██████████| 20/20 [00:00<00:00, 4875.96it/s]\n",
      "100%|██████████| 20/20 [00:00<00:00, 3388.79it/s]\n",
      "100%|██████████| 20/20 [00:00<00:00, 3726.45it/s]\n",
      "100%|██████████| 20/20 [00:00<00:00, 4358.40it/s]\n",
      "100%|██████████| 20/20 [00:00<00:00, 11934.28it/s]\n",
      "100%|██████████| 20/20 [00:00<00:00, 4815.78it/s]\n",
      "100%|██████████| 20/20 [00:00<00:00, 4267.06it/s]\n",
      "100%|██████████| 20/20 [00:00<00:00, 4242.67it/s]\n",
      "100%|██████████| 20/20 [00:00<00:00, 6150.01it/s]\n",
      "100%|██████████| 20/20 [00:00<00:00, 3738.24it/s]\n",
      "100%|██████████| 20/20 [00:00<00:00, 4660.86it/s]\n",
      "100%|██████████| 20/20 [00:00<00:00, 3179.07it/s]\n",
      "100%|██████████| 20/20 [00:00<00:00, 4047.58it/s]"
     ]
    },
    {
     "name": "stdout",
     "output_type": "stream",
     "text": [
      "Iteration 113 | 5.085425796892916e-05 -- Iter time: 0.010722160339355469 sec. ETA: 1.5485826458847314 sec\n",
      "Iteration 114 | 4.448120834035133e-05 -- Iter time: 0.007730960845947266 sec. ETA: 1.532904562742814 sec\n",
      "Iteration 115 | 3.8918801751145016e-05 -- Iter time: 0.008927106857299805 sec. ETA: 1.5187452538260098 sec\n",
      "Iteration 116 | 3.406243038047543e-05 -- Iter time: 0.009675741195678711 sec. ETA: 1.5055263959444487 sec\n",
      "Iteration 117 | 2.9821170785605318e-05 -- Iter time: 0.011205911636352539 sec. ETA: 1.4940793069742495 sec\n",
      "Iteration 118 | 2.6115970418002262e-05 -- Iter time: 0.013009071350097656 sec. ETA: 1.4846212623500021 sec\n",
      "Iteration 119 | 2.287807757175194e-05 -- Iter time: 0.014441967010498047 sec. ETA: 1.4766563375790913 sec\n",
      "Iteration 120 | 2.0047681625099913e-05 -- Iter time: 0.008462667465209961 sec. ETA: 1.4622097291237066 sec\n",
      "Iteration 121 | 1.7572735027776254e-05 -- Iter time: 0.011362791061401367 sec. ETA: 1.4509039706871159 sec\n",
      "Iteration 122 | 1.5407932425981264e-05 -- Iter time: 0.00934600830078125 sec. ETA: 1.437514915698912 sec\n",
      "Iteration 123 | 1.3513825700112056e-05 -- Iter time: 0.009328126907348633 sec. ETA: 1.4241729013381466 sec\n",
      "Iteration 124 | 1.1856056598481898e-05 -- Iter time: 0.010837793350219727 sec. ETA: 1.4124047756195068 sec\n",
      "Iteration 125 | 1.0404691152409372e-05 -- Iter time: 0.01155710220336914 sec. ETA: 1.401359308333624 sec\n",
      "Iteration 126 | 9.133642212431867e-06 -- Iter time: 0.009253263473510742 sec. ETA: 1.388074506924847 sec\n",
      "Iteration 127 | 8.020168301435549e-06 -- Iter time: 0.008629083633422852 sec. ETA: 1.3742577768862247 sec\n"
     ]
    },
    {
     "name": "stderr",
     "output_type": "stream",
     "text": [
      "\n",
      "100%|██████████| 20/20 [00:00<00:00, 4515.83it/s]\n",
      "100%|██████████| 20/20 [00:00<00:00, 5262.94it/s]\n",
      "100%|██████████| 20/20 [00:00<00:00, 3461.22it/s]\n",
      "100%|██████████| 20/20 [00:00<00:00, 10856.23it/s]\n",
      "  0%|          | 0/20 [00:00<?, ?it/s]"
     ]
    },
    {
     "name": "stdout",
     "output_type": "stream",
     "text": [
      "Iteration 128 | 7.044438580701354e-06 -- Iter time: 0.01293182373046875 sec. ETA: 1.36455737897592 sec\n",
      "Iteration 129 | 6.1891551050256135e-06 -- Iter time: 0.011199235916137695 sec. ETA: 1.3532079549936147 sec\n",
      "Iteration 130 | 5.4392247341680705e-06 -- Iter time: 0.008355140686035156 sec. ETA: 1.3392772565361197 sec\n",
      "Iteration 131 | 4.781474096198918e-06 -- Iter time: 0.013343095779418945 sec. ETA: 1.3298899657798537 sec\n",
      "Iteration 132 | 4.2044018863921875e-06 -- Iter time: 0.009778976440429688 sec. ETA: 1.3173078361310457 sec\n"
     ]
    },
    {
     "name": "stderr",
     "output_type": "stream",
     "text": [
      "100%|██████████| 20/20 [00:00<00:00, 5552.43it/s]\n",
      "100%|██████████| 20/20 [00:00<00:00, 3800.74it/s]\n",
      "100%|██████████| 20/20 [00:00<00:00, 4768.96it/s]\n",
      "100%|██████████| 20/20 [00:00<00:00, 4874.55it/s]\n",
      "100%|██████████| 20/20 [00:00<00:00, 5822.59it/s]\n",
      "100%|██████████| 20/20 [00:00<00:00, 4867.76it/s]\n",
      "100%|██████████| 20/20 [00:00<00:00, 6715.72it/s]\n",
      "100%|██████████| 20/20 [00:00<00:00, 4639.20it/s]\n",
      "100%|██████████| 20/20 [00:00<00:00, 5467.03it/s]\n",
      "100%|██████████| 20/20 [00:00<00:00, 4295.46it/s]\n",
      "100%|██████████| 20/20 [00:00<00:00, 4495.50it/s]\n",
      "100%|██████████| 20/20 [00:00<00:00, 4750.33it/s]\n",
      "100%|██████████| 20/20 [00:00<00:00, 7895.90it/s]\n",
      "100%|██████████| 20/20 [00:00<00:00, 6939.62it/s]\n",
      "100%|██████████| 20/20 [00:00<00:00, 5243.86it/s]\n",
      "100%|██████████| 20/20 [00:00<00:00, 3897.87it/s]\n",
      "100%|██████████| 20/20 [00:00<00:00, 8367.69it/s]\n",
      "100%|██████████| 20/20 [00:00<00:00, 5446.44it/s]\n"
     ]
    },
    {
     "name": "stdout",
     "output_type": "stream",
     "text": [
      "Iteration 133 | 3.6979635527362494e-06 -- Iter time: 0.008022069931030273 sec. ETA: 1.3032466404473604 sec\n",
      "Iteration 134 | 3.2533840822683347e-06 -- Iter time: 0.010954856872558594 sec. ETA: 1.291773213280572 sec\n",
      "Iteration 135 | 2.862995175864751e-06 -- Iter time: 0.00848388671875 sec. ETA: 1.2782361577538883 sec\n",
      "Iteration 136 | 2.5200935949742747e-06 -- Iter time: 0.011595964431762695 sec. ETA: 1.2673397673307545 sec\n",
      "Iteration 137 | 2.218817892704503e-06 -- Iter time: 0.008804082870483398 sec. ETA: 1.2541673632635588 sec\n",
      "Iteration 138 | 1.9540411128640925e-06 -- Iter time: 0.00771784782409668 sec. ETA: 1.2401903876297764 sec\n",
      "Iteration 139 | 1.7212773617593842e-06 -- Iter time: 0.0060961246490478516 sec. ETA: 1.2250286170414517 sec\n",
      "Iteration 140 | 1.5166004356502035e-06 -- Iter time: 0.009311914443969727 sec. ETA: 1.2124814023362829 sec\n",
      "Iteration 141 | 1.3365729275738184e-06 -- Iter time: 0.010886192321777344 sec. ETA: 1.2011770933446748 sec\n",
      "Iteration 142 | 1.1781844457714054e-06 -- Iter time: 0.008795976638793945 sec. ETA: 1.1883146245996434 sec\n",
      "Iteration 143 | 1.0387977566777719e-06 -- Iter time: 0.008014678955078125 sec. ETA: 1.1749335130055747 sec\n",
      "Iteration 144 | 9.161018219155276e-07 -- Iter time: 0.008358955383300781 sec. ETA: 1.1618757247924805 sec\n",
      "Iteration 145 | 8.080708344900831e-07 -- Iter time: 0.0058917999267578125 sec. ETA: 1.1471248783477366 sec\n",
      "Iteration 146 | 7.129284769521541e-07 -- Iter time: 0.008645057678222656 sec. ETA: 1.1344237165386173 sec\n",
      "Iteration 147 | 6.291167263062822e-07 -- Iter time: 0.007710933685302734 sec. ETA: 1.1211335787902006 sec\n",
      "Iteration 148 | 5.552686188974147e-07 -- Iter time: 0.008497953414916992 sec. ETA: 1.1084518128593497 sec\n",
      "Iteration 149 | 4.901844652207847e-07 -- Iter time: 0.008275032043457031 sec. ETA: 1.0956772168477376 sec\n",
      "Iteration 150 | 4.3281107121186686e-07 -- Iter time: 0.010169744491577148 sec. ETA: 1.0842044464010276 sec\n"
     ]
    },
    {
     "name": "stderr",
     "output_type": "stream",
     "text": [
      "100%|██████████| 20/20 [00:00<00:00, 3619.21it/s]\n",
      "100%|██████████| 20/20 [00:00<00:00, 11275.01it/s]\n",
      "100%|██████████| 20/20 [00:00<00:00, 4119.33it/s]\n",
      "100%|██████████| 20/20 [00:00<00:00, 7632.95it/s]\n",
      "100%|██████████| 20/20 [00:00<00:00, 4338.34it/s]\n",
      "  0%|          | 0/20 [00:00<?, ?it/s]"
     ]
    },
    {
     "name": "stdout",
     "output_type": "stream",
     "text": [
      "Iteration 151 | 3.822235803181606e-07 -- Iter time: 0.010782957077026367 sec. ETA: 1.0731441817785565 sec\n",
      "Iteration 152 | 3.376096008553942e-07 -- Iter time: 0.007400989532470703 sec. ETA: 1.0599434188767975 sec\n",
      "Iteration 153 | 2.982553266742677e-07 -- Iter time: 0.009000062942504883 sec. ETA: 1.0478148026899858 sec\n",
      "Iteration 154 | 2.6353339702107854e-07 -- Iter time: 0.0072307586669921875 sec. ETA: 1.034642142634238 sec\n",
      "Iteration 155 | 2.3289227432250044e-07 -- Iter time: 0.009809255599975586 sec. ETA: 1.0230993704918103 sec\n"
     ]
    },
    {
     "name": "stderr",
     "output_type": "stream",
     "text": [
      "100%|██████████| 20/20 [00:00<00:00, 2572.09it/s]\n",
      "100%|██████████| 20/20 [00:00<00:00, 7283.04it/s]\n",
      "100%|██████████| 20/20 [00:00<00:00, 5172.09it/s]\n",
      "100%|██████████| 20/20 [00:00<00:00, 3531.75it/s]\n",
      "100%|██████████| 20/20 [00:00<00:00, 4511.70it/s]\n",
      "100%|██████████| 20/20 [00:00<00:00, 5635.61it/s]\n",
      "100%|██████████| 20/20 [00:00<00:00, 3683.25it/s]\n",
      "100%|██████████| 20/20 [00:00<00:00, 6027.60it/s]\n",
      "100%|██████████| 20/20 [00:00<00:00, 4566.22it/s]\n",
      "100%|██████████| 20/20 [00:00<00:00, 5400.86it/s]\n",
      "100%|██████████| 20/20 [00:00<00:00, 6309.12it/s]\n",
      "100%|██████████| 20/20 [00:00<00:00, 7977.75it/s]\n",
      "100%|██████████| 20/20 [00:00<00:00, 5290.83it/s]\n",
      "100%|██████████| 20/20 [00:00<00:00, 2848.23it/s]\n",
      "100%|██████████| 20/20 [00:00<00:00, 7522.07it/s]\n",
      "  0%|          | 0/20 [00:00<?, ?it/s]"
     ]
    },
    {
     "name": "stdout",
     "output_type": "stream",
     "text": [
      "Iteration 156 | 2.0584694719449268e-07 -- Iter time: 0.01367497444152832 sec. ETA: 1.0138685657719897 sec\n",
      "Iteration 157 | 1.8197079079379639e-07 -- Iter time: 0.011172771453857422 sec. ETA: 1.0031245267843898 sec\n",
      "Iteration 158 | 1.608884382196242e-07 -- Iter time: 0.013554811477661133 sec. ETA: 0.9937384008611523 sec\n",
      "Iteration 159 | 1.4226953543187526e-07 -- Iter time: 0.009690284729003906 sec. ETA: 0.9821263700723648 sec\n",
      "Iteration 160 | 1.2582326849425454e-07 -- Iter time: 0.00972890853881836 sec. ETA: 0.9705595629555839 sec\n",
      "Iteration 161 | 1.1129356614797219e-07 -- Iter time: 0.014792919158935547 sec. ETA: 0.961766266528471 sec\n",
      "Iteration 162 | 9.845489309413671e-08 -- Iter time: 0.012473821640014648 sec. ETA: 0.9516615545822799 sec\n",
      "Iteration 163 | 8.710856012404148e-08 -- Iter time: 0.009313821792602539 sec. ETA: 0.9398708779637405 sec\n",
      "Iteration 164 | 7.707948662326906e-08 -- Iter time: 0.009025812149047852 sec. ETA: 0.9279618552236845 sec\n",
      "Iteration 165 | 6.82133591334608e-08 -- Iter time: 0.008162975311279297 sec. ETA: 0.9156509537294685 sec\n",
      "Iteration 166 | 6.037413678214195e-08 -- Iter time: 0.00884389877319336 sec. ETA: 0.9037281510358798 sec\n",
      "Iteration 167 | 5.344186059079552e-08 -- Iter time: 0.006426095962524414 sec. ETA: 0.8906618839218502 sec\n",
      "Iteration 168 | 4.731072908635047e-08 -- Iter time: 0.010629892349243164 sec. ETA: 0.879689036036384 sec\n",
      "Iteration 169 | 4.188740735572023e-08 -- Iter time: 0.012492895126342773 sec. ETA: 0.8695969301111556 sec\n",
      "Iteration 170 | 3.708954080512074e-08 -- Iter time: 0.006853818893432617 sec. ETA: 0.8568715575145697 sec\n"
     ]
    },
    {
     "name": "stderr",
     "output_type": "stream",
     "text": [
      "100%|██████████| 20/20 [00:00<00:00, 3876.08it/s]\n",
      "100%|██████████| 20/20 [00:00<00:00, 5962.90it/s]\n",
      "100%|██████████| 20/20 [00:00<00:00, 7680.47it/s]\n",
      "100%|██████████| 20/20 [00:00<00:00, 4966.61it/s]\n",
      "100%|██████████| 20/20 [00:00<00:00, 8137.17it/s]\n",
      "  0%|          | 0/20 [00:00<?, ?it/s]"
     ]
    },
    {
     "name": "stdout",
     "output_type": "stream",
     "text": [
      "Iteration 171 | 3.284444847382816e-08 -- Iter time: 0.011749982833862305 sec. ETA: 0.8464348122130991 sec\n",
      "Iteration 172 | 2.9087973895650504e-08 -- Iter time: 0.01106882095336914 sec. ETA: 0.8356797088777397 sec\n",
      "Iteration 173 | 2.5763474233944878e-08 -- Iter time: 0.006793975830078125 sec. ETA: 0.8230538258607358 sec\n",
      "Iteration 174 | 2.282093081650621e-08 -- Iter time: 0.010601043701171875 sec. ETA: 0.8121261937277656 sec\n",
      "Iteration 175 | 2.021616628194393e-08 -- Iter time: 0.009165048599243164 sec. ETA: 0.8005985021591185 sec\n"
     ]
    },
    {
     "name": "stderr",
     "output_type": "stream",
     "text": [
      "100%|██████████| 20/20 [00:00<00:00, 5976.92it/s]\n",
      "100%|██████████| 20/20 [00:00<00:00, 3588.71it/s]\n",
      "100%|██████████| 20/20 [00:00<00:00, 5629.18it/s]\n",
      "100%|██████████| 20/20 [00:00<00:00, 4633.82it/s]\n",
      "100%|██████████| 20/20 [00:00<00:00, 4948.16it/s]\n",
      "100%|██████████| 20/20 [00:00<00:00, 11427.06it/s]\n",
      "100%|██████████| 20/20 [00:00<00:00, 3991.15it/s]\n",
      "100%|██████████| 20/20 [00:00<00:00, 4239.24it/s]\n",
      "100%|██████████| 20/20 [00:00<00:00, 2980.07it/s]\n",
      "100%|██████████| 20/20 [00:00<00:00, 5642.06it/s]\n",
      "100%|██████████| 20/20 [00:00<00:00, 3944.80it/s]\n",
      "100%|██████████| 20/20 [00:00<00:00, 5654.22it/s]\n",
      "100%|██████████| 20/20 [00:00<00:00, 8025.07it/s]\n",
      "100%|██████████| 20/20 [00:00<00:00, 8358.52it/s]\n",
      "100%|██████████| 20/20 [00:00<00:00, 5197.72it/s]\n",
      "100%|██████████| 20/20 [00:00<00:00, 5810.09it/s]\n",
      "100%|██████████| 20/20 [00:00<00:00, 7880.33it/s]"
     ]
    },
    {
     "name": "stdout",
     "output_type": "stream",
     "text": [
      "Iteration 176 | 1.7910155381048306e-08 -- Iter time: 0.01595282554626465 sec. ETA: 0.7918969857490668 sec\n",
      "Iteration 177 | 1.586841807471748e-08 -- Iter time: 0.011256217956542969 sec. ETA: 0.7812142425708556 sec\n",
      "Iteration 178 | 1.406048496660055e-08 -- Iter time: 0.006189107894897461 sec. ETA: 0.768515232555027 sec\n",
      "Iteration 179 | 1.245942633443651e-08 -- Iter time: 0.012713909149169922 sec. ETA: 0.7584259774949813 sec\n",
      "Iteration 180 | 1.1041437093246333e-08 -- Iter time: 0.011050939559936523 sec. ETA: 0.7476737709993815 sec\n",
      "Iteration 181 | 9.785470961402923e-09 -- Iter time: 0.00677180290222168 sec. ETA: 0.735319483411181 sec\n",
      "Iteration 182 | 8.672917922868893e-09 -- Iter time: 0.008831024169921875 sec. ETA: 0.7237801291252093 sec\n",
      "Iteration 183 | 7.68731979627129e-09 -- Iter time: 0.008627176284790039 sec. ETA: 0.7121970938599625 sec\n",
      "Iteration 184 | 6.814119354050718e-09 -- Iter time: 0.009610891342163086 sec. ETA: 0.7009916434416897 sec\n",
      "Iteration 185 | 6.040438985794486e-09 -- Iter time: 0.008142948150634766 sec. ETA: 0.6892982400873653 sec\n",
      "Iteration 186 | 5.354885386152313e-09 -- Iter time: 0.011069774627685547 sec. ETA: 0.678628852660643 sec\n",
      "Iteration 187 | 4.747377171134343e-09 -- Iter time: 0.012516021728515625 sec. ETA: 0.6684321596267373 sec\n",
      "Iteration 188 | 4.208992701309684e-09 -- Iter time: 0.00651097297668457 sec. ETA: 0.6562727860042025 sec\n",
      "Iteration 189 | 3.7318357164515906e-09 -- Iter time: 0.00958395004272461 sec. ETA: 0.6451432830408997 sec\n",
      "Iteration 190 | 3.308916674681238e-09 -- Iter time: 0.00990915298461914 sec. ETA: 0.634130419236827 sec\n",
      "Iteration 191 | 2.934047940970592e-09 -- Iter time: 0.011629104614257812 sec. ETA: 0.6236486211419102 sec\n"
     ]
    },
    {
     "name": "stderr",
     "output_type": "stream",
     "text": [
      "\n",
      "100%|██████████| 20/20 [00:00<00:00, 4523.87it/s]\n",
      "100%|██████████| 20/20 [00:00<00:00, 3779.33it/s]\n",
      "100%|██████████| 20/20 [00:00<00:00, 4588.45it/s]\n",
      "100%|██████████| 20/20 [00:00<00:00, 2891.03it/s]\n",
      "100%|██████████| 20/20 [00:00<00:00, 8478.48it/s]\n",
      "  0%|          | 0/20 [00:00<?, ?it/s]"
     ]
    },
    {
     "name": "stdout",
     "output_type": "stream",
     "text": [
      "Iteration 192 | 2.6017511920404992e-09 -- Iter time: 0.01010894775390625 sec. ETA: 0.6127059756165338 sec\n",
      "Iteration 193 | 2.3071755988220747e-09 -- Iter time: 0.00997781753540039 sec. ETA: 0.601734072891707 sec\n",
      "Iteration 194 | 2.0460255209317682e-09 -- Iter time: 0.009140968322753906 sec. ETA: 0.5905363315191022 sec\n",
      "Iteration 195 | 1.8144965955086058e-09 -- Iter time: 0.007025957107543945 sec. ETA: 0.5787768704550604 sec\n",
      "Iteration 196 | 1.6092192373042141e-09 -- Iter time: 0.011063814163208008 sec. ETA: 0.5681517922938775 sec\n",
      "Iteration 197 | 1.4272086830233247e-09 -- Iter time: 0.004785776138305664 sec. ETA: 0.5558735047928007 sec\n"
     ]
    },
    {
     "name": "stderr",
     "output_type": "stream",
     "text": [
      "100%|██████████| 20/20 [00:00<00:00, 4427.64it/s]\n",
      "100%|██████████| 20/20 [00:00<00:00, 3459.65it/s]\n",
      "100%|██████████| 20/20 [00:00<00:00, 6044.10it/s]\n",
      "100%|██████████| 20/20 [00:00<00:00, 6935.03it/s]\n",
      "100%|██████████| 20/20 [00:00<00:00, 2306.27it/s]\n",
      "100%|██████████| 20/20 [00:00<00:00, 7459.86it/s]\n",
      "100%|██████████| 20/20 [00:00<00:00, 4643.83it/s]\n",
      "100%|██████████| 20/20 [00:00<00:00, 3824.30it/s]\n",
      "100%|██████████| 20/20 [00:00<00:00, 3695.42it/s]\n",
      "100%|██████████| 20/20 [00:00<00:00, 6899.09it/s]\n",
      "100%|██████████| 20/20 [00:00<00:00, 2901.43it/s]\n",
      "100%|██████████| 20/20 [00:00<00:00, 3521.67it/s]\n",
      "100%|██████████| 20/20 [00:00<00:00, 3644.84it/s]\n"
     ]
    },
    {
     "name": "stdout",
     "output_type": "stream",
     "text": [
      "Iteration 198 | 1.2658208147697643e-09 -- Iter time: 0.016051054000854492 sec. ETA: 0.5465576001747167 sec\n",
      "Iteration 199 | 1.1227130887726441e-09 -- Iter time: 0.012604951858520508 sec. ETA: 0.5363128185272215 sec\n",
      "Iteration 200 | 9.958099741625275e-10 -- Iter time: 0.010360002517700195 sec. ETA: 0.5254972763915559 sec\n",
      "Iteration 201 | 8.832723771733469e-10 -- Iter time: 0.008198022842407227 sec. ETA: 0.5141725068045133 sec\n",
      "Iteration 202 | 7.834705876466118e-10 -- Iter time: 0.015028953552246094 sec. ETA: 0.5044600881379224 sec\n",
      "Iteration 203 | 6.94960338731226e-10 -- Iter time: 0.007898807525634766 sec. ETA: 0.4930877685546873 sec\n",
      "Iteration 204 | 6.164616193870691e-10 -- Iter time: 0.011819124221801758 sec. ETA: 0.4826098942175142 sec\n",
      "Iteration 205 | 5.468399202998869e-10 -- Iter time: 0.015313148498535156 sec. ETA: 0.4728652944842587 sec\n",
      "Iteration 206 | 4.850896323770574e-10 -- Iter time: 0.013740062713623047 sec. ETA: 0.4627401160733134 sec\n",
      "Iteration 207 | 4.3031934871854117e-10 -- Iter time: 0.008993148803710938 sec. ETA: 0.4516216676968793 sec\n",
      "Iteration 208 | 3.8173885059267234e-10 -- Iter time: 0.013201236724853516 sec. ETA: 0.44134906718605427 sec\n",
      "Iteration 209 | 3.38647583324925e-10 -- Iter time: 0.011188030242919922 sec. ETA: 0.43066510700044164 sec\n",
      "Iteration 210 | 3.0042445032759144e-10 -- Iter time: 0.009789228439331055 sec. ETA: 0.41971782259466506 sec\n"
     ]
    },
    {
     "name": "stderr",
     "output_type": "stream",
     "text": [
      "100%|██████████| 20/20 [00:00<00:00, 4710.32it/s]\n",
      "100%|██████████| 20/20 [00:00<00:00, 3162.05it/s]\n",
      "100%|██████████| 20/20 [00:00<00:00, 4791.57it/s]\n",
      "100%|██████████| 20/20 [00:00<00:00, 3795.06it/s]\n",
      "100%|██████████| 20/20 [00:00<00:00, 4421.81it/s]\n",
      "  0%|          | 0/20 [00:00<?, ?it/s]"
     ]
    },
    {
     "name": "stdout",
     "output_type": "stream",
     "text": [
      "Iteration 211 | 2.665187737978868e-10 -- Iter time: 0.009139776229858398 sec. ETA: 0.40866505200008163 sec\n",
      "Iteration 212 | 2.36442287937524e-10 -- Iter time: 0.010833978652954102 sec. ETA: 0.3979245418673948 sec\n",
      "Iteration 213 | 2.0976204605658912e-10 -- Iter time: 0.010807991027832031 sec. ETA: 0.3871787864471149 sec\n",
      "Iteration 214 | 1.8609413678769167e-10 -- Iter time: 0.011489629745483398 sec. ETA: 0.3765434165333591 sec\n",
      "Iteration 215 | 1.6509811667524563e-10 -- Iter time: 0.011349916458129883 sec. ETA: 0.3658781449000039 sec\n"
     ]
    },
    {
     "name": "stderr",
     "output_type": "stream",
     "text": [
      "100%|██████████| 20/20 [00:00<00:00, 6107.02it/s]\n",
      "100%|██████████| 20/20 [00:00<00:00, 5408.52it/s]\n",
      "100%|██████████| 20/20 [00:00<00:00, 3556.15it/s]\n",
      "100%|██████████| 20/20 [00:00<00:00, 4538.06it/s]\n",
      "100%|██████████| 20/20 [00:00<00:00, 4811.09it/s]\n",
      "100%|██████████| 20/20 [00:00<00:00, 6842.26it/s]\n",
      "100%|██████████| 20/20 [00:00<00:00, 3827.79it/s]\n",
      "100%|██████████| 20/20 [00:00<00:00, 3669.24it/s]\n",
      "100%|██████████| 20/20 [00:00<00:00, 4364.07it/s]\n",
      "100%|██████████| 20/20 [00:00<00:00, 5853.06it/s]\n",
      "100%|██████████| 20/20 [00:00<00:00, 3400.88it/s]\n",
      "100%|██████████| 20/20 [00:00<00:00, 7288.10it/s]\n",
      "100%|██████████| 20/20 [00:00<00:00, 4584.94it/s]\n",
      "100%|██████████| 20/20 [00:00<00:00, 6607.28it/s]\n",
      "100%|██████████| 20/20 [00:00<00:00, 3913.87it/s]\n",
      "  0%|          | 0/20 [00:00<?, ?it/s]"
     ]
    },
    {
     "name": "stdout",
     "output_type": "stream",
     "text": [
      "Iteration 216 | 1.464720769439912e-10 -- Iter time: 0.011405229568481445 sec. ETA: 0.3552149748472573 sec\n",
      "Iteration 217 | 1.2994827208367652e-10 -- Iter time: 0.009839773178100586 sec. ETA: 0.34431520514531955 sec\n",
      "Iteration 218 | 1.1528924578935117e-10 -- Iter time: 0.009954214096069336 sec. ETA: 0.33344131517628 sec\n",
      "Iteration 219 | 1.0228439758162068e-10 -- Iter time: 0.008347272872924805 sec. ETA: 0.3223566575483841 sec\n",
      "Iteration 220 | 9.074693968560952e-11 -- Iter time: 0.010317802429199219 sec. ETA: 0.3115553489098181 sec\n",
      "Iteration 221 | 8.051119965646584e-11 -- Iter time: 0.006088972091674805 sec. ETA: 0.30022503019453156 sec\n",
      "Iteration 222 | 7.143022937598952e-11 -- Iter time: 0.012878894805908203 sec. ETA: 0.28976381733813084 sec\n",
      "Iteration 223 | 6.337368542899504e-11 -- Iter time: 0.010308980941772461 sec. ETA: 0.2789827244622366 sec\n",
      "Iteration 224 | 5.622594997660082e-11 -- Iter time: 0.012918949127197266 sec. ETA: 0.26849582460191507 sec\n",
      "Iteration 225 | 4.9884464787252254e-11 -- Iter time: 0.008091926574707031 sec. ETA: 0.2574747980168435 sec\n",
      "Iteration 226 | 4.4258254105113735e-11 -- Iter time: 0.009901046752929688 sec. ETA: 0.24666288140586812 sec\n",
      "Iteration 227 | 3.926661495836117e-11 -- Iter time: 0.0069539546966552734 sec. ETA: 0.23557458634962108 sec\n",
      "Iteration 228 | 3.483795581077915e-11 -- Iter time: 0.013441801071166992 sec. ETA: 0.22511735441382788 sec\n",
      "Iteration 229 | 3.0908766746552783e-11 -- Iter time: 0.010032176971435547 sec. ETA: 0.21433768065079392 sec\n",
      "Iteration 230 | 2.7422706249720045e-11 -- Iter time: 0.008210182189941406 sec. ETA: 0.20341461767881971 sec\n"
     ]
    },
    {
     "name": "stderr",
     "output_type": "stream",
     "text": [
      "100%|██████████| 20/20 [00:00<00:00, 3219.58it/s]\n",
      "100%|██████████| 20/20 [00:00<00:00, 5052.16it/s]\n",
      "100%|██████████| 20/20 [00:00<00:00, 3039.02it/s]\n",
      "100%|██████████| 20/20 [00:00<00:00, 2983.78it/s]\n",
      "100%|██████████| 20/20 [00:00<00:00, 4562.25it/s]\n",
      "100%|██████████| 20/20 [00:00<00:00, 4316.02it/s]"
     ]
    },
    {
     "name": "stdout",
     "output_type": "stream",
     "text": [
      "Iteration 231 | 2.4329791348312137e-11 -- Iter time: 0.013098001480102539 sec. ETA: 0.19289416896885833 sec\n",
      "Iteration 232 | 2.158567936717402e-11 -- Iter time: 0.011469125747680664 sec. ETA: 0.18223275033189495 sec\n",
      "Iteration 233 | 1.9151030930564075e-11 -- Iter time: 0.011012077331542969 sec. ETA: 0.17153317704159984 sec\n",
      "Iteration 234 | 1.699094502453869e-11 -- Iter time: 0.009922027587890625 sec. ETA: 0.16076136649923115 sec\n",
      "Iteration 235 | 1.507445788126229e-11 -- Iter time: 0.006823062896728516 sec. ETA: 0.1498129206188654 sec\n"
     ]
    },
    {
     "name": "stderr",
     "output_type": "stream",
     "text": [
      "\n",
      "100%|██████████| 20/20 [00:00<00:00, 6269.51it/s]\n",
      "100%|██████████| 20/20 [00:00<00:00, 3412.92it/s]\n",
      "100%|██████████| 20/20 [00:00<00:00, 2983.68it/s]\n",
      "100%|██████████| 20/20 [00:00<00:00, 5577.53it/s]\n",
      "100%|██████████| 20/20 [00:00<00:00, 2661.36it/s]\n",
      "100%|██████████| 20/20 [00:00<00:00, 3271.69it/s]\n",
      "100%|██████████| 20/20 [00:00<00:00, 5096.98it/s]\n",
      "100%|██████████| 20/20 [00:00<00:00, 5979.48it/s]\n",
      "100%|██████████| 20/20 [00:00<00:00, 3040.89it/s]\n",
      "100%|██████████| 20/20 [00:00<00:00, 3943.87it/s]\n",
      "100%|██████████| 20/20 [00:00<00:00, 6662.38it/s]\n",
      "100%|██████████| 20/20 [00:00<00:00, 4187.81it/s]\n",
      "100%|██████████| 20/20 [00:00<00:00, 7079.59it/s]"
     ]
    },
    {
     "name": "stdout",
     "output_type": "stream",
     "text": [
      "Iteration 236 | 1.3374098559521004e-11 -- Iter time: 0.010473012924194336 sec. ETA: 0.139099496326366 sec\n",
      "Iteration 237 | 1.1865494692665207e-11 -- Iter time: 0.007253170013427734 sec. ETA: 0.1282257472767549 sec\n",
      "Iteration 238 | 1.0527022824148942e-11 -- Iter time: 0.009229183197021484 sec. ETA: 0.117473242173135 sec\n",
      "Iteration 239 | 9.339498208825833e-12 -- Iter time: 0.012717008590698242 sec. ETA: 0.1068787574768066 sec\n",
      "Iteration 240 | 8.285899665768915e-12 -- Iter time: 0.007941007614135742 sec. ETA: 0.0960883015913587 sec\n",
      "Iteration 241 | 7.351125485154125e-12 -- Iter time: 0.01112508773803711 sec. ETA: 0.08542665371224897 sec\n",
      "Iteration 242 | 6.521776907722692e-12 -- Iter time: 0.009529829025268555 sec. ETA: 0.07471523755862386 sec\n",
      "Iteration 243 | 5.7859660351408526e-12 -- Iter time: 0.00862884521484375 sec. ETA: 0.06399135120579452 sec\n",
      "Iteration 244 | 5.133145423824163e-12 -- Iter time: 0.005609035491943359 sec. ETA: 0.053222938459746676 sec\n",
      "Iteration 245 | 4.553956908937936e-12 -- Iter time: 0.012765169143676758 sec. ETA: 0.042612831767012416 sec\n",
      "Iteration 246 | 4.040097486018569e-12 -- Iter time: 0.012621879577636719 sec. ETA: 0.03198353481678826 sec\n",
      "Iteration 247 | 3.5842003221202703e-12 -- Iter time: 0.005384922027587891 sec. ETA: 0.02127980609093942 sec\n",
      "Iteration 248 | 3.1797291999233103e-12 -- Iter time: 0.010242223739624023 sec. ETA: 0.010638305939823744 sec\n",
      "Iteration 249 | 2.8208848499030074e-12 -- Iter time: 0.007467031478881836 sec. ETA: 0.0 sec\n"
     ]
    },
    {
     "name": "stderr",
     "output_type": "stream",
     "text": [
      "\n"
     ]
    }
   ],
   "source": [
    "# run SVD on the matrix with the missing value\n",
    "user_mat, movie_mat = FunkSVD(ratings_mat, latent_features=4, \n",
    "                              learning_rate=0.005, iters=250)\n",
    "#use your function with 4 latent features, lr of 0.005 and 250 iterations"
   ]
  },
  {
   "cell_type": "code",
   "execution_count": 10,
   "metadata": {},
   "outputs": [
    {
     "name": "stdout",
     "output_type": "stream",
     "text": [
      "The predicted value for the missing rating is 10.328867452974876:\n",
      "\n",
      "The actual value for the missing rating is nan:\n",
      "\n",
      "That's right! You just predicted a rating for a user-movie pair that was never rated!\n",
      "But if you look in the original matrix, this was actually a value of 10. Not bad!\n"
     ]
    }
   ],
   "source": [
    "# Run this cell to see if you were able to predict for the missing value\n",
    "preds = np.dot(user_mat, movie_mat)\n",
    "print(\"The predicted value for the missing rating is {}:\".format(preds[0,0]))\n",
    "print()\n",
    "print(\"The actual value for the missing rating is {}:\".format(ratings_mat[0,0]))\n",
    "print()\n",
    "assert np.isnan(preds[0,0]) == False\n",
    "print(\"That's right! You just predicted a rating for a user-movie pair that was never rated!\")\n",
    "print(\"But if you look in the original matrix, this was actually a value of 10. Not bad!\")"
   ]
  },
  {
   "cell_type": "markdown",
   "metadata": {},
   "source": [
    "Now let's extend this to a more realistic example. Unfortunately, running this function on your entire user-movie matrix is still not something you likely want to do on your local machine.  However, we can see how well this example extends to 1000 users.  In the above portion, you were using a very small subset of data with no missing values.\n",
    "\n",
    "`5.` Given the size of this matrix, this will take quite a bit of time.  Consider the following hyperparameters: 4 latent features, 0.005 learning rate, and 20 iterations.  Grab a snack, take a walk, and this should be done running in a bit."
   ]
  },
  {
   "cell_type": "code",
   "execution_count": 11,
   "metadata": {},
   "outputs": [
    {
     "name": "stderr",
     "output_type": "stream",
     "text": [
      "  0%|          | 2/1000 [00:00<01:28, 11.33it/s]"
     ]
    },
    {
     "name": "stdout",
     "output_type": "stream",
     "text": [
      "Optimization Statistics\n",
      "Iterations | Mean Squared Error \n"
     ]
    },
    {
     "name": "stderr",
     "output_type": "stream",
     "text": [
      "100%|██████████| 1000/1000 [01:25<00:00, 11.64it/s]\n",
      "  0%|          | 2/1000 [00:00<01:27, 11.46it/s]"
     ]
    },
    {
     "name": "stdout",
     "output_type": "stream",
     "text": [
      "Iteration 0 | 0.008045903269022613 -- Iter time: 85.91714286804199 sec. ETA: 1632.4257144927979 sec\n"
     ]
    },
    {
     "name": "stderr",
     "output_type": "stream",
     "text": [
      "100%|██████████| 1000/1000 [01:26<00:00, 11.63it/s]\n",
      "  0%|          | 2/1000 [00:00<01:31, 10.92it/s]"
     ]
    },
    {
     "name": "stdout",
     "output_type": "stream",
     "text": [
      "Iteration 1 | 0.0037459848263669865 -- Iter time: 86.02216410636902 sec. ETA: 1547.453762769699 sec\n"
     ]
    },
    {
     "name": "stderr",
     "output_type": "stream",
     "text": [
      "100%|██████████| 1000/1000 [01:25<00:00, 11.66it/s]\n",
      "  0%|          | 1/1000 [00:00<01:41,  9.84it/s]"
     ]
    },
    {
     "name": "stdout",
     "output_type": "stream",
     "text": [
      "Iteration 2 | 0.0025778793429333986 -- Iter time: 85.78318905830383 sec. ETA: 1460.4274775187173 sec\n"
     ]
    },
    {
     "name": "stderr",
     "output_type": "stream",
     "text": [
      "100%|██████████| 1000/1000 [01:35<00:00, 10.48it/s]\n",
      "  0%|          | 2/1000 [00:00<01:32, 10.84it/s]"
     ]
    },
    {
     "name": "stdout",
     "output_type": "stream",
     "text": [
      "Iteration 3 | 0.001988378140465925 -- Iter time: 95.45509505271912 sec. ETA: 1412.7103643417358 sec\n"
     ]
    },
    {
     "name": "stderr",
     "output_type": "stream",
     "text": [
      "100%|██████████| 1000/1000 [01:31<00:00, 10.88it/s]\n",
      "  0%|          | 1/1000 [00:00<01:40,  9.95it/s]"
     ]
    },
    {
     "name": "stdout",
     "output_type": "stream",
     "text": [
      "Iteration 4 | 0.0016161881272912688 -- Iter time: 91.90532922744751 sec. ETA: 1335.2487609386444 sec\n"
     ]
    },
    {
     "name": "stderr",
     "output_type": "stream",
     "text": [
      "100%|██████████| 1000/1000 [01:39<00:00, 10.06it/s]\n",
      "  0%|          | 1/1000 [00:00<01:44,  9.56it/s]"
     ]
    },
    {
     "name": "stdout",
     "output_type": "stream",
     "text": [
      "Iteration 5 | 0.0013565158653557157 -- Iter time: 99.37051892280579 sec. ETA: 1270.3913582166037 sec\n"
     ]
    },
    {
     "name": "stderr",
     "output_type": "stream",
     "text": [
      "100%|██████████| 1000/1000 [01:34<00:00, 10.54it/s]\n",
      "  0%|          | 2/1000 [00:00<01:17, 12.85it/s]"
     ]
    },
    {
     "name": "stdout",
     "output_type": "stream",
     "text": [
      "Iteration 6 | 0.0011641843729683883 -- Iter time: 94.89393186569214 sec. ETA: 1187.3594034739904 sec\n"
     ]
    },
    {
     "name": "stderr",
     "output_type": "stream",
     "text": [
      "100%|██████████| 1000/1000 [01:23<00:00, 12.05it/s]\n",
      "  0%|          | 2/1000 [00:00<01:20, 12.41it/s]"
     ]
    },
    {
     "name": "stdout",
     "output_type": "stream",
     "text": [
      "Iteration 7 | 0.0010159580196583905 -- Iter time: 83.01117897033691 sec. ETA: 1083.5378251075745 sec\n"
     ]
    },
    {
     "name": "stderr",
     "output_type": "stream",
     "text": [
      "100%|██████████| 1000/1000 [01:31<00:00, 10.94it/s]\n",
      "  0%|          | 2/1000 [00:00<01:24, 11.85it/s]"
     ]
    },
    {
     "name": "stdout",
     "output_type": "stream",
     "text": [
      "Iteration 8 | 0.0008984618573871275 -- Iter time: 91.44409823417664 sec. ETA: 994.6476812627582 sec\n"
     ]
    },
    {
     "name": "stderr",
     "output_type": "stream",
     "text": [
      "100%|██████████| 1000/1000 [01:25<00:00, 11.76it/s]\n",
      "  0%|          | 2/1000 [00:00<01:21, 12.21it/s]"
     ]
    },
    {
     "name": "stdout",
     "output_type": "stream",
     "text": [
      "Iteration 9 | 0.0008033413373328323 -- Iter time: 85.03187704086304 sec. ETA: 898.834525346756 sec\n"
     ]
    },
    {
     "name": "stderr",
     "output_type": "stream",
     "text": [
      "100%|██████████| 1000/1000 [01:27<00:00, 11.39it/s]\n",
      "  0%|          | 2/1000 [00:00<01:29, 11.19it/s]"
     ]
    },
    {
     "name": "stdout",
     "output_type": "stream",
     "text": [
      "Iteration 10 | 0.0007250611369887763 -- Iter time: 87.81064009666443 sec. ETA: 807.2551353627986 sec\n"
     ]
    },
    {
     "name": "stderr",
     "output_type": "stream",
     "text": [
      "100%|██████████| 1000/1000 [01:25<00:00, 11.68it/s]\n",
      "  0%|          | 1/1000 [00:00<02:07,  7.86it/s]"
     ]
    },
    {
     "name": "stdout",
     "output_type": "stream",
     "text": [
      "Iteration 11 | 0.0006597876650450508 -- Iter time: 85.65210008621216 sec. ETA: 714.8648436864218 sec\n"
     ]
    },
    {
     "name": "stderr",
     "output_type": "stream",
     "text": [
      "100%|██████████| 1000/1000 [01:23<00:00, 11.96it/s]\n",
      "  0%|          | 2/1000 [00:00<01:16, 13.11it/s]"
     ]
    },
    {
     "name": "stdout",
     "output_type": "stream",
     "text": [
      "Iteration 12 | 0.0006047672748289016 -- Iter time: 83.588534116745 sec. ETA: 622.4000459634341 sec\n"
     ]
    },
    {
     "name": "stderr",
     "output_type": "stream",
     "text": [
      "100%|██████████| 1000/1000 [01:25<00:00, 11.69it/s]\n",
      "  0%|          | 2/1000 [00:00<01:19, 12.55it/s]"
     ]
    },
    {
     "name": "stdout",
     "output_type": "stream",
     "text": [
      "Iteration 13 | 0.0005579579631032647 -- Iter time: 85.56338310241699 sec. ETA: 532.0496497494834 sec\n"
     ]
    },
    {
     "name": "stderr",
     "output_type": "stream",
     "text": [
      "100%|██████████| 1000/1000 [01:26<00:00, 11.50it/s]\n",
      "  0%|          | 2/1000 [00:00<01:36, 10.39it/s]"
     ]
    },
    {
     "name": "stdout",
     "output_type": "stream",
     "text": [
      "Iteration 14 | 0.0005178038194751636 -- Iter time: 86.95697498321533 sec. ETA: 442.8020525773366 sec\n"
     ]
    },
    {
     "name": "stderr",
     "output_type": "stream",
     "text": [
      "100%|██████████| 1000/1000 [01:26<00:00, 11.62it/s]\n",
      "  0%|          | 2/1000 [00:00<01:28, 11.30it/s]"
     ]
    },
    {
     "name": "stdout",
     "output_type": "stream",
     "text": [
      "Iteration 15 | 0.0004830944858806186 -- Iter time: 86.0358579158783 sec. ETA: 353.61050391197205 sec\n"
     ]
    },
    {
     "name": "stderr",
     "output_type": "stream",
     "text": [
      "100%|██████████| 1000/1000 [01:27<00:00, 11.43it/s]\n",
      "  0%|          | 2/1000 [00:00<01:31, 10.90it/s]"
     ]
    },
    {
     "name": "stdout",
     "output_type": "stream",
     "text": [
      "Iteration 16 | 0.00045287542991097486 -- Iter time: 87.46501088142395 sec. ETA: 265.0424164463492 sec\n"
     ]
    },
    {
     "name": "stderr",
     "output_type": "stream",
     "text": [
      "100%|██████████| 1000/1000 [01:26<00:00, 11.57it/s]\n",
      "  0%|          | 2/1000 [00:00<01:29, 11.13it/s]"
     ]
    },
    {
     "name": "stdout",
     "output_type": "stream",
     "text": [
      "Iteration 17 | 0.00042638783679579473 -- Iter time: 86.44891905784607 sec. ETA: 176.4839939541287 sec\n"
     ]
    },
    {
     "name": "stderr",
     "output_type": "stream",
     "text": [
      "100%|██████████| 1000/1000 [01:27<00:00, 11.38it/s]\n",
      "  0%|          | 1/1000 [00:00<01:51,  8.96it/s]"
     ]
    },
    {
     "name": "stdout",
     "output_type": "stream",
     "text": [
      "Iteration 18 | 0.0004030255592360763 -- Iter time: 87.84607791900635 sec. ETA: 88.22115913190339 sec\n"
     ]
    },
    {
     "name": "stderr",
     "output_type": "stream",
     "text": [
      "100%|██████████| 1000/1000 [01:24<00:00, 11.88it/s]"
     ]
    },
    {
     "name": "stdout",
     "output_type": "stream",
     "text": [
      "Iteration 19 | 0.0003823023166040969 -- Iter time: 84.17219424247742 sec. ETA: 0.0 sec\n"
     ]
    },
    {
     "name": "stderr",
     "output_type": "stream",
     "text": [
      "\n"
     ]
    }
   ],
   "source": [
    "# Setting up a matrix of the first 1000 users with movie ratings\n",
    "first_1000_users = np.matrix(user_by_movie.head(1000))\n",
    "\n",
    "# perform funkSVD on the matrix of the top 1000 users\n",
    "user_mat, movie_mat = FunkSVD(first_1000_users, latent_features=4, \n",
    "                              learning_rate=0.005, iters=20)\n",
    "#fit to 1000 users with 4 latent features, lr of 0.005, and 20 iterations"
   ]
  },
  {
   "cell_type": "markdown",
   "metadata": {},
   "source": [
    "`6.` Now that you have a set of predictions for each user-movie pair,  let's answer a few questions about your results. Provide the correct values for each of the variables below, and check your solutions using the tests below."
   ]
  },
  {
   "cell_type": "code",
   "execution_count": 25,
   "metadata": {},
   "outputs": [],
   "source": [
    "preds = np.dot(user_mat, movie_mat)"
   ]
  },
  {
   "cell_type": "code",
   "execution_count": 26,
   "metadata": {},
   "outputs": [
    {
     "data": {
      "text/plain": [
       "0"
      ]
     },
     "execution_count": 26,
     "metadata": {},
     "output_type": "execute_result"
    }
   ],
   "source": [
    "np.isnan(preds).sum()"
   ]
  },
  {
   "cell_type": "code",
   "execution_count": 24,
   "metadata": {},
   "outputs": [
    {
     "data": {
      "text/plain": [
       "31245000"
      ]
     },
     "execution_count": 24,
     "metadata": {},
     "output_type": "execute_result"
    }
   ],
   "source": [
    "(1 - np.isnan(preds)).sum()"
   ]
  },
  {
   "cell_type": "code",
   "execution_count": 27,
   "metadata": {},
   "outputs": [
    {
     "name": "stdout",
     "output_type": "stream",
     "text": [
      "The number of actual ratings in the first_1000_users is 10852.\n",
      "\n",
      "The number of ratings made for user-movie pairs that didn't have ratings is 31234148\n"
     ]
    }
   ],
   "source": [
    "# Replace each of the comments below with the correct values\n",
    "num_ratings = (1 - np.isnan(first_1000_users)).sum()\n",
    "# How many actual ratings exist in first_1000_users\n",
    "print(\"The number of actual ratings in the first_1000_users is {}.\".format(num_ratings))\n",
    "print()\n",
    "\n",
    "\n",
    "ratings_for_missing = (1 - np.isnan(preds)).sum() - num_ratings\n",
    "# How many ratings did we make for user-movie pairs that didn't actually have ratings\n",
    "print(\"The number of ratings made for user-movie pairs that didn't have ratings is {}\".format(ratings_for_missing))"
   ]
  },
  {
   "cell_type": "code",
   "execution_count": 28,
   "metadata": {},
   "outputs": [
    {
     "name": "stdout",
     "output_type": "stream",
     "text": [
      "Nice job!  Looks like you have predictions made for all the missing user-movie pairs! But I still have one question... How good are they?\n"
     ]
    }
   ],
   "source": [
    "# Test your results against the solution\n",
    "assert num_ratings == 10852, \"Oops!  The number of actual ratings doesn't quite look right.\"\n",
    "assert ratings_for_missing == 31234148, \"Oops!  The number of movie-user pairs that you made ratings for that didn't actually have ratings doesn't look right.\"\n",
    "\n",
    "# Make sure you made predictions on all the missing user-movie pairs\n",
    "preds = np.dot(user_mat, movie_mat)\n",
    "assert np.isnan(preds).sum() == 0\n",
    "print(\"Nice job!  Looks like you have predictions made for all the missing user-movie pairs! But I still have one question... How good are they?\")"
   ]
  },
  {
   "cell_type": "code",
   "execution_count": null,
   "metadata": {
    "collapsed": true
   },
   "outputs": [],
   "source": []
  }
 ],
 "metadata": {
  "kernelspec": {
   "display_name": "data",
   "language": "python",
   "name": "data"
  },
  "language_info": {
   "codemirror_mode": {
    "name": "ipython",
    "version": 3
   },
   "file_extension": ".py",
   "mimetype": "text/x-python",
   "name": "python",
   "nbconvert_exporter": "python",
   "pygments_lexer": "ipython3",
   "version": "3.6.5"
  }
 },
 "nbformat": 4,
 "nbformat_minor": 2
}
