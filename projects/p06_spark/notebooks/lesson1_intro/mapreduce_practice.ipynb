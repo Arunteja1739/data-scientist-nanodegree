{
 "cells": [
  {
   "cell_type": "markdown",
   "metadata": {},
   "source": [
    "# MapReduce\n",
    "\n",
    "The MapReduce programming technique was designed to analyze massive data sets across a cluster. In this Jupyter notebook, you'll get a sense for how Hadoop MapReduce works; however, this notebook will run locally rather than on a cluster.\n",
    "\n",
    "The biggest difference between Hadoop and Spark is that Spark tries to do as many calculations as possible in memory, which avoids moving data back and forth across a cluster. Hadoop writes intermediate calculations out to disk, which can be less efficient. Hadoop is an older technology than Spark and one of the cornerstone big data technologies.\n",
    "\n",
    "If you click on the Jupyter notebook logo at the top of the workspace, you'll be taken to the workspace directory. There you will see a file called \"songplays.txt\". This is a text file where each line represents a song that was played in the Sparkify app. The MapReduce code will count how many times each song was played. In other words, the code counts how many times the song title appears in the list.\n",
    "\n",
    "\n",
    "# MapReduce versus Hadoop MapReduce\n",
    "\n",
    "Don't get confused by the terminology! MapReduce is a programming technique. Hadoop MapReduce is a specific implementation of the programming technique.\n",
    "\n",
    "Some of the syntax will look a bit funny, so be sure to read the explanation and comments for each section. You'll learn more about the syntax in later lessons. \n",
    "\n",
    "Run each of the code cells below to see the output."
   ]
  },
  {
   "cell_type": "code",
   "execution_count": 1,
   "metadata": {},
   "outputs": [
    {
     "name": "stdout",
     "output_type": "stream",
     "text": [
      "Collecting mrjob\n",
      "  Using cached https://files.pythonhosted.org/packages/4b/d2/d006e9b55cd1dafdd1e0a91cb2c7e3ce9073031b4625c78752352550e61a/mrjob-0.6.7-py2.py3-none-any.whl\n",
      "Collecting google-cloud-storage>=1.9.0 (from mrjob)\n",
      "  Using cached https://files.pythonhosted.org/packages/92/da/115f23ba9aa56f4d5de3f02306a36eb6d0884561e0059987865cb0cce42e/google_cloud_storage-1.13.2-py2.py3-none-any.whl\n",
      "Collecting boto3>=1.4.6 (from mrjob)\n",
      "\u001b[?25l  Downloading https://files.pythonhosted.org/packages/8f/35/6da51b44a808b5caf05957e9b38f4c4827302120cd1cde2ca3fd712af412/boto3-1.9.83-py2.py3-none-any.whl (128kB)\n",
      "\u001b[K    100% |████████████████████████████████| 133kB 2.0MB/s ta 0:00:01\n",
      "\u001b[?25hCollecting google-cloud-dataproc>=0.2.0 (from mrjob)\n",
      "  Using cached https://files.pythonhosted.org/packages/3b/e2/b7f6ee11876afba98173fd44f4d1c09a07ec8e57c5cac536298a77b9f2f3/google_cloud_dataproc-0.3.0-py2.py3-none-any.whl\n",
      "Requirement already satisfied: PyYAML>=3.08 in /Users/antelinvestigacionydesarrollo/anaconda3/lib/python3.7/site-packages (from mrjob) (3.13)\n",
      "Collecting google-cloud-logging>=1.5.0 (from mrjob)\n",
      "  Using cached https://files.pythonhosted.org/packages/a1/56/ea970a90679ff2bd065fb455a0a1b6c810cfc21e3ed674aec68f4f3cd37a/google_cloud_logging-1.10.0-py2.py3-none-any.whl\n",
      "Collecting botocore>=1.6.0 (from mrjob)\n",
      "\u001b[?25l  Downloading https://files.pythonhosted.org/packages/2c/f4/745026b1f20d687b14b5ad26b3087121596a81ae055ecb28b6187273978b/botocore-1.12.83-py2.py3-none-any.whl (5.2MB)\n",
      "\u001b[K    100% |████████████████████████████████| 5.2MB 3.3MB/s ta 0:00:011\n",
      "\u001b[?25hCollecting google-resumable-media>=0.3.1 (from google-cloud-storage>=1.9.0->mrjob)\n",
      "  Using cached https://files.pythonhosted.org/packages/e2/5d/4bc5c28c252a62efe69ed1a1561da92bd5af8eca0cdcdf8e60354fae9b29/google_resumable_media-0.3.2-py2.py3-none-any.whl\n",
      "Collecting google-api-core<2.0.0dev,>=1.6.0 (from google-cloud-storage>=1.9.0->mrjob)\n",
      "  Using cached https://files.pythonhosted.org/packages/8b/01/13758ff9b970008ccf9e0dcc3b86d0e01937d7485b9a2c6142c9c2bdb4da/google_api_core-1.7.0-py2.py3-none-any.whl\n",
      "Collecting google-cloud-core<0.30dev,>=0.29.0 (from google-cloud-storage>=1.9.0->mrjob)\n",
      "  Using cached https://files.pythonhosted.org/packages/0c/f2/3c225e7a69cb27d283b68bff867722bd066bc1858611180197f711815ea5/google_cloud_core-0.29.1-py2.py3-none-any.whl\n",
      "Collecting s3transfer<0.2.0,>=0.1.10 (from boto3>=1.4.6->mrjob)\n",
      "  Using cached https://files.pythonhosted.org/packages/d7/14/2a0004d487464d120c9fb85313a75cd3d71a7506955be458eebfe19a6b1d/s3transfer-0.1.13-py2.py3-none-any.whl\n",
      "Collecting jmespath<1.0.0,>=0.7.1 (from boto3>=1.4.6->mrjob)\n",
      "  Using cached https://files.pythonhosted.org/packages/b7/31/05c8d001f7f87f0f07289a5fc0fc3832e9a57f2dbd4d3b0fee70e0d51365/jmespath-0.9.3-py2.py3-none-any.whl\n",
      "Requirement already satisfied: docutils>=0.10 in /Users/antelinvestigacionydesarrollo/anaconda3/lib/python3.7/site-packages (from botocore>=1.6.0->mrjob) (0.14)\n",
      "Requirement already satisfied: urllib3<1.25,>=1.20; python_version >= \"3.4\" in /Users/antelinvestigacionydesarrollo/anaconda3/lib/python3.7/site-packages (from botocore>=1.6.0->mrjob) (1.23)\n",
      "Requirement already satisfied: python-dateutil<3.0.0,>=2.1; python_version >= \"2.7\" in /Users/antelinvestigacionydesarrollo/anaconda3/lib/python3.7/site-packages (from botocore>=1.6.0->mrjob) (2.7.3)\n",
      "Requirement already satisfied: six in /Users/antelinvestigacionydesarrollo/anaconda3/lib/python3.7/site-packages (from google-resumable-media>=0.3.1->google-cloud-storage>=1.9.0->mrjob) (1.11.0)\n",
      "Collecting googleapis-common-protos!=1.5.4,<2.0dev,>=1.5.3 (from google-api-core<2.0.0dev,>=1.6.0->google-cloud-storage>=1.9.0->mrjob)\n",
      "  Using cached https://files.pythonhosted.org/packages/61/29/1549f61917eadd11650e42b78b4afcfe9cb467157af4510ab8cb59535f14/googleapis-common-protos-1.5.6.tar.gz\n",
      "Collecting protobuf>=3.4.0 (from google-api-core<2.0.0dev,>=1.6.0->google-cloud-storage>=1.9.0->mrjob)\n",
      "\u001b[?25l  Downloading https://files.pythonhosted.org/packages/18/e7/785830a65d1f1faba7dccfa8314f7afded1db8cc2860218226ba4b3f6150/protobuf-3.6.1-cp37-cp37m-macosx_10_6_intel.macosx_10_9_intel.macosx_10_9_x86_64.macosx_10_10_intel.macosx_10_10_x86_64.whl (1.2MB)\n",
      "\u001b[K    100% |████████████████████████████████| 1.2MB 3.7MB/s ta 0:00:011\n",
      "\u001b[?25hRequirement already satisfied: setuptools>=34.0.0 in /Users/antelinvestigacionydesarrollo/anaconda3/lib/python3.7/site-packages (from google-api-core<2.0.0dev,>=1.6.0->google-cloud-storage>=1.9.0->mrjob) (40.4.3)\n",
      "Requirement already satisfied: requests<3.0.0dev,>=2.18.0 in /Users/antelinvestigacionydesarrollo/anaconda3/lib/python3.7/site-packages (from google-api-core<2.0.0dev,>=1.6.0->google-cloud-storage>=1.9.0->mrjob) (2.19.1)\n",
      "Collecting google-auth<2.0dev,>=0.4.0 (from google-api-core<2.0.0dev,>=1.6.0->google-cloud-storage>=1.9.0->mrjob)\n",
      "  Using cached https://files.pythonhosted.org/packages/4e/85/71b2dfbf5b4241cd031cc333ed71f90a271074a97cb2c517bb65f07a1a90/google_auth-1.6.2-py2.py3-none-any.whl\n",
      "Requirement already satisfied: pytz in /Users/antelinvestigacionydesarrollo/anaconda3/lib/python3.7/site-packages (from google-api-core<2.0.0dev,>=1.6.0->google-cloud-storage>=1.9.0->mrjob) (2018.5)\n",
      "Requirement already satisfied: certifi>=2017.4.17 in /Users/antelinvestigacionydesarrollo/anaconda3/lib/python3.7/site-packages (from requests<3.0.0dev,>=2.18.0->google-api-core<2.0.0dev,>=1.6.0->google-cloud-storage>=1.9.0->mrjob) (2018.11.29)\n",
      "Requirement already satisfied: idna<2.8,>=2.5 in /Users/antelinvestigacionydesarrollo/anaconda3/lib/python3.7/site-packages (from requests<3.0.0dev,>=2.18.0->google-api-core<2.0.0dev,>=1.6.0->google-cloud-storage>=1.9.0->mrjob) (2.7)\n",
      "Requirement already satisfied: chardet<3.1.0,>=3.0.2 in /Users/antelinvestigacionydesarrollo/anaconda3/lib/python3.7/site-packages (from requests<3.0.0dev,>=2.18.0->google-api-core<2.0.0dev,>=1.6.0->google-cloud-storage>=1.9.0->mrjob) (3.0.4)\n",
      "Collecting rsa>=3.1.4 (from google-auth<2.0dev,>=0.4.0->google-api-core<2.0.0dev,>=1.6.0->google-cloud-storage>=1.9.0->mrjob)\n",
      "  Using cached https://files.pythonhosted.org/packages/02/e5/38518af393f7c214357079ce67a317307936896e961e35450b70fad2a9cf/rsa-4.0-py2.py3-none-any.whl\n",
      "Collecting pyasn1-modules>=0.2.1 (from google-auth<2.0dev,>=0.4.0->google-api-core<2.0.0dev,>=1.6.0->google-cloud-storage>=1.9.0->mrjob)\n",
      "  Using cached https://files.pythonhosted.org/packages/59/84/339c2de112d7448d7d4c500b8016783d9eac8981f89ec1d58fdd4685d97f/pyasn1_modules-0.2.3-py2.py3-none-any.whl\n",
      "Collecting cachetools>=2.0.0 (from google-auth<2.0dev,>=0.4.0->google-api-core<2.0.0dev,>=1.6.0->google-cloud-storage>=1.9.0->mrjob)\n",
      "  Using cached https://files.pythonhosted.org/packages/76/7e/08cd3846bebeabb6b1cfc4af8aae649d90249b4aeed080bddb5297f1d73b/cachetools-3.0.0-py2.py3-none-any.whl\n",
      "Collecting pyasn1>=0.1.3 (from rsa>=3.1.4->google-auth<2.0dev,>=0.4.0->google-api-core<2.0.0dev,>=1.6.0->google-cloud-storage>=1.9.0->mrjob)\n",
      "  Using cached https://files.pythonhosted.org/packages/7b/7c/c9386b82a25115cccf1903441bba3cbadcfae7b678a20167347fa8ded34c/pyasn1-0.4.5-py2.py3-none-any.whl\n",
      "Building wheels for collected packages: googleapis-common-protos\n",
      "  Running setup.py bdist_wheel for googleapis-common-protos ... \u001b[?25ldone\n",
      "\u001b[?25h  Stored in directory: /Users/antelinvestigacionydesarrollo/Library/Caches/pip/wheels/da/6b/81/8573adcbe2aa2ecba92c341dfe19c5b5a733f4514297ba52b4\n",
      "Successfully built googleapis-common-protos\n",
      "Installing collected packages: google-resumable-media, protobuf, googleapis-common-protos, pyasn1, rsa, pyasn1-modules, cachetools, google-auth, google-api-core, google-cloud-core, google-cloud-storage, jmespath, botocore, s3transfer, boto3, google-cloud-dataproc, google-cloud-logging, mrjob\n",
      "Successfully installed boto3-1.9.83 botocore-1.12.83 cachetools-3.0.0 google-api-core-1.7.0 google-auth-1.6.2 google-cloud-core-0.29.1 google-cloud-dataproc-0.3.0 google-cloud-logging-1.10.0 google-cloud-storage-1.13.2 google-resumable-media-0.3.2 googleapis-common-protos-1.5.6 jmespath-0.9.3 mrjob-0.6.7 protobuf-3.6.1 pyasn1-0.4.5 pyasn1-modules-0.2.3 rsa-4.0 s3transfer-0.1.13\n",
      "\u001b[33mYou are using pip version 10.0.1, however version 18.1 is available.\n",
      "You should consider upgrading via the 'pip install --upgrade pip' command.\u001b[0m\n"
     ]
    }
   ],
   "source": [
    "# Install mrjob library. This package is for running MapReduce jobs with Python\n",
    "# In Jupyter notebooks, \"!\" runs terminal commands from inside notebooks \n",
    "\n",
    "! pip install mrjob"
   ]
  },
  {
   "cell_type": "code",
   "execution_count": 2,
   "metadata": {},
   "outputs": [
    {
     "name": "stdout",
     "output_type": "stream",
     "text": [
      "Overwriting wordcount.py\n"
     ]
    }
   ],
   "source": [
    "%%file wordcount.py\n",
    "# %%file is an Ipython magic function that saves the code cell as a file\n",
    "\n",
    "from mrjob.job import MRJob # import the mrjob library\n",
    "\n",
    "class MRSongCount(MRJob):\n",
    "    \n",
    "    # the map step: each line in the txt file is read as a key, value pair\n",
    "    # in this case, each line in the txt file only contains a value but no key\n",
    "    # _ means that in this case, there is no key for each line\n",
    "    def mapper(self, _, song):\n",
    "        # output each line as a tuple of (song_names, 1) \n",
    "        yield (song, 1)\n",
    "\n",
    "    # the reduce step: combine all tuples with the same key\n",
    "    # in this case, the key is the song name\n",
    "    # then sum all the values of the tuple, which will give the total song plays\n",
    "    def reducer(self, key, values):\n",
    "        yield (key, sum(values))\n",
    "        \n",
    "if __name__ == \"__main__\":\n",
    "    MRSongCount.run()"
   ]
  },
  {
   "cell_type": "code",
   "execution_count": 3,
   "metadata": {},
   "outputs": [
    {
     "name": "stdout",
     "output_type": "stream",
     "text": [
      "No configs found; falling back on auto-configuration\n",
      "No configs specified for inline runner\n",
      "Running step 1 of 1...\n",
      "Creating temp directory /var/folders/fr/g9lt2hlj4758md_phv4by1c40000gn/T/wordcount.antelinvestigacionydesarrollo.20190122.170029.012028\n",
      "job output is in /var/folders/fr/g9lt2hlj4758md_phv4by1c40000gn/T/wordcount.antelinvestigacionydesarrollo.20190122.170029.012028/output\n",
      "Streaming final output from /var/folders/fr/g9lt2hlj4758md_phv4by1c40000gn/T/wordcount.antelinvestigacionydesarrollo.20190122.170029.012028/output...\n",
      "\"Deep Dreams\"\t1131\n",
      "\"Data House Rock\"\t828\n",
      "\"Broken Networks\"\t510\n",
      "Removing temp directory /var/folders/fr/g9lt2hlj4758md_phv4by1c40000gn/T/wordcount.antelinvestigacionydesarrollo.20190122.170029.012028...\n"
     ]
    }
   ],
   "source": [
    "# run the code as a terminal command\n",
    "! python wordcount.py songplays.txt"
   ]
  },
  {
   "cell_type": "markdown",
   "metadata": {},
   "source": [
    "# Summary of what happens in the code.\n",
    "\n",
    "There is a list of songs in songplays.txt that looks like the following:\n",
    "\n",
    "Deep Dreams\n",
    "Data House Rock\n",
    "Deep Dreams\n",
    "Data House Rock\n",
    "Broken Networks\n",
    "Data House Rock\n",
    "etc.....\n",
    "\n",
    "During the map step, the code reads in the txt file one line at a time. The map steps outputs a set of tuples that look like this:\n",
    "\n",
    "(Deep Dreams, 1)  \n",
    "(Data House Rock, 1)  \n",
    "(Deep Dreams, 1)  \n",
    "(Data House Rock, 1)  \n",
    "(Broken Networks, 1)  \n",
    "(Data House Rock, 1)  \n",
    "etc.....\n",
    "\n",
    "Finally, the reduce step combines all of the values by keys and sums the values:  \n",
    "\n",
    "(Deep Dreams, \\[1, 1, 1, 1, 1, 1, ... \\])  \n",
    "(Data House Rock, \\[1, 1, 1, 1, 1, 1, 1, 1, 1, 1, 1, ...\\])  \n",
    "(Broken Networks, \\[1, 1, 1, ...\\]  \n",
    "\n",
    "With the output \n",
    "\n",
    "(Deep Dreams, 1131)  \n",
    "(Data House Rock, 510)  \n",
    "(Broken Networks, 828)  "
   ]
  },
  {
   "cell_type": "code",
   "execution_count": null,
   "metadata": {},
   "outputs": [],
   "source": []
  }
 ],
 "metadata": {
  "kernelspec": {
   "display_name": "data",
   "language": "python",
   "name": "data"
  },
  "language_info": {
   "codemirror_mode": {
    "name": "ipython",
    "version": 3
   },
   "file_extension": ".py",
   "mimetype": "text/x-python",
   "name": "python",
   "nbconvert_exporter": "python",
   "pygments_lexer": "ipython3",
   "version": "3.6.5"
  }
 },
 "nbformat": 4,
 "nbformat_minor": 2
}
